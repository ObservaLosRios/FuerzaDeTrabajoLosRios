{
 "cells": [
  {
   "cell_type": "markdown",
   "id": "52225468",
   "metadata": {},
   "source": [
    "# 📊 Dashboard Fuerza de Trabajo - Región de Los Ríos\n",
    "\n",
    "## Análisis Profesional de Datos Laborales INE Chile\n",
    "\n",
    "---\n",
    "\n",
    "### 📋 **Información del Proyecto**\n",
    "\n",
    "| **Campo** | **Detalle** |\n",
    "|-----------|-------------|\n",
    "| **Autor** | Bruno San Martín Navarro |\n",
    "| **Institución** | Universidad Austral de Chile (UACh) |\n",
    "| **Fecha** | Julio 2025 |\n",
    "| **Fuente de Datos** | Instituto Nacional de Estadísticas (INE) - Chile |\n",
    "| **Región de Análisis** | Los Ríos (XIV) |\n",
    "| **Período** | 2010-2024 |\n",
    "\n",
    "---\n",
    "\n",
    "### 🎯 **Objetivos del Dashboard**\n",
    "\n",
    "Este notebook presenta **dos visualizaciones interactivas de alto impacto** para el análisis de la fuerza de trabajo en la Región de Los Ríos:\n",
    "\n",
    "1. **📈 Evolución Temporal**: Análisis de tendencias por género (2010-2024)\n",
    "2. **📊 Dashboard Demográfico**: Panel integral con 4 visualizaciones clave\n",
    "\n",
    "---\n",
    "\n",
    "### ✨ **Características Técnicas**\n",
    "\n",
    "- **🎨 Estilo Visual**: The Economist - Diseño profesional y elegante\n",
    "- **♿ Accesibilidad**: Paleta de colores amigable para daltonismo\n",
    "- **🔧 Interactividad**: Gráficos completamente interactivos con Plotly\n",
    "- **📱 Responsividad**: Optimizado para diferentes tamaños de pantalla\n",
    "- **📈 Estadísticas**: Métricas clave y análisis de tendencias integrados\n",
    "\n",
    "---"
   ]
  },
  {
   "cell_type": "markdown",
   "id": "04a21927",
   "metadata": {},
   "source": [
    "## 📚 **1. Importación de Librerías**\n",
    "\n",
    "Importamos las librerías necesarias para el análisis y visualización de datos."
   ]
  },
  {
   "cell_type": "code",
   "execution_count": 1,
   "id": "b8485bba",
   "metadata": {},
   "outputs": [
    {
     "name": "stdout",
     "output_type": "stream",
     "text": [
      "✅ Librerías importadas exitosamente\n",
      "📅 Fecha de análisis: 2025-07-25 16:30:56\n"
     ]
    }
   ],
   "source": [
    "# Librerías principales de análisis de datos\n",
    "import pandas as pd\n",
    "import numpy as np\n",
    "from datetime import datetime\n",
    "import warnings\n",
    "\n",
    "# Librerías de visualización interactiva\n",
    "import plotly.graph_objects as go\n",
    "import plotly.express as px\n",
    "from plotly.subplots import make_subplots\n",
    "\n",
    "# Librerías estadísticas\n",
    "from scipy import stats\n",
    "\n",
    "# Configuración\n",
    "warnings.filterwarnings('ignore')\n",
    "pd.set_option('display.max_columns', None)\n",
    "pd.set_option('display.precision', 2)\n",
    "\n",
    "print(\"✅ Librerías importadas exitosamente\")\n",
    "print(f\"📅 Fecha de análisis: {datetime.now().strftime('%Y-%m-%d %H:%M:%S')}\")"
   ]
  },
  {
   "cell_type": "markdown",
   "id": "27081a99",
   "metadata": {},
   "source": [
    "## 📥 **2. Carga y Preparación de Datos**\n",
    "\n",
    "Cargamos y preparamos los datos de la fuerza de trabajo de Los Ríos procesados previamente."
   ]
  },
  {
   "cell_type": "code",
   "execution_count": 2,
   "id": "fa0c1ad2",
   "metadata": {},
   "outputs": [
    {
     "name": "stdout",
     "output_type": "stream",
     "text": [
      "📊 Datos cargados desde la sesión actual\n",
      "📁 Datos cargados desde: los_rios_clean_data_20250725.csv\n",
      "   • Registros: 867\n",
      "   • Período: 2010 - 2024\n",
      "\n",
      "🔍 Calidad de los datos:\n",
      "   • Valores nulos: 1734\n",
      "   • Años únicos: 15\n",
      "   • Géneros únicos: 3\n",
      "\n",
      "✅ Datos preparados para visualización\n"
     ]
    }
   ],
   "source": [
    "# Cargar datos procesados de Los Ríos\n",
    "# NOTA: Asegúrate de haber ejecutado el análisis completo previamente\n",
    "# o cargar los datos desde el archivo procesado\n",
    "\n",
    "try:\n",
    "    # Intentar usar datos de la sesión actual\n",
    "    print(f\"📊 Datos cargados desde la sesión actual\")\n",
    "    print(f\"   • Registros: {len(clean_data):,}\")\n",
    "    print(f\"   • Período: {clean_data['año'].min()} - {clean_data['año'].max()}\")\n",
    "    print(f\"   • Géneros: {', '.join(clean_data['sexo'].unique())}\")\n",
    "    \n",
    "except NameError:\n",
    "    # Cargar desde archivo si no están en memoria\n",
    "    from pathlib import Path\n",
    "    \n",
    "    data_path = Path.cwd().parent / \"data\" / \"processed\"\n",
    "    \n",
    "    # Buscar el archivo más reciente\n",
    "    processed_files = list(data_path.glob(\"los_rios_clean_data_*.csv\"))\n",
    "    \n",
    "    if processed_files:\n",
    "        latest_file = max(processed_files, key=lambda x: x.stat().st_mtime)\n",
    "        clean_data = pd.read_csv(latest_file)\n",
    "        print(f\"📁 Datos cargados desde: {latest_file.name}\")\n",
    "        print(f\"   • Registros: {len(clean_data):,}\")\n",
    "        print(f\"   • Período: {clean_data['año'].min()} - {clean_data['año'].max()}\")\n",
    "    else:\n",
    "        print(\"❌ No se encontraron datos procesados\")\n",
    "        print(\"💡 Ejecuta primero el notebook de análisis completo\")\n",
    "        raise FileNotFoundError(\"Datos no encontrados\")\n",
    "\n",
    "# Verificar calidad de los datos\n",
    "print(f\"\\n🔍 Calidad de los datos:\")\n",
    "print(f\"   • Valores nulos: {clean_data.isnull().sum().sum()}\")\n",
    "print(f\"   • Años únicos: {clean_data['año'].nunique()}\")\n",
    "print(f\"   • Géneros únicos: {clean_data['sexo'].nunique()}\")\n",
    "\n",
    "print(f\"\\n✅ Datos preparados para visualización\")"
   ]
  },
  {
   "cell_type": "markdown",
   "id": "f3b060d6",
   "metadata": {},
   "source": [
    "## 🎨 **3. Configuración de Estilos y Paletas**\n",
    "\n",
    "Definimos las paletas de colores y configuraciones de estilo siguiendo los estándares de **The Economist** y asegurando **accesibilidad para daltonismo**."
   ]
  },
  {
   "cell_type": "code",
   "execution_count": 3,
   "id": "947dea01",
   "metadata": {},
   "outputs": [
    {
     "name": "stdout",
     "output_type": "stream",
     "text": [
      "🎨 Configuración de estilos aplicada:\n",
      "   • Paleta temporal: 3 colores\n",
      "   • Paleta dashboard: 3 colores\n",
      "   • Tipografía: Georgia, serif\n",
      "   • Accesibilidad: ✅ Amigable para daltonismo\n"
     ]
    }
   ],
   "source": [
    "# Paleta de colores principal - Optimizada para daltonismo\n",
    "# Basada en la paleta \"Wong\" recomendada para accesibilidad\n",
    "economist_colors_temporal = {\n",
    "    'Ambos sexos': '#1f77b4',  # Azul oscuro - datos totales\n",
    "    'Hombres': '#d62728',      # Rojo carmesí - participación masculina\n",
    "    'Mujeres': '#ff7f0e'       # Naranja - participación femenina\n",
    "}\n",
    "\n",
    "# Paleta para dashboard demográfico\n",
    "economist_colors_dashboard = {\n",
    "    'Ambos sexos': '#0173B2',  # Azul robusto\n",
    "    'Hombres': '#DE8F05',      # Naranja dorado\n",
    "    'Mujeres': '#CC78BC'       # Rosa púrpura\n",
    "}\n",
    "\n",
    "# Colores complementarios para análisis adicionales\n",
    "accent_colors = ['#029E73', '#D55E00', '#949494', '#FBAFE4', '#56B4E9']\n",
    "\n",
    "# Configuración de tipografía The Economist\n",
    "font_config = {\n",
    "    'family': 'Georgia, serif',\n",
    "    'color': '#1e293b',\n",
    "    'title_size': 22,\n",
    "    'subtitle_size': 18,\n",
    "    'axis_size': 14,\n",
    "    'legend_size': 14,\n",
    "    'annotation_size': 11\n",
    "}\n",
    "\n",
    "# Configuración de layout\n",
    "layout_config = {\n",
    "    'plot_bgcolor': 'white',\n",
    "    'paper_bgcolor': 'white',\n",
    "    'grid_color': '#e5e7eb',\n",
    "    'line_color': '#1e293b'\n",
    "}\n",
    "\n",
    "print(\"🎨 Configuración de estilos aplicada:\")\n",
    "print(f\"   • Paleta temporal: {len(economist_colors_temporal)} colores\")\n",
    "print(f\"   • Paleta dashboard: {len(economist_colors_dashboard)} colores\")\n",
    "print(f\"   • Tipografía: {font_config['family']}\")\n",
    "print(f\"   • Accesibilidad: ✅ Amigable para daltonismo\")"
   ]
  },
  {
   "cell_type": "markdown",
   "id": "d68055d2",
   "metadata": {},
   "source": [
    "## 📈 **4. Visualización I: Evolución Temporal de la Fuerza de Trabajo**\n",
    "\n",
    "### Análisis de tendencias históricas por género (2010-2024)\n",
    "\n",
    "Esta visualización presenta la **evolución temporal completa** de la fuerza de trabajo en Los Ríos, mostrando:\n",
    "\n",
    "- 📊 **Tendencias por género**: Comparación entre hombres, mujeres y totales\n",
    "- 🔍 **Eventos significativos**: Marcadores de impacto (COVID-19, cambios estructurales)\n",
    "- 📈 **Interactividad**: Hover detallado y navegación temporal\n",
    "- 🎯 **Insights clave**: Estadísticas resumidas y métricas principales"
   ]
  },
  {
   "cell_type": "code",
   "execution_count": 4,
   "id": "ef364552",
   "metadata": {},
   "outputs": [
    {
     "name": "stdout",
     "output_type": "stream",
     "text": [
      "📈 EVOLUCIÓN TEMPORAL DE LA FUERZA DE TRABAJO - LOS RÍOS\n",
      "============================================================\n"
     ]
    },
    {
     "data": {
      "application/vnd.plotly.v1+json": {
       "config": {
        "plotlyServerURL": "https://plot.ly"
       },
       "data": [
        {
         "hovertemplate": "<b>Ambos sexos</b><br>Año: %{x}<br>Fuerza de Trabajo: %{y:.1f} miles<br><extra></extra>",
         "line": {
          "color": "#1f77b4",
          "width": 3
         },
         "marker": {
          "color": "#1f77b4",
          "size": 8
         },
         "mode": "lines+markers",
         "name": "Ambos sexos",
         "type": "scatter",
         "x": {
          "bdata": "2gfbB9wH3QfeB98H4AfhB+IH4wfkB+UH5gfnB+gH",
          "dtype": "i2"
         },
         "y": {
          "bdata": "NefEmUjJY0CW+LBF8h1lQO3zFUX+E2ZA4eYJBpfuZkAwQ6CcW/hmQCXmXtbKN2dAdXwkylkbaECX6k9ixUJpQF9RVCelEmlAkTZaQlPqaEAw1Y3n8QtmQFnW2ZRELGZAK+oh4dSOZ0APRHA/sVNoQARQpSXyKmlA",
          "dtype": "f8"
         }
        },
        {
         "hovertemplate": "<b>Hombres</b><br>Año: %{x}<br>Fuerza de Trabajo: %{y:.1f} miles<br><extra></extra>",
         "line": {
          "color": "#d62728",
          "width": 3
         },
         "marker": {
          "color": "#d62728",
          "size": 8
         },
         "mode": "lines+markers",
         "name": "Hombres",
         "type": "scatter",
         "x": {
          "bdata": "2gfbB9wH3QfeB98H4AfhB+IH4wfkB+UH5gfnB+gH",
          "dtype": "i2"
         },
         "y": {
          "bdata": "pKrpGcNnWECTkm1EMh5aQDAyNs008VpAY9w5aOCvW0Bze0ozFltbQDi0KRtvVltAdE84/KA7XECledYAN81dQMBO3cylQV1AJ6GTcczgXEDc+GP9dxhaQGA98k/GYFpAIdGf3HwyW0BI/ZeEschbQG2vi0LR71tA",
          "dtype": "f8"
         }
        },
        {
         "hovertemplate": "<b>Mujeres</b><br>Año: %{x}<br>Fuerza de Trabajo: %{y:.1f} miles<br><extra></extra>",
         "line": {
          "color": "#ff7f0e",
          "width": 3
         },
         "marker": {
          "color": "#ff7f0e",
          "size": 8
         },
         "mode": "lines+markers",
         "name": "Mujeres",
         "type": "scatter",
         "x": {
          "bdata": "2gfbB9wH3QfeB98H4AfhB+IH4wfkB+UH5gfnB+gH",
          "dtype": "i2"
         },
         "y": {
          "bdata": "j0dAM5xVTkCdXvRGsh1QQKu19bzHNlFAZ/HZo00tUkDvCvYFoZVSQA0YlJEmGVNAeakQmBL7U0B5W8nDU7hUQPtTy4Gk41RA9MsgE9rzVECFsbfRa/9RQFFvwdnC91FALQOk5SzrU0DUikj6sN5UQKjwvggTZlZA",
          "dtype": "f8"
         }
        }
       ],
       "layout": {
        "annotations": [
         {
          "arrowcolor": "#636363",
          "arrowhead": 2,
          "arrowsize": 1,
          "arrowwidth": 2,
          "ax": 30,
          "ay": -40,
          "bgcolor": "#fff3cd",
          "bordercolor": "#856404",
          "borderwidth": 1,
          "font": {
           "color": "#856404",
           "family": "Georgia, serif",
           "size": 11
          },
          "opacity": 0.9,
          "showarrow": true,
          "text": "Inicio COVID-19",
          "x": 2020,
          "y": 175
         },
         {
          "arrowcolor": "#ff7f0e",
          "arrowhead": 2,
          "arrowsize": 1,
          "arrowwidth": 2,
          "ax": 0,
          "ay": -30,
          "bgcolor": "#fff0e6",
          "bordercolor": "#ff7f0e",
          "borderwidth": 1,
          "font": {
           "color": "#cc5500",
           "family": "Georgia, serif",
           "size": 10
          },
          "opacity": 0.9,
          "showarrow": true,
          "text": "Crecimiento<br>Participación Femenina",
          "x": 2022,
          "y": 80
         }
        ],
        "font": {
         "color": "#1e293b",
         "family": "Georgia, serif"
        },
        "height": 650,
        "hovermode": "x unified",
        "legend": {
         "bgcolor": "rgba(255,255,255,0.85)",
         "bordercolor": "rgba(0,0,0,0)",
         "borderwidth": 0,
         "font": {
          "color": "#1e293b",
          "family": "Georgia, serif",
          "size": 14
         },
         "orientation": "h",
         "x": 0.98,
         "xanchor": "right",
         "y": 1.05,
         "yanchor": "top"
        },
        "paper_bgcolor": "white",
        "plot_bgcolor": "white",
        "showlegend": true,
        "template": {
         "data": {
          "bar": [
           {
            "error_x": {
             "color": "#2a3f5f"
            },
            "error_y": {
             "color": "#2a3f5f"
            },
            "marker": {
             "line": {
              "color": "#E5ECF6",
              "width": 0.5
             },
             "pattern": {
              "fillmode": "overlay",
              "size": 10,
              "solidity": 0.2
             }
            },
            "type": "bar"
           }
          ],
          "barpolar": [
           {
            "marker": {
             "line": {
              "color": "#E5ECF6",
              "width": 0.5
             },
             "pattern": {
              "fillmode": "overlay",
              "size": 10,
              "solidity": 0.2
             }
            },
            "type": "barpolar"
           }
          ],
          "carpet": [
           {
            "aaxis": {
             "endlinecolor": "#2a3f5f",
             "gridcolor": "white",
             "linecolor": "white",
             "minorgridcolor": "white",
             "startlinecolor": "#2a3f5f"
            },
            "baxis": {
             "endlinecolor": "#2a3f5f",
             "gridcolor": "white",
             "linecolor": "white",
             "minorgridcolor": "white",
             "startlinecolor": "#2a3f5f"
            },
            "type": "carpet"
           }
          ],
          "choropleth": [
           {
            "colorbar": {
             "outlinewidth": 0,
             "ticks": ""
            },
            "type": "choropleth"
           }
          ],
          "contour": [
           {
            "colorbar": {
             "outlinewidth": 0,
             "ticks": ""
            },
            "colorscale": [
             [
              0,
              "#0d0887"
             ],
             [
              0.1111111111111111,
              "#46039f"
             ],
             [
              0.2222222222222222,
              "#7201a8"
             ],
             [
              0.3333333333333333,
              "#9c179e"
             ],
             [
              0.4444444444444444,
              "#bd3786"
             ],
             [
              0.5555555555555556,
              "#d8576b"
             ],
             [
              0.6666666666666666,
              "#ed7953"
             ],
             [
              0.7777777777777778,
              "#fb9f3a"
             ],
             [
              0.8888888888888888,
              "#fdca26"
             ],
             [
              1,
              "#f0f921"
             ]
            ],
            "type": "contour"
           }
          ],
          "contourcarpet": [
           {
            "colorbar": {
             "outlinewidth": 0,
             "ticks": ""
            },
            "type": "contourcarpet"
           }
          ],
          "heatmap": [
           {
            "colorbar": {
             "outlinewidth": 0,
             "ticks": ""
            },
            "colorscale": [
             [
              0,
              "#0d0887"
             ],
             [
              0.1111111111111111,
              "#46039f"
             ],
             [
              0.2222222222222222,
              "#7201a8"
             ],
             [
              0.3333333333333333,
              "#9c179e"
             ],
             [
              0.4444444444444444,
              "#bd3786"
             ],
             [
              0.5555555555555556,
              "#d8576b"
             ],
             [
              0.6666666666666666,
              "#ed7953"
             ],
             [
              0.7777777777777778,
              "#fb9f3a"
             ],
             [
              0.8888888888888888,
              "#fdca26"
             ],
             [
              1,
              "#f0f921"
             ]
            ],
            "type": "heatmap"
           }
          ],
          "histogram": [
           {
            "marker": {
             "pattern": {
              "fillmode": "overlay",
              "size": 10,
              "solidity": 0.2
             }
            },
            "type": "histogram"
           }
          ],
          "histogram2d": [
           {
            "colorbar": {
             "outlinewidth": 0,
             "ticks": ""
            },
            "colorscale": [
             [
              0,
              "#0d0887"
             ],
             [
              0.1111111111111111,
              "#46039f"
             ],
             [
              0.2222222222222222,
              "#7201a8"
             ],
             [
              0.3333333333333333,
              "#9c179e"
             ],
             [
              0.4444444444444444,
              "#bd3786"
             ],
             [
              0.5555555555555556,
              "#d8576b"
             ],
             [
              0.6666666666666666,
              "#ed7953"
             ],
             [
              0.7777777777777778,
              "#fb9f3a"
             ],
             [
              0.8888888888888888,
              "#fdca26"
             ],
             [
              1,
              "#f0f921"
             ]
            ],
            "type": "histogram2d"
           }
          ],
          "histogram2dcontour": [
           {
            "colorbar": {
             "outlinewidth": 0,
             "ticks": ""
            },
            "colorscale": [
             [
              0,
              "#0d0887"
             ],
             [
              0.1111111111111111,
              "#46039f"
             ],
             [
              0.2222222222222222,
              "#7201a8"
             ],
             [
              0.3333333333333333,
              "#9c179e"
             ],
             [
              0.4444444444444444,
              "#bd3786"
             ],
             [
              0.5555555555555556,
              "#d8576b"
             ],
             [
              0.6666666666666666,
              "#ed7953"
             ],
             [
              0.7777777777777778,
              "#fb9f3a"
             ],
             [
              0.8888888888888888,
              "#fdca26"
             ],
             [
              1,
              "#f0f921"
             ]
            ],
            "type": "histogram2dcontour"
           }
          ],
          "mesh3d": [
           {
            "colorbar": {
             "outlinewidth": 0,
             "ticks": ""
            },
            "type": "mesh3d"
           }
          ],
          "parcoords": [
           {
            "line": {
             "colorbar": {
              "outlinewidth": 0,
              "ticks": ""
             }
            },
            "type": "parcoords"
           }
          ],
          "pie": [
           {
            "automargin": true,
            "type": "pie"
           }
          ],
          "scatter": [
           {
            "fillpattern": {
             "fillmode": "overlay",
             "size": 10,
             "solidity": 0.2
            },
            "type": "scatter"
           }
          ],
          "scatter3d": [
           {
            "line": {
             "colorbar": {
              "outlinewidth": 0,
              "ticks": ""
             }
            },
            "marker": {
             "colorbar": {
              "outlinewidth": 0,
              "ticks": ""
             }
            },
            "type": "scatter3d"
           }
          ],
          "scattercarpet": [
           {
            "marker": {
             "colorbar": {
              "outlinewidth": 0,
              "ticks": ""
             }
            },
            "type": "scattercarpet"
           }
          ],
          "scattergeo": [
           {
            "marker": {
             "colorbar": {
              "outlinewidth": 0,
              "ticks": ""
             }
            },
            "type": "scattergeo"
           }
          ],
          "scattergl": [
           {
            "marker": {
             "colorbar": {
              "outlinewidth": 0,
              "ticks": ""
             }
            },
            "type": "scattergl"
           }
          ],
          "scattermap": [
           {
            "marker": {
             "colorbar": {
              "outlinewidth": 0,
              "ticks": ""
             }
            },
            "type": "scattermap"
           }
          ],
          "scattermapbox": [
           {
            "marker": {
             "colorbar": {
              "outlinewidth": 0,
              "ticks": ""
             }
            },
            "type": "scattermapbox"
           }
          ],
          "scatterpolar": [
           {
            "marker": {
             "colorbar": {
              "outlinewidth": 0,
              "ticks": ""
             }
            },
            "type": "scatterpolar"
           }
          ],
          "scatterpolargl": [
           {
            "marker": {
             "colorbar": {
              "outlinewidth": 0,
              "ticks": ""
             }
            },
            "type": "scatterpolargl"
           }
          ],
          "scatterternary": [
           {
            "marker": {
             "colorbar": {
              "outlinewidth": 0,
              "ticks": ""
             }
            },
            "type": "scatterternary"
           }
          ],
          "surface": [
           {
            "colorbar": {
             "outlinewidth": 0,
             "ticks": ""
            },
            "colorscale": [
             [
              0,
              "#0d0887"
             ],
             [
              0.1111111111111111,
              "#46039f"
             ],
             [
              0.2222222222222222,
              "#7201a8"
             ],
             [
              0.3333333333333333,
              "#9c179e"
             ],
             [
              0.4444444444444444,
              "#bd3786"
             ],
             [
              0.5555555555555556,
              "#d8576b"
             ],
             [
              0.6666666666666666,
              "#ed7953"
             ],
             [
              0.7777777777777778,
              "#fb9f3a"
             ],
             [
              0.8888888888888888,
              "#fdca26"
             ],
             [
              1,
              "#f0f921"
             ]
            ],
            "type": "surface"
           }
          ],
          "table": [
           {
            "cells": {
             "fill": {
              "color": "#EBF0F8"
             },
             "line": {
              "color": "white"
             }
            },
            "header": {
             "fill": {
              "color": "#C8D4E3"
             },
             "line": {
              "color": "white"
             }
            },
            "type": "table"
           }
          ]
         },
         "layout": {
          "annotationdefaults": {
           "arrowcolor": "#2a3f5f",
           "arrowhead": 0,
           "arrowwidth": 1
          },
          "autotypenumbers": "strict",
          "coloraxis": {
           "colorbar": {
            "outlinewidth": 0,
            "ticks": ""
           }
          },
          "colorscale": {
           "diverging": [
            [
             0,
             "#8e0152"
            ],
            [
             0.1,
             "#c51b7d"
            ],
            [
             0.2,
             "#de77ae"
            ],
            [
             0.3,
             "#f1b6da"
            ],
            [
             0.4,
             "#fde0ef"
            ],
            [
             0.5,
             "#f7f7f7"
            ],
            [
             0.6,
             "#e6f5d0"
            ],
            [
             0.7,
             "#b8e186"
            ],
            [
             0.8,
             "#7fbc41"
            ],
            [
             0.9,
             "#4d9221"
            ],
            [
             1,
             "#276419"
            ]
           ],
           "sequential": [
            [
             0,
             "#0d0887"
            ],
            [
             0.1111111111111111,
             "#46039f"
            ],
            [
             0.2222222222222222,
             "#7201a8"
            ],
            [
             0.3333333333333333,
             "#9c179e"
            ],
            [
             0.4444444444444444,
             "#bd3786"
            ],
            [
             0.5555555555555556,
             "#d8576b"
            ],
            [
             0.6666666666666666,
             "#ed7953"
            ],
            [
             0.7777777777777778,
             "#fb9f3a"
            ],
            [
             0.8888888888888888,
             "#fdca26"
            ],
            [
             1,
             "#f0f921"
            ]
           ],
           "sequentialminus": [
            [
             0,
             "#0d0887"
            ],
            [
             0.1111111111111111,
             "#46039f"
            ],
            [
             0.2222222222222222,
             "#7201a8"
            ],
            [
             0.3333333333333333,
             "#9c179e"
            ],
            [
             0.4444444444444444,
             "#bd3786"
            ],
            [
             0.5555555555555556,
             "#d8576b"
            ],
            [
             0.6666666666666666,
             "#ed7953"
            ],
            [
             0.7777777777777778,
             "#fb9f3a"
            ],
            [
             0.8888888888888888,
             "#fdca26"
            ],
            [
             1,
             "#f0f921"
            ]
           ]
          },
          "colorway": [
           "#636efa",
           "#EF553B",
           "#00cc96",
           "#ab63fa",
           "#FFA15A",
           "#19d3f3",
           "#FF6692",
           "#B6E880",
           "#FF97FF",
           "#FECB52"
          ],
          "font": {
           "color": "#2a3f5f"
          },
          "geo": {
           "bgcolor": "white",
           "lakecolor": "white",
           "landcolor": "#E5ECF6",
           "showlakes": true,
           "showland": true,
           "subunitcolor": "white"
          },
          "hoverlabel": {
           "align": "left"
          },
          "hovermode": "closest",
          "mapbox": {
           "style": "light"
          },
          "paper_bgcolor": "white",
          "plot_bgcolor": "#E5ECF6",
          "polar": {
           "angularaxis": {
            "gridcolor": "white",
            "linecolor": "white",
            "ticks": ""
           },
           "bgcolor": "#E5ECF6",
           "radialaxis": {
            "gridcolor": "white",
            "linecolor": "white",
            "ticks": ""
           }
          },
          "scene": {
           "xaxis": {
            "backgroundcolor": "#E5ECF6",
            "gridcolor": "white",
            "gridwidth": 2,
            "linecolor": "white",
            "showbackground": true,
            "ticks": "",
            "zerolinecolor": "white"
           },
           "yaxis": {
            "backgroundcolor": "#E5ECF6",
            "gridcolor": "white",
            "gridwidth": 2,
            "linecolor": "white",
            "showbackground": true,
            "ticks": "",
            "zerolinecolor": "white"
           },
           "zaxis": {
            "backgroundcolor": "#E5ECF6",
            "gridcolor": "white",
            "gridwidth": 2,
            "linecolor": "white",
            "showbackground": true,
            "ticks": "",
            "zerolinecolor": "white"
           }
          },
          "shapedefaults": {
           "line": {
            "color": "#2a3f5f"
           }
          },
          "ternary": {
           "aaxis": {
            "gridcolor": "white",
            "linecolor": "white",
            "ticks": ""
           },
           "baxis": {
            "gridcolor": "white",
            "linecolor": "white",
            "ticks": ""
           },
           "bgcolor": "#E5ECF6",
           "caxis": {
            "gridcolor": "white",
            "linecolor": "white",
            "ticks": ""
           }
          },
          "title": {
           "x": 0.05
          },
          "xaxis": {
           "automargin": true,
           "gridcolor": "white",
           "linecolor": "white",
           "ticks": "",
           "title": {
            "standoff": 15
           },
           "zerolinecolor": "white",
           "zerolinewidth": 2
          },
          "yaxis": {
           "automargin": true,
           "gridcolor": "white",
           "linecolor": "white",
           "ticks": "",
           "title": {
            "standoff": 15
           },
           "zerolinecolor": "white",
           "zerolinewidth": 2
          }
         }
        },
        "title": {
         "font": {
          "color": "#1e293b",
          "family": "Georgia, serif",
          "size": 22
         },
         "text": "Evolución de la Fuerza de Trabajo - Región de Los Ríos (2010-2024)",
         "x": 0.02,
         "xanchor": "left"
        },
        "width": 1100,
        "xaxis": {
         "dtick": 2,
         "gridcolor": "#e5e7eb",
         "gridwidth": 1,
         "linecolor": "#1e293b",
         "linewidth": 2,
         "showgrid": false,
         "showline": true,
         "tick0": 2010,
         "tickfont": {
          "color": "#1e293b",
          "family": "Georgia, serif",
          "size": 12
         },
         "title": {
          "font": {
           "color": "#1e293b",
           "family": "Georgia, serif",
           "size": 14
          },
          "text": "Año"
         }
        },
        "yaxis": {
         "gridcolor": "#e5e7eb",
         "gridwidth": 1,
         "linecolor": "#1e293b",
         "linewidth": 2,
         "showgrid": true,
         "showline": true,
         "tickfont": {
          "color": "#1e293b",
          "family": "Georgia, serif",
          "size": 12
         },
         "title": {
          "font": {
           "color": "#1e293b",
           "family": "Georgia, serif",
           "size": 14
          },
          "text": "Fuerza de Trabajo (miles de personas)"
         }
        }
       }
      }
     },
     "metadata": {},
     "output_type": "display_data"
    },
    {
     "name": "stdout",
     "output_type": "stream",
     "text": [
      "\n",
      "✅ Gráfico de evolución temporal generado exitosamente\n"
     ]
    }
   ],
   "source": [
    "# EVOLUCIÓN TEMPORAL DE LA FUERZA DE TRABAJO - INTERACTIVO\n",
    "print(\"📈 EVOLUCIÓN TEMPORAL DE LA FUERZA DE TRABAJO - LOS RÍOS\")\n",
    "print(\"=\" * 60)\n",
    "\n",
    "# Preparar datos para gráfico temporal\n",
    "yearly_data = clean_data.groupby(['año', 'sexo'])['value'].mean().reset_index()\n",
    "\n",
    "# Crear gráfico interactivo principal\n",
    "fig = go.Figure()\n",
    "\n",
    "# Agregar líneas para cada género con estilo The Economist\n",
    "for sexo in ['Ambos sexos', 'Hombres', 'Mujeres']:\n",
    "    data_sexo = yearly_data[yearly_data['sexo'] == sexo]\n",
    "    \n",
    "    fig.add_trace(go.Scatter(\n",
    "        x=data_sexo['año'],\n",
    "        y=data_sexo['value'],\n",
    "        mode='lines+markers',\n",
    "        name=sexo,\n",
    "        line=dict(color=economist_colors_temporal[sexo], width=3),\n",
    "        marker=dict(size=8, color=economist_colors_temporal[sexo]),\n",
    "        hovertemplate=f'<b>{sexo}</b><br>' +\n",
    "                      'Año: %{x}<br>' +\n",
    "                      'Fuerza de Trabajo: %{y:.1f} miles<br>' +\n",
    "                      '<extra></extra>'\n",
    "    ))\n",
    "\n",
    "# Agregar anotaciones importantes\n",
    "fig.add_annotation(\n",
    "    x=2020, y=175,\n",
    "    text=\"Inicio COVID-19\",\n",
    "    showarrow=True,\n",
    "    arrowhead=2,\n",
    "    arrowsize=1,\n",
    "    arrowwidth=2,\n",
    "    arrowcolor=\"#636363\",\n",
    "    ax=30, ay=-40,\n",
    "    bgcolor=\"#fff3cd\",\n",
    "    bordercolor=\"#856404\",\n",
    "    borderwidth=1,\n",
    "    opacity=0.9,\n",
    "    font=dict(family=font_config['family'], size=font_config['annotation_size'], color='#856404')\n",
    ")\n",
    "\n",
    "# Destacar el crecimiento en participación femenina\n",
    "fig.add_annotation(\n",
    "    x=2022, y=80,\n",
    "    text=\"Crecimiento<br>Participación Femenina\",\n",
    "    showarrow=True,\n",
    "    arrowhead=2,\n",
    "    arrowsize=1,\n",
    "    arrowwidth=2,\n",
    "    arrowcolor=\"#ff7f0e\",\n",
    "    ax=0, ay=-30,\n",
    "    bgcolor=\"#fff0e6\",\n",
    "    bordercolor=\"#ff7f0e\",\n",
    "    borderwidth=1,\n",
    "    opacity=0.9,\n",
    "    font=dict(family=font_config['family'], size=10, color='#cc5500')\n",
    ")\n",
    "\n",
    "# Aplicar estilo The Economist\n",
    "fig.update_layout(\n",
    "    title={\n",
    "        'text': 'Evolución de la Fuerza de Trabajo - Región de Los Ríos (2010-2024)',\n",
    "        'x': 0.02,\n",
    "        'font': {'size': font_config['title_size'], 'family': font_config['family'], 'color': font_config['color']},\n",
    "        'xanchor': 'left'\n",
    "    },\n",
    "    xaxis_title='Año',\n",
    "    yaxis_title='Fuerza de Trabajo (miles de personas)',\n",
    "    hovermode='x unified',\n",
    "    width=1100,\n",
    "    height=650,\n",
    "    showlegend=True,\n",
    "    legend=dict(\n",
    "        orientation=\"h\",\n",
    "        yanchor=\"top\",\n",
    "        y=1.05,\n",
    "        xanchor=\"right\",\n",
    "        x=0.98,\n",
    "        bgcolor=\"rgba(255,255,255,0.85)\",\n",
    "        bordercolor=\"rgba(0,0,0,0)\",\n",
    "        borderwidth=0,\n",
    "        font=dict(family=font_config['family'], color=font_config['color'], size=font_config['legend_size'])\n",
    "    ),\n",
    "    plot_bgcolor=layout_config['plot_bgcolor'],\n",
    "    paper_bgcolor=layout_config['paper_bgcolor'],\n",
    "    font=dict(family=font_config['family'], color=font_config['color']),\n",
    "    xaxis=dict(\n",
    "        title=dict(font=dict(family=font_config['family'], color=font_config['color'], size=font_config['axis_size'])),\n",
    "        tickfont=dict(family=font_config['family'], color=font_config['color'], size=12),\n",
    "        showgrid=False,\n",
    "        gridcolor=layout_config['grid_color'],\n",
    "        gridwidth=1,\n",
    "        showline=True,\n",
    "        linecolor=layout_config['line_color'],\n",
    "        linewidth=2,\n",
    "        tick0=2010,\n",
    "        dtick=2\n",
    "    ),\n",
    "    yaxis=dict(\n",
    "        title=dict(font=dict(family=font_config['family'], color=font_config['color'], size=font_config['axis_size'])),\n",
    "        tickfont=dict(family=font_config['family'], color=font_config['color'], size=12),\n",
    "        showgrid=True,\n",
    "        gridcolor=layout_config['grid_color'],\n",
    "        gridwidth=1,\n",
    "        showline=True,\n",
    "        linecolor=layout_config['line_color'],\n",
    "        linewidth=2\n",
    "    )\n",
    ")\n",
    "\n",
    "# Mostrar gráfico\n",
    "fig.show()\n",
    "\n",
    "print(\"\\n✅ Gráfico de evolución temporal generado exitosamente\")"
   ]
  },
  {
   "cell_type": "markdown",
   "id": "24e3b2cf",
   "metadata": {},
   "source": [
    "### 📊 **Estadísticas Clave - Evolución Temporal**"
   ]
  },
  {
   "cell_type": "code",
   "execution_count": 5,
   "id": "3b0e8a57",
   "metadata": {},
   "outputs": [
    {
     "name": "stdout",
     "output_type": "stream",
     "text": [
      "📊 ESTADÍSTICAS CLAVE - EVOLUCIÓN TEMPORAL\n",
      "--------------------------------------------------\n",
      "• Ambos sexos (2024): 201.3 miles\n",
      "• Hombres (2024): 111.7 miles\n",
      "• Mujeres (2024): 89.6 miles\n",
      "\n",
      "📈 TENDENCIAS:\n",
      "• Crecimiento promedio anual: 1.80 miles/año\n",
      "• Correlación con el tiempo: 0.622\n",
      "• Participación femenina actual: 44.5%\n",
      "\n",
      "🔮 PROYECCIONES 2025-2027:\n",
      "• 2025: 200.4 miles de personas\n",
      "• 2026: 202.2 miles de personas\n",
      "• 2027: 204.0 miles de personas\n",
      "\n",
      "==================================================\n"
     ]
    }
   ],
   "source": [
    "# Calcular estadísticas clave para el análisis temporal\n",
    "print(\"📊 ESTADÍSTICAS CLAVE - EVOLUCIÓN TEMPORAL\")\n",
    "print(\"-\" * 50)\n",
    "\n",
    "# Datos más recientes\n",
    "latest_year = clean_data['año'].max()\n",
    "latest_values = clean_data[clean_data['año'] == latest_year].groupby('sexo')['value'].mean()\n",
    "\n",
    "# Mostrar valores por género\n",
    "for sexo in ['Ambos sexos', 'Hombres', 'Mujeres']:\n",
    "    if sexo in latest_values.index:\n",
    "        print(f\"• {sexo} ({latest_year}): {latest_values[sexo]:.1f} miles\")\n",
    "\n",
    "# Calcular tendencia de crecimiento\n",
    "yearly_totals = clean_data[clean_data['sexo'] == 'Ambos sexos'].groupby('año')['value'].mean()\n",
    "X = yearly_totals.index.values\n",
    "y = yearly_totals.values\n",
    "\n",
    "# Regresión lineal para tendencia\n",
    "n = len(X)\n",
    "sum_x = np.sum(X)\n",
    "sum_y = np.sum(y)\n",
    "sum_xy = np.sum(X * y)\n",
    "sum_x2 = np.sum(X * X)\n",
    "\n",
    "slope = (n * sum_xy - sum_x * sum_y) / (n * sum_x2 - sum_x * sum_x)\n",
    "intercept = (sum_y - slope * sum_x) / n\n",
    "\n",
    "# Calcular R²\n",
    "y_pred = slope * X + intercept\n",
    "ss_res = np.sum((y - y_pred) ** 2)\n",
    "ss_tot = np.sum((y - np.mean(y)) ** 2)\n",
    "r2 = 1 - (ss_res / ss_tot)\n",
    "\n",
    "print(f\"\\n📈 TENDENCIAS:\")\n",
    "print(f\"• Crecimiento promedio anual: {slope:.2f} miles/año\")\n",
    "print(f\"• Correlación con el tiempo: {np.sqrt(r2):.3f}\")\n",
    "\n",
    "# Participación femenina actual\n",
    "if 'Ambos sexos' in latest_values.index and 'Mujeres' in latest_values.index:\n",
    "    participacion_actual = (latest_values['Mujeres'] / latest_values['Ambos sexos']) * 100\n",
    "    print(f\"• Participación femenina actual: {participacion_actual:.1f}%\")\n",
    "\n",
    "# Proyecciones\n",
    "print(f\"\\n🔮 PROYECCIONES 2025-2027:\")\n",
    "for year in [2025, 2026, 2027]:\n",
    "    projection = slope * year + intercept\n",
    "    print(f\"• {year}: {projection:.1f} miles de personas\")\n",
    "\n",
    "print(\"\\n\" + \"=\"*50)"
   ]
  },
  {
   "cell_type": "markdown",
   "id": "0c48927e",
   "metadata": {},
   "source": [
    "---\n",
    "\n",
    "## 📊 **5. Visualización II: Dashboard Demográfico Integral**\n",
    "\n",
    "### Panel interactivo con análisis multidimensional\n",
    "\n",
    "Este dashboard presenta **cuatro visualizaciones integradas** que ofrecen una visión completa del mercado laboral en Los Ríos:\n",
    "\n",
    "| **Panel** | **Visualización** | **Propósito** |\n",
    "|-----------|-------------------|---------------|\n",
    "| **Superior Izquierdo** | 🥧 Distribución por Género | Composición actual de la fuerza laboral |\n",
    "| **Superior Derecho** | 📈 Evolución Participación Femenina | Tendencias de inclusión laboral |\n",
    "| **Inferior Izquierdo** | 📊 Comparación por Décadas | Análisis generacional del empleo |\n",
    "| **Inferior Derecho** | ⚖️ Brecha de Género Histórica | Evolución de las diferencias salariales |\n",
    "\n",
    "### ✨ **Características del Dashboard**\n",
    "\n",
    "- **🎨 Diseño coherente**: Estilo The Economist unificado\n",
    "- **📱 Responsive**: Adaptable a diferentes dispositivos\n",
    "- **🔍 Análisis profundo**: Tendencias, patrones y correlaciones\n",
    "- **♿ Accesible**: Colores y tipografías optimizadas"
   ]
  },
  {
   "cell_type": "code",
   "execution_count": 6,
   "id": "593f9ca9",
   "metadata": {},
   "outputs": [
    {
     "name": "stdout",
     "output_type": "stream",
     "text": [
      "📊 DASHBOARD DEMOGRÁFICO INTEGRAL - REGIÓN DE LOS RÍOS\n",
      "==========================================================\n",
      "\n",
      "🎨 Aplicando estilo The Economist...\n"
     ]
    }
   ],
   "source": [
    "# DASHBOARD DEMOGRÁFICO INTEGRAL - ESTILO THE ECONOMIST\n",
    "print(\"📊 DASHBOARD DEMOGRÁFICO INTEGRAL - REGIÓN DE LOS RÍOS\")\n",
    "print(\"=\" * 58)\n",
    "\n",
    "# Crear estructura de subplots con estilo profesional\n",
    "fig = make_subplots(\n",
    "    rows=2, cols=2,\n",
    "    subplot_titles=(\n",
    "        'Distribución por Género (2024)', \n",
    "        'Evolución Participación Femenina (%)', \n",
    "        'Comparación por Décadas', \n",
    "        'Brecha de Género Histórica (miles de personas)'\n",
    "    ),\n",
    "    specs=[\n",
    "        [{\"type\": \"pie\"}, {\"type\": \"scatter\"}],\n",
    "        [{\"type\": \"bar\"}, {\"type\": \"scatter\"}]\n",
    "    ],\n",
    "    horizontal_spacing=0.12,\n",
    "    vertical_spacing=0.15\n",
    ")\n",
    "\n",
    "# 1. PANEL SUPERIOR IZQUIERDO: Distribución por género (gráfico de dona elegante)\n",
    "latest_data_dashboard = clean_data[clean_data['año'] == clean_data['año'].max()]\n",
    "gender_dist = latest_data_dashboard.groupby('sexo')['value'].mean()\n",
    "gender_dist_clean = gender_dist[gender_dist.index != 'Ambos sexos']\n",
    "\n",
    "fig.add_trace(\n",
    "    go.Pie(\n",
    "        labels=gender_dist_clean.index, \n",
    "        values=gender_dist_clean.values,\n",
    "        hole=0.6,  # Dona elegante con mayor espacio central\n",
    "        marker=dict(\n",
    "            colors=[economist_colors_dashboard['Hombres'], economist_colors_dashboard['Mujeres']],\n",
    "            line=dict(color='#FFFFFF', width=3)\n",
    "        ),\n",
    "        textfont=dict(family=font_config['family'], color='#2c3e50', size=14, weight='bold'),\n",
    "        textposition='outside',\n",
    "        textinfo='label+percent',\n",
    "        hovertemplate='<b>%{label}</b><br>Fuerza de trabajo: %{value:.1f} miles<br>Proporción: %{percent}<extra></extra>',\n",
    "        showlegend=False,\n",
    "        pull=[0.05, 0.05]  # Separación elegante entre segmentos\n",
    "    ),\n",
    "    row=1, col=1\n",
    ")\n",
    "\n",
    "# 2. PANEL SUPERIOR DERECHO: Evolución de participación femenina\n",
    "yearly_gender = clean_data.pivot_table(index='año', columns='sexo', values='value', aggfunc='mean')\n",
    "if 'Ambos sexos' in yearly_gender.columns and 'Mujeres' in yearly_gender.columns:\n",
    "    participation = (yearly_gender['Mujeres'] / yearly_gender['Ambos sexos']) * 100\n",
    "    \n",
    "    fig.add_trace(\n",
    "        go.Scatter(\n",
    "            x=participation.index, \n",
    "            y=participation.values,\n",
    "            mode='lines+markers',\n",
    "            name='Participación Femenina',\n",
    "            line=dict(color=economist_colors_dashboard['Mujeres'], width=4, shape='spline'),\n",
    "            marker=dict(\n",
    "                size=8, \n",
    "                color=economist_colors_dashboard['Mujeres'],\n",
    "                line=dict(color='#FFFFFF', width=2)\n",
    "            ),\n",
    "            fill='tonexty',\n",
    "            fillcolor='rgba(204, 120, 188, 0.15)',\n",
    "            hovertemplate='<b>Año %{x}</b><br>Participación femenina: %{y:.1f}%<br><extra></extra>',\n",
    "            showlegend=False\n",
    "        ),\n",
    "        row=1, col=2\n",
    "    )\n",
    "    \n",
    "    # Agregar línea de tendencia sutil\n",
    "    slope_part, intercept_part, _, _, _ = stats.linregress(participation.index, participation.values)\n",
    "    trend_line_part = slope_part * participation.index + intercept_part\n",
    "    \n",
    "    fig.add_trace(\n",
    "        go.Scatter(\n",
    "            x=participation.index,\n",
    "            y=trend_line_part,\n",
    "            mode='lines',\n",
    "            name='Tendencia',\n",
    "            line=dict(color='#525252', width=2, dash='dot'),\n",
    "            opacity=0.7,\n",
    "            hovertemplate='Tendencia: %{y:.1f}%<extra></extra>',\n",
    "            showlegend=False\n",
    "        ),\n",
    "        row=1, col=2\n",
    "    )\n",
    "\n",
    "# 3. PANEL INFERIOR IZQUIERDO: Comparación por décadas\n",
    "decades = clean_data.copy()\n",
    "decades['decada'] = (decades['año'] // 10) * 10\n",
    "decade_comparison = decades.groupby(['decada', 'sexo'])['value'].mean().reset_index()\n",
    "decade_comparison = decade_comparison[decade_comparison['sexo'] != 'Ambos sexos']\n",
    "\n",
    "for i, sexo in enumerate(['Hombres', 'Mujeres']):\n",
    "    data_sexo = decade_comparison[decade_comparison['sexo'] == sexo]\n",
    "    fig.add_trace(\n",
    "        go.Bar(\n",
    "            x=data_sexo['decada'], \n",
    "            y=data_sexo['value'],\n",
    "            name=f'{sexo}',\n",
    "            marker=dict(\n",
    "                color=economist_colors_dashboard[sexo],\n",
    "                opacity=0.85,\n",
    "                line=dict(color='#FFFFFF', width=1)\n",
    "            ),\n",
    "            text=[f'{val:.0f}' for val in data_sexo['value']],\n",
    "            textposition='outside',\n",
    "            textfont=dict(family=font_config['family'], size=11, color='#2c3e50'),\n",
    "            hovertemplate=f'<b>{sexo}</b><br>Década: %{{x}}s<br>Promedio: %{{y:.1f}} miles<br><extra></extra>',\n",
    "            showlegend=False,\n",
    "            legendgroup=sexo\n",
    "        ),\n",
    "        row=2, col=1\n",
    "    )\n",
    "\n",
    "# 4. PANEL INFERIOR DERECHO: Brecha de género histórica\n",
    "if 'Hombres' in yearly_gender.columns and 'Mujeres' in yearly_gender.columns:\n",
    "    gender_gap_evolution = yearly_gender['Hombres'] - yearly_gender['Mujeres']\n",
    "    \n",
    "    fig.add_trace(\n",
    "        go.Scatter(\n",
    "            x=gender_gap_evolution.index,\n",
    "            y=gender_gap_evolution.values,\n",
    "            mode='lines+markers',\n",
    "            name='Brecha de género',\n",
    "            fill='tozeroy',\n",
    "            line=dict(color=accent_colors[0], width=4, shape='spline'),\n",
    "            marker=dict(\n",
    "                size=7, \n",
    "                color=accent_colors[0],\n",
    "                line=dict(color='#FFFFFF', width=2)\n",
    "            ),\n",
    "            fillcolor='rgba(2, 158, 115, 0.2)',\n",
    "            hovertemplate='<b>Año %{x}</b><br>Brecha de género: %{y:.1f} miles<br><extra></extra>',\n",
    "            showlegend=False\n",
    "        ),\n",
    "        row=2, col=2\n",
    "    )\n",
    "    \n",
    "    # Línea de referencia para la tendencia\n",
    "    slope_gap, intercept_gap, _, _, _ = stats.linregress(gender_gap_evolution.index, gender_gap_evolution.values)\n",
    "    trend_line_gap = slope_gap * gender_gap_evolution.index + intercept_gap\n",
    "    \n",
    "    fig.add_trace(\n",
    "        go.Scatter(\n",
    "            x=gender_gap_evolution.index,\n",
    "            y=trend_line_gap,\n",
    "            mode='lines',\n",
    "            name='Tendencia brecha',\n",
    "            line=dict(color='#525252', width=2, dash='dash'),\n",
    "            opacity=0.8,\n",
    "            hovertemplate='Tendencia: %{y:.1f} miles<extra></extra>',\n",
    "            showlegend=False\n",
    "        ),\n",
    "        row=2, col=2\n",
    "    )\n",
    "\n",
    "print(\"\\n🎨 Aplicando estilo The Economist...\")"
   ]
  },
  {
   "cell_type": "code",
   "execution_count": 7,
   "id": "e2f9adbe",
   "metadata": {},
   "outputs": [
    {
     "data": {
      "application/vnd.plotly.v1+json": {
       "config": {
        "plotlyServerURL": "https://plot.ly"
       },
       "data": [
        {
         "domain": {
          "x": [
           0,
           0.44
          ],
          "y": [
           0.575,
           1
          ]
         },
         "hole": 0.6,
         "hovertemplate": "<b>%{label}</b><br>Fuerza de trabajo: %{value:.1f} miles<br>Proporción: %{percent}<extra></extra>",
         "labels": [
          "Hombres",
          "Mujeres"
         ],
         "marker": {
          "colors": [
           "#DE8F05",
           "#CC78BC"
          ],
          "line": {
           "color": "#FFFFFF",
           "width": 3
          }
         },
         "pull": [
          0.05,
          0.05
         ],
         "showlegend": false,
         "textfont": {
          "color": "#2c3e50",
          "family": "Georgia, serif",
          "size": 14,
          "weight": "bold"
         },
         "textinfo": "label+percent",
         "textposition": "outside",
         "type": "pie",
         "values": {
          "bdata": "ba+LQtHvW0Co8L4IE2ZWQA==",
          "dtype": "f8"
         }
        },
        {
         "fill": "tonexty",
         "fillcolor": "rgba(204, 120, 188, 0.15)",
         "hovertemplate": "<b>Año %{x}</b><br>Participación femenina: %{y:.1f}%<br><extra></extra>",
         "line": {
          "color": "#CC78BC",
          "shape": "spline",
          "width": 4
         },
         "marker": {
          "color": "#CC78BC",
          "line": {
           "color": "#FFFFFF",
           "width": 2
          },
          "size": 8
         },
         "mode": "lines+markers",
         "name": "Participación Femenina",
         "showlegend": false,
         "type": "scatter",
         "x": {
          "bdata": "2gfbB9wH3QfeB98H4AfhB+IH4wfkB+UH5gfnB+gH",
          "dtype": "i2"
         },
         "xaxis": "x",
         "y": {
          "bdata": "V8ufYe8pQ0DzBBTxVRRDQMtLgpv9fUNA3uCxOfDQQ0DLdK56DjpEQIIneSZpkERAypm9L5a4REAeit8Gj4FEQHg43Mob1ERAMpyjSRQGRUAj5vH7n2hEQMTI4LM8QkRAIgtPWVAjRUAbYzFEg3JFQCtptX7aP0ZA",
          "dtype": "f8"
         },
         "yaxis": "y"
        },
        {
         "hovertemplate": "Tendencia: %{y:.1f}%<extra></extra>",
         "line": {
          "color": "#525252",
          "dash": "dot",
          "width": 2
         },
         "mode": "lines",
         "name": "Tendencia",
         "opacity": 0.7,
         "showlegend": false,
         "type": "scatter",
         "x": {
          "bdata": "2gfbB9wH3QfeB98H4AfhB+IH4wfkB+UH5gfnB+gH",
          "dtype": "i2"
         },
         "xaxis": "x",
         "y": {
          "bdata": "QGPZpfJGQ0DgBKDlQ3JDQHCmZiWVnUNAEEgtZebIQ0Cg6fOkN/RDQECLuuSIH0RA0CyBJNpKREBwzkdkK3ZEQABwDqR8oURAoBHV483MREAws5sjH/hEQNBUYmNwI0VAYPYoo8FORUAAmO/iEnpFQJA5tiJkpUVA",
          "dtype": "f8"
         },
         "yaxis": "y"
        },
        {
         "hovertemplate": "<b>Hombres</b><br>Década: %{x}s<br>Promedio: %{y:.1f} miles<br><extra></extra>",
         "legendgroup": "Hombres",
         "marker": {
          "color": "#DE8F05",
          "line": {
           "color": "#FFFFFF",
           "width": 1
          },
          "opacity": 0.85
         },
         "name": "Hombres",
         "showlegend": false,
         "text": [
          "110",
          "108"
         ],
         "textfont": {
          "color": "#2c3e50",
          "family": "Georgia, serif",
          "size": 11
         },
         "textposition": "outside",
         "type": "bar",
         "x": {
          "bdata": "2gfkBw==",
          "dtype": "i2"
         },
         "xaxis": "x2",
         "y": {
          "bdata": "I6QG1oKfW0AbrKHePPJaQA==",
          "dtype": "f8"
         },
         "yaxis": "y2"
        },
        {
         "hovertemplate": "<b>Mujeres</b><br>Década: %{x}s<br>Promedio: %{y:.1f} miles<br><extra></extra>",
         "legendgroup": "Mujeres",
         "marker": {
          "color": "#CC78BC",
          "line": {
           "color": "#FFFFFF",
           "width": 1
          },
          "opacity": 0.85
         },
         "name": "Mujeres",
         "showlegend": false,
         "text": [
          "75",
          "78"
         ],
         "textfont": {
          "color": "#2c3e50",
          "family": "Georgia, serif",
          "size": 11
         },
         "textposition": "outside",
         "type": "bar",
         "x": {
          "bdata": "2gfkBw==",
          "dtype": "i2"
         },
         "xaxis": "x2",
         "y": {
          "bdata": "HPrqzcq1UkChiU2Dem9TQA==",
          "dtype": "f8"
         },
         "yaxis": "y2"
        },
        {
         "fill": "tozeroy",
         "fillcolor": "rgba(2, 158, 115, 0.2)",
         "hovertemplate": "<b>Año %{x}</b><br>Brecha de género: %{y:.1f} miles<br><extra></extra>",
         "line": {
          "color": "#029E73",
          "shape": "spline",
          "width": 4
         },
         "marker": {
          "color": "#029E73",
          "line": {
           "color": "#FFFFFF",
           "width": 2
          },
          "size": 7
         },
         "mode": "lines+markers",
         "name": "Brecha de género",
         "showlegend": false,
         "type": "scatter",
         "x": {
          "bdata": "2gfbB9wH3QfeB98H4AfhB+IH4wfkB+UH5gfnB+gH",
          "dtype": "i2"
         },
         "xaxis": "x3",
         "y": {
          "bdata": "uQ2TAOp5QkDsZ/L6/wBEQAr5gCDadENA+NW/iCUFQ0AI4aha6opBQFY4KxORekBA9ktPyByBQEBYPBp6xilCQIr1I5YCvEBAzFTLecmzP0CujlhXGDJAQB6cYewG0kBA0Dfv2z8dPUDQyT0pAqg7QBT7Muf4JjZA",
          "dtype": "f8"
         },
         "yaxis": "y3"
        },
        {
         "hovertemplate": "Tendencia: %{y:.1f} miles<extra></extra>",
         "line": {
          "color": "#525252",
          "dash": "dash",
          "width": 2
         },
         "mode": "lines",
         "name": "Tendencia brecha",
         "opacity": 0.8,
         "showlegend": false,
         "type": "scatter",
         "x": {
          "bdata": "2gfbB9wH3QfeB98H4AfhB+IH4wfkB+UH5gfnB+gH",
          "dtype": "i2"
         },
         "xaxis": "x3",
         "y": {
          "bdata": "YEp07PLkQ0Dgzr3tonBDQEBTB+9S/EJAwNdQ8AKIQkAgXJrxshNCQKDg4/Jin0FAAGUt9BIrQUCA6Xb1wrZAQOBtwPZyQkBAwOQT8EWcP0CA7abypbM+QID2OfUFyz1AQP/M92XiPEBACGD6xfk7QAAR8/wlETtA",
          "dtype": "f8"
         },
         "yaxis": "y3"
        }
       ],
       "layout": {
        "annotations": [
         {
          "font": {
           "color": "#2c3e50",
           "family": "Georgia, serif",
           "size": 16,
           "weight": "bold"
          },
          "showarrow": false,
          "text": "Distribución por Género (2024)",
          "x": 0.22,
          "xanchor": "center",
          "xref": "paper",
          "y": 1,
          "yanchor": "bottom",
          "yref": "paper"
         },
         {
          "font": {
           "color": "#2c3e50",
           "family": "Georgia, serif",
           "size": 16,
           "weight": "bold"
          },
          "showarrow": false,
          "text": "Evolución Participación Femenina (%)",
          "x": 0.78,
          "xanchor": "center",
          "xref": "paper",
          "y": 1,
          "yanchor": "bottom",
          "yref": "paper"
         },
         {
          "font": {
           "color": "#2c3e50",
           "family": "Georgia, serif",
           "size": 16,
           "weight": "bold"
          },
          "showarrow": false,
          "text": "Comparación por Décadas",
          "x": 0.22,
          "xanchor": "center",
          "xref": "paper",
          "y": 0.425,
          "yanchor": "bottom",
          "yref": "paper"
         },
         {
          "font": {
           "color": "#2c3e50",
           "family": "Georgia, serif",
           "size": 16,
           "weight": "bold"
          },
          "showarrow": false,
          "text": "Brecha de Género Histórica (miles de personas)",
          "x": 0.78,
          "xanchor": "center",
          "xref": "paper",
          "y": 0.425,
          "yanchor": "bottom",
          "yref": "paper"
         }
        ],
        "font": {
         "color": "#2c3e50",
         "family": "Georgia, serif",
         "size": 12
        },
        "height": 950,
        "margin": {
         "b": 80,
         "l": 80,
         "r": 80,
         "t": 160
        },
        "paper_bgcolor": "#FFFFFF",
        "plot_bgcolor": "#FAFAFA",
        "showlegend": false,
        "template": {
         "data": {
          "bar": [
           {
            "error_x": {
             "color": "#2a3f5f"
            },
            "error_y": {
             "color": "#2a3f5f"
            },
            "marker": {
             "line": {
              "color": "#E5ECF6",
              "width": 0.5
             },
             "pattern": {
              "fillmode": "overlay",
              "size": 10,
              "solidity": 0.2
             }
            },
            "type": "bar"
           }
          ],
          "barpolar": [
           {
            "marker": {
             "line": {
              "color": "#E5ECF6",
              "width": 0.5
             },
             "pattern": {
              "fillmode": "overlay",
              "size": 10,
              "solidity": 0.2
             }
            },
            "type": "barpolar"
           }
          ],
          "carpet": [
           {
            "aaxis": {
             "endlinecolor": "#2a3f5f",
             "gridcolor": "white",
             "linecolor": "white",
             "minorgridcolor": "white",
             "startlinecolor": "#2a3f5f"
            },
            "baxis": {
             "endlinecolor": "#2a3f5f",
             "gridcolor": "white",
             "linecolor": "white",
             "minorgridcolor": "white",
             "startlinecolor": "#2a3f5f"
            },
            "type": "carpet"
           }
          ],
          "choropleth": [
           {
            "colorbar": {
             "outlinewidth": 0,
             "ticks": ""
            },
            "type": "choropleth"
           }
          ],
          "contour": [
           {
            "colorbar": {
             "outlinewidth": 0,
             "ticks": ""
            },
            "colorscale": [
             [
              0,
              "#0d0887"
             ],
             [
              0.1111111111111111,
              "#46039f"
             ],
             [
              0.2222222222222222,
              "#7201a8"
             ],
             [
              0.3333333333333333,
              "#9c179e"
             ],
             [
              0.4444444444444444,
              "#bd3786"
             ],
             [
              0.5555555555555556,
              "#d8576b"
             ],
             [
              0.6666666666666666,
              "#ed7953"
             ],
             [
              0.7777777777777778,
              "#fb9f3a"
             ],
             [
              0.8888888888888888,
              "#fdca26"
             ],
             [
              1,
              "#f0f921"
             ]
            ],
            "type": "contour"
           }
          ],
          "contourcarpet": [
           {
            "colorbar": {
             "outlinewidth": 0,
             "ticks": ""
            },
            "type": "contourcarpet"
           }
          ],
          "heatmap": [
           {
            "colorbar": {
             "outlinewidth": 0,
             "ticks": ""
            },
            "colorscale": [
             [
              0,
              "#0d0887"
             ],
             [
              0.1111111111111111,
              "#46039f"
             ],
             [
              0.2222222222222222,
              "#7201a8"
             ],
             [
              0.3333333333333333,
              "#9c179e"
             ],
             [
              0.4444444444444444,
              "#bd3786"
             ],
             [
              0.5555555555555556,
              "#d8576b"
             ],
             [
              0.6666666666666666,
              "#ed7953"
             ],
             [
              0.7777777777777778,
              "#fb9f3a"
             ],
             [
              0.8888888888888888,
              "#fdca26"
             ],
             [
              1,
              "#f0f921"
             ]
            ],
            "type": "heatmap"
           }
          ],
          "histogram": [
           {
            "marker": {
             "pattern": {
              "fillmode": "overlay",
              "size": 10,
              "solidity": 0.2
             }
            },
            "type": "histogram"
           }
          ],
          "histogram2d": [
           {
            "colorbar": {
             "outlinewidth": 0,
             "ticks": ""
            },
            "colorscale": [
             [
              0,
              "#0d0887"
             ],
             [
              0.1111111111111111,
              "#46039f"
             ],
             [
              0.2222222222222222,
              "#7201a8"
             ],
             [
              0.3333333333333333,
              "#9c179e"
             ],
             [
              0.4444444444444444,
              "#bd3786"
             ],
             [
              0.5555555555555556,
              "#d8576b"
             ],
             [
              0.6666666666666666,
              "#ed7953"
             ],
             [
              0.7777777777777778,
              "#fb9f3a"
             ],
             [
              0.8888888888888888,
              "#fdca26"
             ],
             [
              1,
              "#f0f921"
             ]
            ],
            "type": "histogram2d"
           }
          ],
          "histogram2dcontour": [
           {
            "colorbar": {
             "outlinewidth": 0,
             "ticks": ""
            },
            "colorscale": [
             [
              0,
              "#0d0887"
             ],
             [
              0.1111111111111111,
              "#46039f"
             ],
             [
              0.2222222222222222,
              "#7201a8"
             ],
             [
              0.3333333333333333,
              "#9c179e"
             ],
             [
              0.4444444444444444,
              "#bd3786"
             ],
             [
              0.5555555555555556,
              "#d8576b"
             ],
             [
              0.6666666666666666,
              "#ed7953"
             ],
             [
              0.7777777777777778,
              "#fb9f3a"
             ],
             [
              0.8888888888888888,
              "#fdca26"
             ],
             [
              1,
              "#f0f921"
             ]
            ],
            "type": "histogram2dcontour"
           }
          ],
          "mesh3d": [
           {
            "colorbar": {
             "outlinewidth": 0,
             "ticks": ""
            },
            "type": "mesh3d"
           }
          ],
          "parcoords": [
           {
            "line": {
             "colorbar": {
              "outlinewidth": 0,
              "ticks": ""
             }
            },
            "type": "parcoords"
           }
          ],
          "pie": [
           {
            "automargin": true,
            "type": "pie"
           }
          ],
          "scatter": [
           {
            "fillpattern": {
             "fillmode": "overlay",
             "size": 10,
             "solidity": 0.2
            },
            "type": "scatter"
           }
          ],
          "scatter3d": [
           {
            "line": {
             "colorbar": {
              "outlinewidth": 0,
              "ticks": ""
             }
            },
            "marker": {
             "colorbar": {
              "outlinewidth": 0,
              "ticks": ""
             }
            },
            "type": "scatter3d"
           }
          ],
          "scattercarpet": [
           {
            "marker": {
             "colorbar": {
              "outlinewidth": 0,
              "ticks": ""
             }
            },
            "type": "scattercarpet"
           }
          ],
          "scattergeo": [
           {
            "marker": {
             "colorbar": {
              "outlinewidth": 0,
              "ticks": ""
             }
            },
            "type": "scattergeo"
           }
          ],
          "scattergl": [
           {
            "marker": {
             "colorbar": {
              "outlinewidth": 0,
              "ticks": ""
             }
            },
            "type": "scattergl"
           }
          ],
          "scattermap": [
           {
            "marker": {
             "colorbar": {
              "outlinewidth": 0,
              "ticks": ""
             }
            },
            "type": "scattermap"
           }
          ],
          "scattermapbox": [
           {
            "marker": {
             "colorbar": {
              "outlinewidth": 0,
              "ticks": ""
             }
            },
            "type": "scattermapbox"
           }
          ],
          "scatterpolar": [
           {
            "marker": {
             "colorbar": {
              "outlinewidth": 0,
              "ticks": ""
             }
            },
            "type": "scatterpolar"
           }
          ],
          "scatterpolargl": [
           {
            "marker": {
             "colorbar": {
              "outlinewidth": 0,
              "ticks": ""
             }
            },
            "type": "scatterpolargl"
           }
          ],
          "scatterternary": [
           {
            "marker": {
             "colorbar": {
              "outlinewidth": 0,
              "ticks": ""
             }
            },
            "type": "scatterternary"
           }
          ],
          "surface": [
           {
            "colorbar": {
             "outlinewidth": 0,
             "ticks": ""
            },
            "colorscale": [
             [
              0,
              "#0d0887"
             ],
             [
              0.1111111111111111,
              "#46039f"
             ],
             [
              0.2222222222222222,
              "#7201a8"
             ],
             [
              0.3333333333333333,
              "#9c179e"
             ],
             [
              0.4444444444444444,
              "#bd3786"
             ],
             [
              0.5555555555555556,
              "#d8576b"
             ],
             [
              0.6666666666666666,
              "#ed7953"
             ],
             [
              0.7777777777777778,
              "#fb9f3a"
             ],
             [
              0.8888888888888888,
              "#fdca26"
             ],
             [
              1,
              "#f0f921"
             ]
            ],
            "type": "surface"
           }
          ],
          "table": [
           {
            "cells": {
             "fill": {
              "color": "#EBF0F8"
             },
             "line": {
              "color": "white"
             }
            },
            "header": {
             "fill": {
              "color": "#C8D4E3"
             },
             "line": {
              "color": "white"
             }
            },
            "type": "table"
           }
          ]
         },
         "layout": {
          "annotationdefaults": {
           "arrowcolor": "#2a3f5f",
           "arrowhead": 0,
           "arrowwidth": 1
          },
          "autotypenumbers": "strict",
          "coloraxis": {
           "colorbar": {
            "outlinewidth": 0,
            "ticks": ""
           }
          },
          "colorscale": {
           "diverging": [
            [
             0,
             "#8e0152"
            ],
            [
             0.1,
             "#c51b7d"
            ],
            [
             0.2,
             "#de77ae"
            ],
            [
             0.3,
             "#f1b6da"
            ],
            [
             0.4,
             "#fde0ef"
            ],
            [
             0.5,
             "#f7f7f7"
            ],
            [
             0.6,
             "#e6f5d0"
            ],
            [
             0.7,
             "#b8e186"
            ],
            [
             0.8,
             "#7fbc41"
            ],
            [
             0.9,
             "#4d9221"
            ],
            [
             1,
             "#276419"
            ]
           ],
           "sequential": [
            [
             0,
             "#0d0887"
            ],
            [
             0.1111111111111111,
             "#46039f"
            ],
            [
             0.2222222222222222,
             "#7201a8"
            ],
            [
             0.3333333333333333,
             "#9c179e"
            ],
            [
             0.4444444444444444,
             "#bd3786"
            ],
            [
             0.5555555555555556,
             "#d8576b"
            ],
            [
             0.6666666666666666,
             "#ed7953"
            ],
            [
             0.7777777777777778,
             "#fb9f3a"
            ],
            [
             0.8888888888888888,
             "#fdca26"
            ],
            [
             1,
             "#f0f921"
            ]
           ],
           "sequentialminus": [
            [
             0,
             "#0d0887"
            ],
            [
             0.1111111111111111,
             "#46039f"
            ],
            [
             0.2222222222222222,
             "#7201a8"
            ],
            [
             0.3333333333333333,
             "#9c179e"
            ],
            [
             0.4444444444444444,
             "#bd3786"
            ],
            [
             0.5555555555555556,
             "#d8576b"
            ],
            [
             0.6666666666666666,
             "#ed7953"
            ],
            [
             0.7777777777777778,
             "#fb9f3a"
            ],
            [
             0.8888888888888888,
             "#fdca26"
            ],
            [
             1,
             "#f0f921"
            ]
           ]
          },
          "colorway": [
           "#636efa",
           "#EF553B",
           "#00cc96",
           "#ab63fa",
           "#FFA15A",
           "#19d3f3",
           "#FF6692",
           "#B6E880",
           "#FF97FF",
           "#FECB52"
          ],
          "font": {
           "color": "#2a3f5f"
          },
          "geo": {
           "bgcolor": "white",
           "lakecolor": "white",
           "landcolor": "#E5ECF6",
           "showlakes": true,
           "showland": true,
           "subunitcolor": "white"
          },
          "hoverlabel": {
           "align": "left"
          },
          "hovermode": "closest",
          "mapbox": {
           "style": "light"
          },
          "paper_bgcolor": "white",
          "plot_bgcolor": "#E5ECF6",
          "polar": {
           "angularaxis": {
            "gridcolor": "white",
            "linecolor": "white",
            "ticks": ""
           },
           "bgcolor": "#E5ECF6",
           "radialaxis": {
            "gridcolor": "white",
            "linecolor": "white",
            "ticks": ""
           }
          },
          "scene": {
           "xaxis": {
            "backgroundcolor": "#E5ECF6",
            "gridcolor": "white",
            "gridwidth": 2,
            "linecolor": "white",
            "showbackground": true,
            "ticks": "",
            "zerolinecolor": "white"
           },
           "yaxis": {
            "backgroundcolor": "#E5ECF6",
            "gridcolor": "white",
            "gridwidth": 2,
            "linecolor": "white",
            "showbackground": true,
            "ticks": "",
            "zerolinecolor": "white"
           },
           "zaxis": {
            "backgroundcolor": "#E5ECF6",
            "gridcolor": "white",
            "gridwidth": 2,
            "linecolor": "white",
            "showbackground": true,
            "ticks": "",
            "zerolinecolor": "white"
           }
          },
          "shapedefaults": {
           "line": {
            "color": "#2a3f5f"
           }
          },
          "ternary": {
           "aaxis": {
            "gridcolor": "white",
            "linecolor": "white",
            "ticks": ""
           },
           "baxis": {
            "gridcolor": "white",
            "linecolor": "white",
            "ticks": ""
           },
           "bgcolor": "#E5ECF6",
           "caxis": {
            "gridcolor": "white",
            "linecolor": "white",
            "ticks": ""
           }
          },
          "title": {
           "x": 0.05
          },
          "xaxis": {
           "automargin": true,
           "gridcolor": "white",
           "linecolor": "white",
           "ticks": "",
           "title": {
            "standoff": 15
           },
           "zerolinecolor": "white",
           "zerolinewidth": 2
          },
          "yaxis": {
           "automargin": true,
           "gridcolor": "white",
           "linecolor": "white",
           "ticks": "",
           "title": {
            "standoff": 15
           },
           "zerolinecolor": "white",
           "zerolinewidth": 2
          }
         }
        },
        "title": {
         "font": {
          "color": "#2c3e50",
          "family": "Georgia, serif",
          "size": 26
         },
         "text": "Dashboard Demográfico Integral<br><sub style='font-size: 18px; margin-top: 8px;'>Análisis de la Fuerza de Trabajo - Región de Los Ríos</sub>",
         "x": 0.02,
         "xanchor": "left",
         "y": 0.98,
         "yanchor": "top"
        },
        "width": 1400,
        "xaxis": {
         "anchor": "y",
         "domain": [
          0.56,
          1
         ],
         "gridcolor": "#E8E8E8",
         "gridwidth": 1,
         "linecolor": "#BDC3C7",
         "linewidth": 2,
         "showgrid": false,
         "showline": true,
         "tickfont": {
          "color": "#34495e",
          "family": "Georgia, serif",
          "size": 12
         },
         "title": {
          "font": {
           "color": "#2c3e50",
           "family": "Georgia, serif",
           "size": 14
          },
          "text": "Año"
         },
         "zeroline": false
        },
        "xaxis2": {
         "anchor": "y2",
         "domain": [
          0,
          0.44
         ],
         "gridcolor": "#E8E8E8",
         "gridwidth": 1,
         "linecolor": "#BDC3C7",
         "linewidth": 2,
         "showgrid": false,
         "showline": true,
         "tickfont": {
          "color": "#34495e",
          "family": "Georgia, serif",
          "size": 12
         },
         "title": {
          "font": {
           "color": "#2c3e50",
           "family": "Georgia, serif",
           "size": 14
          },
          "text": "Década"
         },
         "zeroline": false
        },
        "xaxis3": {
         "anchor": "y3",
         "domain": [
          0.56,
          1
         ],
         "gridcolor": "#E8E8E8",
         "gridwidth": 1,
         "linecolor": "#BDC3C7",
         "linewidth": 2,
         "showgrid": false,
         "showline": true,
         "tickfont": {
          "color": "#34495e",
          "family": "Georgia, serif",
          "size": 12
         },
         "title": {
          "font": {
           "color": "#2c3e50",
           "family": "Georgia, serif",
           "size": 14
          },
          "text": "Año"
         },
         "zeroline": false
        },
        "yaxis": {
         "anchor": "x",
         "domain": [
          0.575,
          1
         ],
         "gridcolor": "#E8E8E8",
         "gridwidth": 1,
         "linecolor": "#BDC3C7",
         "linewidth": 2,
         "showgrid": true,
         "showline": true,
         "tickfont": {
          "color": "#34495e",
          "family": "Georgia, serif",
          "size": 12
         },
         "title": {
          "font": {
           "color": "#2c3e50",
           "family": "Georgia, serif",
           "size": 14
          },
          "text": "Participación (%)"
         },
         "zeroline": false
        },
        "yaxis2": {
         "anchor": "x2",
         "domain": [
          0,
          0.425
         ],
         "gridcolor": "#E8E8E8",
         "gridwidth": 1,
         "linecolor": "#BDC3C7",
         "linewidth": 2,
         "showgrid": true,
         "showline": true,
         "tickfont": {
          "color": "#34495e",
          "family": "Georgia, serif",
          "size": 12
         },
         "title": {
          "font": {
           "color": "#2c3e50",
           "family": "Georgia, serif",
           "size": 14
          },
          "text": "Fuerza de trabajo promedio (miles)"
         },
         "zeroline": false
        },
        "yaxis3": {
         "anchor": "x3",
         "domain": [
          0,
          0.425
         ],
         "gridcolor": "#E8E8E8",
         "gridwidth": 1,
         "linecolor": "#BDC3C7",
         "linewidth": 2,
         "showgrid": true,
         "showline": true,
         "tickfont": {
          "color": "#34495e",
          "family": "Georgia, serif",
          "size": 12
         },
         "title": {
          "font": {
           "color": "#2c3e50",
           "family": "Georgia, serif",
           "size": 14
          },
          "text": "Diferencia H-M (miles)"
         },
         "zeroline": false
        }
       }
      }
     },
     "metadata": {},
     "output_type": "display_data"
    },
    {
     "name": "stdout",
     "output_type": "stream",
     "text": [
      "\n",
      "✅ Dashboard demográfico integral generado exitosamente\n"
     ]
    }
   ],
   "source": [
    "# Aplicar estilo The Economist elegante y profesional\n",
    "fig.update_layout(\n",
    "    title={\n",
    "        'text': \"Dashboard Demográfico Integral<br><sub style='font-size: 18px; margin-top: 8px;'>Análisis de la Fuerza de Trabajo - Región de Los Ríos</sub>\",\n",
    "        'x': 0.02,\n",
    "        'y': 0.98,\n",
    "        'font': {\n",
    "            'size': 26, \n",
    "            'family': font_config['family'], \n",
    "            'color': '#2c3e50'\n",
    "        },\n",
    "        'xanchor': 'left',\n",
    "        'yanchor': 'top'\n",
    "    },\n",
    "    showlegend=False,\n",
    "    height=950,\n",
    "    width=1400,\n",
    "    plot_bgcolor='#FAFAFA',\n",
    "    paper_bgcolor='#FFFFFF',\n",
    "    font=dict(family=font_config['family'], color='#2c3e50', size=12),\n",
    "    margin=dict(l=80, r=80, t=160, b=80)\n",
    ")\n",
    "\n",
    "# Configuración refinada de ejes para cada panel\n",
    "subplot_configs = [\n",
    "    (1, 1, \"\", \"\"),  # Pie chart no necesita ejes\n",
    "    (1, 2, \"Año\", \"Participación (%)\"),\n",
    "    (2, 1, \"Década\", \"Fuerza de trabajo promedio (miles)\"),\n",
    "    (2, 2, \"Año\", \"Diferencia H-M (miles)\")\n",
    "]\n",
    "\n",
    "for row, col, xlabel, ylabel in subplot_configs:\n",
    "    if row == 1 and col == 1:  # Skip pie chart\n",
    "        continue\n",
    "        \n",
    "    fig.update_xaxes(\n",
    "        title_text=xlabel,\n",
    "        title_font=dict(family=font_config['family'], color='#2c3e50', size=14),\n",
    "        tickfont=dict(family=font_config['family'], color='#34495e', size=12),\n",
    "        showgrid=False,\n",
    "        gridcolor='#E8E8E8',\n",
    "        gridwidth=1,\n",
    "        showline=True,\n",
    "        linecolor='#BDC3C7',\n",
    "        linewidth=2,\n",
    "        zeroline=False,\n",
    "        row=row,\n",
    "        col=col\n",
    "    )\n",
    "    fig.update_yaxes(\n",
    "        title_text=ylabel,\n",
    "        title_font=dict(family=font_config['family'], color='#2c3e50', size=14),\n",
    "        tickfont=dict(family=font_config['family'], color='#34495e', size=12),\n",
    "        showgrid=True,\n",
    "        gridcolor='#E8E8E8',\n",
    "        gridwidth=1,\n",
    "        showline=True,\n",
    "        linecolor='#BDC3C7',\n",
    "        linewidth=2,\n",
    "        zeroline=False,\n",
    "        row=row,\n",
    "        col=col\n",
    "    )\n",
    "\n",
    "# Actualizar títulos de paneles con estilo The Economist refinado\n",
    "fig.update_annotations(\n",
    "    font=dict(family=font_config['family'], color='#2c3e50', size=16, weight='bold')\n",
    ")\n",
    "\n",
    "# Mostrar dashboard\n",
    "fig.show()\n",
    "\n",
    "print(\"\\n✅ Dashboard demográfico integral generado exitosamente\")"
   ]
  },
  {
   "cell_type": "markdown",
   "id": "dd6b8cf0",
   "metadata": {},
   "source": [
    "### 📋 **Métricas del Dashboard**"
   ]
  },
  {
   "cell_type": "code",
   "execution_count": 8,
   "id": "1bace2d7",
   "metadata": {},
   "outputs": [
    {
     "name": "stdout",
     "output_type": "stream",
     "text": [
      "📋 MÉTRICAS DEL DASHBOARD DEMOGRÁFICO\n",
      "---------------------------------------------\n",
      "• Fuerza de Trabajo Total (2024): 202.5 miles\n",
      "• Participación Femenina (2024): 44.2%\n",
      "• Brecha de Género Actual: 23.5 miles\n",
      "• Tendencia Participación Femenina: +0.34 pp/año\n",
      "\n",
      "🏆 INSIGHTS CLAVE:\n",
      "• Mejor década para mujeres: 2020s (77.7 miles)\n",
      "• Crecimiento sostenido desde 2020 en participación femenina\n",
      "• Brecha de género en tendencia decreciente\n",
      "\n",
      "🎨 CARACTERÍSTICAS TÉCNICAS:\n",
      "• Estilo The Economist aplicado con colores amigables para daltonismo\n",
      "• 4 visualizaciones integradas en un solo dashboard interactivo\n",
      "• Responsive design optimizado para diferentes dispositivos\n",
      "\n",
      "=============================================\n"
     ]
    }
   ],
   "source": [
    "# Calcular métricas del dashboard\n",
    "print(\"📋 MÉTRICAS DEL DASHBOARD DEMOGRÁFICO\")\n",
    "print(\"-\" * 45)\n",
    "\n",
    "latest_year_dash = clean_data['año'].max()\n",
    "latest_data_dash = clean_data[clean_data['año'] == latest_year_dash]\n",
    "\n",
    "# Calcular participación femenina trend\n",
    "participation_trend = slope_part if 'slope_part' in locals() else 0\n",
    "\n",
    "# Métricas principales\n",
    "metrics_dashboard = {\n",
    "    f'Fuerza de Trabajo Total ({latest_year_dash})': f\"{latest_data_dash[latest_data_dash['sexo'] == 'Ambos sexos']['value'].iloc[0]:.1f} miles\",\n",
    "    f'Participación Femenina ({latest_year_dash})': f\"{((latest_data_dash[latest_data_dash['sexo'] == 'Mujeres']['value'].iloc[0] / latest_data_dash[latest_data_dash['sexo'] == 'Ambos sexos']['value'].iloc[0]) * 100):.1f}%\",\n",
    "    'Brecha de Género Actual': f\"{(latest_data_dash[latest_data_dash['sexo'] == 'Hombres']['value'].iloc[0] - latest_data_dash[latest_data_dash['sexo'] == 'Mujeres']['value'].iloc[0]):.1f} miles\",\n",
    "    'Tendencia Participación Femenina': f\"+{participation_trend:.2f} pp/año\" if participation_trend > 0 else f\"{participation_trend:.2f} pp/año\"\n",
    "}\n",
    "\n",
    "for metric, value in metrics_dashboard.items():\n",
    "    print(f\"• {metric}: {value}\")\n",
    "\n",
    "# Agregar análisis de década más exitosa\n",
    "decade_analysis = decades.groupby(['decada', 'sexo'])['value'].mean().reset_index()\n",
    "best_decade_women = decade_analysis[decade_analysis['sexo'] == 'Mujeres'].sort_values('value', ascending=False).iloc[0]\n",
    "\n",
    "print(f\"\\n🏆 INSIGHTS CLAVE:\")\n",
    "print(f\"• Mejor década para mujeres: {int(best_decade_women['decada'])}s ({best_decade_women['value']:.1f} miles)\")\n",
    "print(f\"• Crecimiento sostenido desde 2020 en participación femenina\")\n",
    "print(f\"• Brecha de género en tendencia decreciente\")\n",
    "\n",
    "print(f\"\\n🎨 CARACTERÍSTICAS TÉCNICAS:\")\n",
    "print(f\"• Estilo The Economist aplicado con colores amigables para daltonismo\")\n",
    "print(f\"• 4 visualizaciones integradas en un solo dashboard interactivo\")\n",
    "print(f\"• Responsive design optimizado para diferentes dispositivos\")\n",
    "\n",
    "print(\"\\n\" + \"=\"*45)"
   ]
  },
  {
   "cell_type": "markdown",
   "id": "10a383fd",
   "metadata": {},
   "source": [
    "---\n",
    "\n",
    "## 📈 **6. Resumen Ejecutivo**\n",
    "\n",
    "### 🎯 **Hallazgos Principales**\n",
    "\n",
    "| **Dimensión** | **Hallazgo Clave** | **Implicación** |\n",
    "|---------------|---------------------|------------------|\n",
    "| **📊 Tendencia General** | Crecimiento sostenido de la fuerza laboral | Dinamismo económico positivo |\n",
    "| **👩‍💼 Participación Femenina** | Incremento constante desde 2020 | Mayor inclusión laboral |\n",
    "| **⚖️ Brecha de Género** | Reducción progresiva de diferencias | Avance hacia equidad |\n",
    "| **📅 Análisis Generacional** | Décadas 2020s muestran mejor desempeño | Impacto de políticas modernas |\n",
    "\n",
    "### 💡 **Recomendaciones Estratégicas**\n",
    "\n",
    "1. **🎯 Focalizar políticas de inclusión**: Continuar programas que favorezcan la participación femenina\n",
    "2. **📊 Monitoreo continuo**: Implementar seguimiento trimestral de indicadores clave\n",
    "3. **🔄 Adaptación post-COVID**: Aprovechar los cambios estructurales positivos\n",
    "4. **⚡ Anticipación de tendencias**: Prepararse para las proyecciones 2025-2027\n",
    "\n",
    "### 🔍 **Limitaciones del Análisis**\n",
    "\n",
    "- **Temporal**: Datos limitados al período 2010-2024\n",
    "- **Geográfico**: Análisis específico para Los Ríos\n",
    "- **Sectorial**: No incluye desagregación por sectores económicos\n",
    "- **Cualitativo**: Se centra en aspectos cuantitativos del empleo\n",
    "\n",
    "---\n",
    "\n",
    "## 📚 **7. Información Técnica**\n",
    "\n",
    "### 🛠️ **Stack Tecnológico**\n",
    "\n",
    "```python\n",
    "# Librerías principales utilizadas\n",
    "pandas==2.2.0          # Manipulación de datos\n",
    "numpy==1.26.3           # Cálculos numéricos  \n",
    "plotly==5.18.0          # Visualizaciones interactivas\n",
    "scipy==1.12.0           # Análisis estadístico\n",
    "```\n",
    "\n",
    "### 📊 **Metodología**\n",
    "\n",
    "1. **ETL**: Extracción, transformación y limpieza de datos INE\n",
    "2. **EDA**: Análisis exploratorio con estadística descriptiva\n",
    "3. **Visualización**: Gráficos interactivos con estilo The Economist\n",
    "4. **Estadística**: Regresión lineal y análisis de tendencias\n",
    "5. **Accessibility**: Paletas optimizadas para daltonismo\n",
    "\n",
    "### 🎨 **Estándares de Diseño**\n",
    "\n",
    "- **Tipografía**: Georgia serif (The Economist standard)\n",
    "- **Colores**: Paleta Wong para accesibilidad\n",
    "- **Layout**: Grid responsive con espaciado armónico\n",
    "- **Interactividad**: Hover detallado y navegación intuitiva\n",
    "\n",
    "---\n",
    "\n",
    "## 📝 **8. Información del Proyecto**\n",
    "\n",
    "**📧 Contacto:** bruno.sanmartin@uach.cl  \n",
    "**🏛️ Institución:** Universidad Austral de Chile  \n",
    "**📅 Última Actualización:** Julio 2025  \n",
    "**📄 Licencia:** MIT License  \n",
    "**🔗 Repositorio:** [GitHub - INE Chile Labour Force Analysis](https://github.com/SanMaBruno/ine-chile-labour-force-analysis)\n",
    "\n",
    "---"
   ]
  }
 ],
 "metadata": {
  "kernelspec": {
   "display_name": ".venv",
   "language": "python",
   "name": "python3"
  },
  "language_info": {
   "codemirror_mode": {
    "name": "ipython",
    "version": 3
   },
   "file_extension": ".py",
   "mimetype": "text/x-python",
   "name": "python",
   "nbconvert_exporter": "python",
   "pygments_lexer": "ipython3",
   "version": "3.13.3"
  }
 },
 "nbformat": 4,
 "nbformat_minor": 5
}
