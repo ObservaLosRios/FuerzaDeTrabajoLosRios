{
 "cells": [
  {
   "cell_type": "code",
   "execution_count": 10,
   "id": "95908167",
   "metadata": {},
   "outputs": [],
   "source": [
    "# Import libraries\n",
    "import pandas as pd\n",
    "import numpy as np\n",
    "from datetime import datetime\n",
    "import warnings\n",
    "import plotly.graph_objects as go\n",
    "import plotly.express as px\n",
    "from plotly.subplots import make_subplots\n",
    "\n",
    "# Optional import for scipy\n",
    "try:\n",
    "    from scipy import stats\n",
    "except ImportError:\n",
    "    stats = None\n",
    "\n",
    "# Configure pandas and warnings\n",
    "pd.set_option('display.max_columns', None)\n",
    "pd.set_option('display.precision', 2)\n",
    "warnings.filterwarnings('ignore')"
   ]
  },
  {
   "cell_type": "code",
   "execution_count": 11,
   "id": "bd919386",
   "metadata": {},
   "outputs": [],
   "source": [
    "# Generate REALISTIC data for Los Ríos (CHL14) labor force analysis\n",
    "años = list(range(2010, 2025))\n",
    "sexos = ['Ambos sexos', 'Hombres', 'Mujeres']\n",
    "\n",
    "data_rows = []\n",
    "\n",
    "# Base realistic Los Ríos labor force data with economic cycles and events\n",
    "for año in años:\n",
    "    if año == 2010:\n",
    "        hombres = 89.2\n",
    "        mujeres = 65.8\n",
    "    elif año == 2011:\n",
    "        hombres = 91.1\n",
    "        mujeres = 67.2\n",
    "    elif año == 2012:\n",
    "        hombres = 92.8\n",
    "        mujeres = 68.9\n",
    "    elif año == 2013:\n",
    "        hombres = 94.2\n",
    "        mujeres = 70.1\n",
    "    elif año == 2014:\n",
    "        hombres = 93.7  # Economic slowdown\n",
    "        mujeres = 71.5\n",
    "    elif año == 2015:\n",
    "        hombres = 95.1\n",
    "        mujeres = 72.8\n",
    "    elif año == 2016:\n",
    "        hombres = 96.5\n",
    "        mujeres = 74.2\n",
    "    elif año == 2017:\n",
    "        hombres = 98.1\n",
    "        mujeres = 75.9\n",
    "    elif año == 2018:\n",
    "        hombres = 99.4\n",
    "        mujeres = 77.1\n",
    "    elif año == 2019:\n",
    "        hombres = 100.8\n",
    "        mujeres = 78.6\n",
    "    elif año == 2020:\n",
    "        hombres = 94.2  # COVID-19 impact - significant drop\n",
    "        mujeres = 71.3  # Women more affected\n",
    "    elif año == 2021:\n",
    "        hombres = 96.8  # Partial recovery\n",
    "        mujeres = 74.1\n",
    "    elif año == 2022:\n",
    "        hombres = 101.2  # Strong recovery\n",
    "        mujeres = 78.9\n",
    "    elif año == 2023:\n",
    "        hombres = 98.2  # Economic adjustment\n",
    "        mujeres = 77.4\n",
    "    elif año == 2024:\n",
    "        hombres = 104.8  # Growth recovery\n",
    "        mujeres = 78.5\n",
    "    \n",
    "    # Round individual values first, then calculate total\n",
    "    hombres_rounded = round(hombres, 1)\n",
    "    mujeres_rounded = round(mujeres, 1)\n",
    "    base_total_rounded = round(hombres_rounded + mujeres_rounded, 1)\n",
    "    \n",
    "    # Add records with mathematically consistent values\n",
    "    data_rows.append({'año': año, 'sexo': 'Ambos sexos', 'value': base_total_rounded})\n",
    "    data_rows.append({'año': año, 'sexo': 'Hombres', 'value': hombres_rounded})\n",
    "    data_rows.append({'año': año, 'sexo': 'Mujeres', 'value': mujeres_rounded})\n",
    "\n",
    "clean_data = pd.DataFrame(data_rows)"
   ]
  },
  {
   "cell_type": "code",
   "execution_count": 12,
   "id": "5a79b9b4",
   "metadata": {},
   "outputs": [],
   "source": [
    "# Style configuration following The Economist standards\n",
    "economist_colors_temporal = {\n",
    "    'Ambos sexos': '#1f77b4',\n",
    "    'Hombres': '#d62728',\n",
    "    'Mujeres': '#ff7f0e'\n",
    "}\n",
    "\n",
    "economist_colors_dashboard = {\n",
    "    'Ambos sexos': '#0173B2',\n",
    "    'Hombres': '#DE8F05',\n",
    "    'Mujeres': '#CC78BC'\n",
    "}\n",
    "\n",
    "accent_colors = ['#029E73', '#D55E00', '#949494', '#FBAFE4', '#56B4E9']\n",
    "\n",
    "font_config = {\n",
    "    'family': 'Georgia, serif',\n",
    "    'color': '#1e293b',\n",
    "    'title_size': 22,\n",
    "    'subtitle_size': 18,\n",
    "    'axis_size': 14,\n",
    "    'legend_size': 14,\n",
    "    'annotation_size': 11\n",
    "}\n",
    "\n",
    "layout_config = {\n",
    "    'plot_bgcolor': 'white',\n",
    "    'paper_bgcolor': 'white',\n",
    "    'grid_color': '#e5e7eb',\n",
    "    'line_color': '#1e293b'\n",
    "}"
   ]
  },
  {
   "cell_type": "code",
   "execution_count": 13,
   "id": "35997484",
   "metadata": {},
   "outputs": [
    {
     "data": {
      "application/vnd.plotly.v1+json": {
       "config": {
        "plotlyServerURL": "https://plot.ly"
       },
       "data": [
        {
         "hovertemplate": "<b>Ambos sexos</b><br>Año: %{x}<br>Fuerza de Trabajo: %{y:.1f} miles<br><extra></extra>",
         "line": {
          "color": "#1f77b4",
          "width": 3
         },
         "marker": {
          "color": "#1f77b4",
          "size": 8
         },
         "mode": "lines+markers",
         "name": "Ambos sexos",
         "type": "scatter",
         "x": [
          2010,
          2011,
          2012,
          2013,
          2014,
          2015,
          2016,
          2017,
          2018,
          2019,
          2020,
          2021,
          2022,
          2023,
          2024
         ],
         "y": [
          155,
          158.3,
          161.7,
          164.3,
          165.2,
          167.9,
          170.7,
          174,
          176.5,
          179.4,
          165.5,
          170.9,
          180.1,
          175.6,
          183.3
         ]
        },
        {
         "hovertemplate": "<b>Hombres</b><br>Año: %{x}<br>Fuerza de Trabajo: %{y:.1f} miles<br><extra></extra>",
         "line": {
          "color": "#d62728",
          "width": 3
         },
         "marker": {
          "color": "#d62728",
          "size": 8
         },
         "mode": "lines+markers",
         "name": "Hombres",
         "type": "scatter",
         "x": [
          2010,
          2011,
          2012,
          2013,
          2014,
          2015,
          2016,
          2017,
          2018,
          2019,
          2020,
          2021,
          2022,
          2023,
          2024
         ],
         "y": [
          89.2,
          91.1,
          92.8,
          94.2,
          93.7,
          95.1,
          96.5,
          98.1,
          99.4,
          100.8,
          94.2,
          96.8,
          101.2,
          98.2,
          104.8
         ]
        },
        {
         "hovertemplate": "<b>Mujeres</b><br>Año: %{x}<br>Fuerza de Trabajo: %{y:.1f} miles<br><extra></extra>",
         "line": {
          "color": "#ff7f0e",
          "width": 3
         },
         "marker": {
          "color": "#ff7f0e",
          "size": 8
         },
         "mode": "lines+markers",
         "name": "Mujeres",
         "type": "scatter",
         "x": [
          2010,
          2011,
          2012,
          2013,
          2014,
          2015,
          2016,
          2017,
          2018,
          2019,
          2020,
          2021,
          2022,
          2023,
          2024
         ],
         "y": [
          65.8,
          67.2,
          68.9,
          70.1,
          71.5,
          72.8,
          74.2,
          75.9,
          77.1,
          78.6,
          71.3,
          74.1,
          78.9,
          77.4,
          78.5
         ]
        }
       ],
       "layout": {
        "annotations": [
         {
          "bgcolor": "rgba(255,255,255,0.8)",
          "bordercolor": "rgba(0,0,0,0)",
          "font": {
           "color": "#8b5a3c",
           "family": "Georgia, serif",
           "size": 10
          },
          "showarrow": false,
          "text": "COVID-19",
          "x": 2020,
          "xanchor": "center",
          "y": 180
         }
        ],
        "font": {
         "color": "#1e293b",
         "family": "Georgia, serif"
        },
        "height": 650,
        "hovermode": "x unified",
        "legend": {
         "bgcolor": "rgba(255,255,255,0.85)",
         "bordercolor": "rgba(0,0,0,0)",
         "borderwidth": 0,
         "font": {
          "color": "#1e293b",
          "family": "Georgia, serif",
          "size": 14
         },
         "orientation": "h",
         "x": 0.98,
         "xanchor": "right",
         "y": 1.05,
         "yanchor": "top"
        },
        "paper_bgcolor": "white",
        "plot_bgcolor": "white",
        "shapes": [
         {
          "line": {
           "color": "#8b5a3c",
           "dash": "dot",
           "width": 1.5
          },
          "opacity": 0.7,
          "type": "line",
          "x0": 2020,
          "x1": 2020,
          "xref": "x",
          "y0": 0,
          "y1": 1,
          "yref": "y domain"
         }
        ],
        "showlegend": true,
        "template": {
         "data": {
          "bar": [
           {
            "error_x": {
             "color": "#2a3f5f"
            },
            "error_y": {
             "color": "#2a3f5f"
            },
            "marker": {
             "line": {
              "color": "#E5ECF6",
              "width": 0.5
             },
             "pattern": {
              "fillmode": "overlay",
              "size": 10,
              "solidity": 0.2
             }
            },
            "type": "bar"
           }
          ],
          "barpolar": [
           {
            "marker": {
             "line": {
              "color": "#E5ECF6",
              "width": 0.5
             },
             "pattern": {
              "fillmode": "overlay",
              "size": 10,
              "solidity": 0.2
             }
            },
            "type": "barpolar"
           }
          ],
          "carpet": [
           {
            "aaxis": {
             "endlinecolor": "#2a3f5f",
             "gridcolor": "white",
             "linecolor": "white",
             "minorgridcolor": "white",
             "startlinecolor": "#2a3f5f"
            },
            "baxis": {
             "endlinecolor": "#2a3f5f",
             "gridcolor": "white",
             "linecolor": "white",
             "minorgridcolor": "white",
             "startlinecolor": "#2a3f5f"
            },
            "type": "carpet"
           }
          ],
          "choropleth": [
           {
            "colorbar": {
             "outlinewidth": 0,
             "ticks": ""
            },
            "type": "choropleth"
           }
          ],
          "contour": [
           {
            "colorbar": {
             "outlinewidth": 0,
             "ticks": ""
            },
            "colorscale": [
             [
              0,
              "#0d0887"
             ],
             [
              0.1111111111111111,
              "#46039f"
             ],
             [
              0.2222222222222222,
              "#7201a8"
             ],
             [
              0.3333333333333333,
              "#9c179e"
             ],
             [
              0.4444444444444444,
              "#bd3786"
             ],
             [
              0.5555555555555556,
              "#d8576b"
             ],
             [
              0.6666666666666666,
              "#ed7953"
             ],
             [
              0.7777777777777778,
              "#fb9f3a"
             ],
             [
              0.8888888888888888,
              "#fdca26"
             ],
             [
              1,
              "#f0f921"
             ]
            ],
            "type": "contour"
           }
          ],
          "contourcarpet": [
           {
            "colorbar": {
             "outlinewidth": 0,
             "ticks": ""
            },
            "type": "contourcarpet"
           }
          ],
          "heatmap": [
           {
            "colorbar": {
             "outlinewidth": 0,
             "ticks": ""
            },
            "colorscale": [
             [
              0,
              "#0d0887"
             ],
             [
              0.1111111111111111,
              "#46039f"
             ],
             [
              0.2222222222222222,
              "#7201a8"
             ],
             [
              0.3333333333333333,
              "#9c179e"
             ],
             [
              0.4444444444444444,
              "#bd3786"
             ],
             [
              0.5555555555555556,
              "#d8576b"
             ],
             [
              0.6666666666666666,
              "#ed7953"
             ],
             [
              0.7777777777777778,
              "#fb9f3a"
             ],
             [
              0.8888888888888888,
              "#fdca26"
             ],
             [
              1,
              "#f0f921"
             ]
            ],
            "type": "heatmap"
           }
          ],
          "heatmapgl": [
           {
            "colorbar": {
             "outlinewidth": 0,
             "ticks": ""
            },
            "colorscale": [
             [
              0,
              "#0d0887"
             ],
             [
              0.1111111111111111,
              "#46039f"
             ],
             [
              0.2222222222222222,
              "#7201a8"
             ],
             [
              0.3333333333333333,
              "#9c179e"
             ],
             [
              0.4444444444444444,
              "#bd3786"
             ],
             [
              0.5555555555555556,
              "#d8576b"
             ],
             [
              0.6666666666666666,
              "#ed7953"
             ],
             [
              0.7777777777777778,
              "#fb9f3a"
             ],
             [
              0.8888888888888888,
              "#fdca26"
             ],
             [
              1,
              "#f0f921"
             ]
            ],
            "type": "heatmapgl"
           }
          ],
          "histogram": [
           {
            "marker": {
             "pattern": {
              "fillmode": "overlay",
              "size": 10,
              "solidity": 0.2
             }
            },
            "type": "histogram"
           }
          ],
          "histogram2d": [
           {
            "colorbar": {
             "outlinewidth": 0,
             "ticks": ""
            },
            "colorscale": [
             [
              0,
              "#0d0887"
             ],
             [
              0.1111111111111111,
              "#46039f"
             ],
             [
              0.2222222222222222,
              "#7201a8"
             ],
             [
              0.3333333333333333,
              "#9c179e"
             ],
             [
              0.4444444444444444,
              "#bd3786"
             ],
             [
              0.5555555555555556,
              "#d8576b"
             ],
             [
              0.6666666666666666,
              "#ed7953"
             ],
             [
              0.7777777777777778,
              "#fb9f3a"
             ],
             [
              0.8888888888888888,
              "#fdca26"
             ],
             [
              1,
              "#f0f921"
             ]
            ],
            "type": "histogram2d"
           }
          ],
          "histogram2dcontour": [
           {
            "colorbar": {
             "outlinewidth": 0,
             "ticks": ""
            },
            "colorscale": [
             [
              0,
              "#0d0887"
             ],
             [
              0.1111111111111111,
              "#46039f"
             ],
             [
              0.2222222222222222,
              "#7201a8"
             ],
             [
              0.3333333333333333,
              "#9c179e"
             ],
             [
              0.4444444444444444,
              "#bd3786"
             ],
             [
              0.5555555555555556,
              "#d8576b"
             ],
             [
              0.6666666666666666,
              "#ed7953"
             ],
             [
              0.7777777777777778,
              "#fb9f3a"
             ],
             [
              0.8888888888888888,
              "#fdca26"
             ],
             [
              1,
              "#f0f921"
             ]
            ],
            "type": "histogram2dcontour"
           }
          ],
          "mesh3d": [
           {
            "colorbar": {
             "outlinewidth": 0,
             "ticks": ""
            },
            "type": "mesh3d"
           }
          ],
          "parcoords": [
           {
            "line": {
             "colorbar": {
              "outlinewidth": 0,
              "ticks": ""
             }
            },
            "type": "parcoords"
           }
          ],
          "pie": [
           {
            "automargin": true,
            "type": "pie"
           }
          ],
          "scatter": [
           {
            "fillpattern": {
             "fillmode": "overlay",
             "size": 10,
             "solidity": 0.2
            },
            "type": "scatter"
           }
          ],
          "scatter3d": [
           {
            "line": {
             "colorbar": {
              "outlinewidth": 0,
              "ticks": ""
             }
            },
            "marker": {
             "colorbar": {
              "outlinewidth": 0,
              "ticks": ""
             }
            },
            "type": "scatter3d"
           }
          ],
          "scattercarpet": [
           {
            "marker": {
             "colorbar": {
              "outlinewidth": 0,
              "ticks": ""
             }
            },
            "type": "scattercarpet"
           }
          ],
          "scattergeo": [
           {
            "marker": {
             "colorbar": {
              "outlinewidth": 0,
              "ticks": ""
             }
            },
            "type": "scattergeo"
           }
          ],
          "scattergl": [
           {
            "marker": {
             "colorbar": {
              "outlinewidth": 0,
              "ticks": ""
             }
            },
            "type": "scattergl"
           }
          ],
          "scattermapbox": [
           {
            "marker": {
             "colorbar": {
              "outlinewidth": 0,
              "ticks": ""
             }
            },
            "type": "scattermapbox"
           }
          ],
          "scatterpolar": [
           {
            "marker": {
             "colorbar": {
              "outlinewidth": 0,
              "ticks": ""
             }
            },
            "type": "scatterpolar"
           }
          ],
          "scatterpolargl": [
           {
            "marker": {
             "colorbar": {
              "outlinewidth": 0,
              "ticks": ""
             }
            },
            "type": "scatterpolargl"
           }
          ],
          "scatterternary": [
           {
            "marker": {
             "colorbar": {
              "outlinewidth": 0,
              "ticks": ""
             }
            },
            "type": "scatterternary"
           }
          ],
          "surface": [
           {
            "colorbar": {
             "outlinewidth": 0,
             "ticks": ""
            },
            "colorscale": [
             [
              0,
              "#0d0887"
             ],
             [
              0.1111111111111111,
              "#46039f"
             ],
             [
              0.2222222222222222,
              "#7201a8"
             ],
             [
              0.3333333333333333,
              "#9c179e"
             ],
             [
              0.4444444444444444,
              "#bd3786"
             ],
             [
              0.5555555555555556,
              "#d8576b"
             ],
             [
              0.6666666666666666,
              "#ed7953"
             ],
             [
              0.7777777777777778,
              "#fb9f3a"
             ],
             [
              0.8888888888888888,
              "#fdca26"
             ],
             [
              1,
              "#f0f921"
             ]
            ],
            "type": "surface"
           }
          ],
          "table": [
           {
            "cells": {
             "fill": {
              "color": "#EBF0F8"
             },
             "line": {
              "color": "white"
             }
            },
            "header": {
             "fill": {
              "color": "#C8D4E3"
             },
             "line": {
              "color": "white"
             }
            },
            "type": "table"
           }
          ]
         },
         "layout": {
          "annotationdefaults": {
           "arrowcolor": "#2a3f5f",
           "arrowhead": 0,
           "arrowwidth": 1
          },
          "autotypenumbers": "strict",
          "coloraxis": {
           "colorbar": {
            "outlinewidth": 0,
            "ticks": ""
           }
          },
          "colorscale": {
           "diverging": [
            [
             0,
             "#8e0152"
            ],
            [
             0.1,
             "#c51b7d"
            ],
            [
             0.2,
             "#de77ae"
            ],
            [
             0.3,
             "#f1b6da"
            ],
            [
             0.4,
             "#fde0ef"
            ],
            [
             0.5,
             "#f7f7f7"
            ],
            [
             0.6,
             "#e6f5d0"
            ],
            [
             0.7,
             "#b8e186"
            ],
            [
             0.8,
             "#7fbc41"
            ],
            [
             0.9,
             "#4d9221"
            ],
            [
             1,
             "#276419"
            ]
           ],
           "sequential": [
            [
             0,
             "#0d0887"
            ],
            [
             0.1111111111111111,
             "#46039f"
            ],
            [
             0.2222222222222222,
             "#7201a8"
            ],
            [
             0.3333333333333333,
             "#9c179e"
            ],
            [
             0.4444444444444444,
             "#bd3786"
            ],
            [
             0.5555555555555556,
             "#d8576b"
            ],
            [
             0.6666666666666666,
             "#ed7953"
            ],
            [
             0.7777777777777778,
             "#fb9f3a"
            ],
            [
             0.8888888888888888,
             "#fdca26"
            ],
            [
             1,
             "#f0f921"
            ]
           ],
           "sequentialminus": [
            [
             0,
             "#0d0887"
            ],
            [
             0.1111111111111111,
             "#46039f"
            ],
            [
             0.2222222222222222,
             "#7201a8"
            ],
            [
             0.3333333333333333,
             "#9c179e"
            ],
            [
             0.4444444444444444,
             "#bd3786"
            ],
            [
             0.5555555555555556,
             "#d8576b"
            ],
            [
             0.6666666666666666,
             "#ed7953"
            ],
            [
             0.7777777777777778,
             "#fb9f3a"
            ],
            [
             0.8888888888888888,
             "#fdca26"
            ],
            [
             1,
             "#f0f921"
            ]
           ]
          },
          "colorway": [
           "#636efa",
           "#EF553B",
           "#00cc96",
           "#ab63fa",
           "#FFA15A",
           "#19d3f3",
           "#FF6692",
           "#B6E880",
           "#FF97FF",
           "#FECB52"
          ],
          "font": {
           "color": "#2a3f5f"
          },
          "geo": {
           "bgcolor": "white",
           "lakecolor": "white",
           "landcolor": "#E5ECF6",
           "showlakes": true,
           "showland": true,
           "subunitcolor": "white"
          },
          "hoverlabel": {
           "align": "left"
          },
          "hovermode": "closest",
          "mapbox": {
           "style": "light"
          },
          "paper_bgcolor": "white",
          "plot_bgcolor": "#E5ECF6",
          "polar": {
           "angularaxis": {
            "gridcolor": "white",
            "linecolor": "white",
            "ticks": ""
           },
           "bgcolor": "#E5ECF6",
           "radialaxis": {
            "gridcolor": "white",
            "linecolor": "white",
            "ticks": ""
           }
          },
          "scene": {
           "xaxis": {
            "backgroundcolor": "#E5ECF6",
            "gridcolor": "white",
            "gridwidth": 2,
            "linecolor": "white",
            "showbackground": true,
            "ticks": "",
            "zerolinecolor": "white"
           },
           "yaxis": {
            "backgroundcolor": "#E5ECF6",
            "gridcolor": "white",
            "gridwidth": 2,
            "linecolor": "white",
            "showbackground": true,
            "ticks": "",
            "zerolinecolor": "white"
           },
           "zaxis": {
            "backgroundcolor": "#E5ECF6",
            "gridcolor": "white",
            "gridwidth": 2,
            "linecolor": "white",
            "showbackground": true,
            "ticks": "",
            "zerolinecolor": "white"
           }
          },
          "shapedefaults": {
           "line": {
            "color": "#2a3f5f"
           }
          },
          "ternary": {
           "aaxis": {
            "gridcolor": "white",
            "linecolor": "white",
            "ticks": ""
           },
           "baxis": {
            "gridcolor": "white",
            "linecolor": "white",
            "ticks": ""
           },
           "bgcolor": "#E5ECF6",
           "caxis": {
            "gridcolor": "white",
            "linecolor": "white",
            "ticks": ""
           }
          },
          "title": {
           "x": 0.05
          },
          "xaxis": {
           "automargin": true,
           "gridcolor": "white",
           "linecolor": "white",
           "ticks": "",
           "title": {
            "standoff": 15
           },
           "zerolinecolor": "white",
           "zerolinewidth": 2
          },
          "yaxis": {
           "automargin": true,
           "gridcolor": "white",
           "linecolor": "white",
           "ticks": "",
           "title": {
            "standoff": 15
           },
           "zerolinecolor": "white",
           "zerolinewidth": 2
          }
         }
        },
        "title": {
         "font": {
          "color": "#1e293b",
          "family": "Georgia, serif",
          "size": 22
         },
         "text": "Evolucion de la Fuerza de Trabajo - Region de Los Rios (2010-2024)",
         "x": 0.02,
         "xanchor": "left"
        },
        "width": 1100,
        "xaxis": {
         "dtick": 2,
         "gridcolor": "#e5e7eb",
         "gridwidth": 1,
         "linecolor": "#1e293b",
         "linewidth": 2,
         "showgrid": false,
         "showline": true,
         "tick0": 2010,
         "tickfont": {
          "color": "#1e293b",
          "family": "Georgia, serif",
          "size": 12
         },
         "title": {
          "font": {
           "color": "#1e293b",
           "family": "Georgia, serif",
           "size": 14
          },
          "text": "Año"
         }
        },
        "yaxis": {
         "gridcolor": "#e5e7eb",
         "gridwidth": 1,
         "linecolor": "#1e293b",
         "linewidth": 2,
         "showgrid": true,
         "showline": true,
         "tickfont": {
          "color": "#1e293b",
          "family": "Georgia, serif",
          "size": 12
         },
         "title": {
          "font": {
           "color": "#1e293b",
           "family": "Georgia, serif",
           "size": 14
          },
          "text": "Fuerza de Trabajo (miles de personas)"
         }
        }
       }
      }
     },
     "metadata": {},
     "output_type": "display_data"
    }
   ],
   "source": [
    "# Create temporal evolution chart with CORRECTED data\n",
    "yearly_data = clean_data.groupby(['año', 'sexo'])['value'].mean().reset_index()\n",
    "\n",
    "fig = go.Figure()\n",
    "\n",
    "# Add lines for each gender with The Economist style\n",
    "for sexo in ['Ambos sexos', 'Hombres', 'Mujeres']:\n",
    "    data_sexo = yearly_data[yearly_data['sexo'] == sexo]\n",
    "    \n",
    "    fig.add_trace(go.Scatter(\n",
    "        x=data_sexo['año'],\n",
    "        y=data_sexo['value'],\n",
    "        mode='lines+markers',\n",
    "        name=sexo,\n",
    "        line=dict(color=economist_colors_temporal[sexo], width=3),\n",
    "        marker=dict(size=8, color=economist_colors_temporal[sexo]),\n",
    "        hovertemplate=f'<b>{sexo}</b><br>' +\n",
    "                      'Año: %{x}<br>' +\n",
    "                      'Fuerza de Trabajo: %{y:.1f} miles<br>' +\n",
    "                      '<extra></extra>'\n",
    "    ))\n",
    "\n",
    "# Add elegant minimalist annotation for COVID-19\n",
    "fig.add_vline(\n",
    "    x=2020, \n",
    "    line=dict(color=\"#8b5a3c\", width=1.5, dash=\"dot\"),\n",
    "    opacity=0.7\n",
    ")\n",
    "\n",
    "fig.add_annotation(\n",
    "    x=2020,\n",
    "    y=180,  # Fixed position at top of chart\n",
    "    text=\"COVID-19\",\n",
    "    showarrow=False,\n",
    "    font=dict(\n",
    "        family=font_config['family'], \n",
    "        size=10, \n",
    "        color=\"#8b5a3c\"\n",
    "    ),\n",
    "    bgcolor=\"rgba(255,255,255,0.8)\",\n",
    "    bordercolor=\"rgba(0,0,0,0)\",\n",
    "    xanchor=\"center\"\n",
    ")\n",
    "\n",
    "# Apply The Economist style\n",
    "fig.update_layout(\n",
    "    title={\n",
    "        'text': 'Evolucion de la Fuerza de Trabajo - Region de Los Rios (2010-2024)',\n",
    "        'x': 0.02,\n",
    "        'font': {'size': font_config['title_size'], 'family': font_config['family'], 'color': font_config['color']},\n",
    "        'xanchor': 'left'\n",
    "    },\n",
    "    xaxis_title='Año',\n",
    "    yaxis_title='Fuerza de Trabajo (miles de personas)',\n",
    "    hovermode='x unified',\n",
    "    width=1100,\n",
    "    height=650,\n",
    "    showlegend=True,\n",
    "    legend=dict(\n",
    "        orientation=\"h\",\n",
    "        yanchor=\"top\",\n",
    "        y=1.05,\n",
    "        xanchor=\"right\",\n",
    "        x=0.98,\n",
    "        bgcolor=\"rgba(255,255,255,0.85)\",\n",
    "        bordercolor=\"rgba(0,0,0,0)\",\n",
    "        borderwidth=0,\n",
    "        font=dict(family=font_config['family'], color=font_config['color'], size=font_config['legend_size'])\n",
    "    ),\n",
    "    plot_bgcolor=layout_config['plot_bgcolor'],\n",
    "    paper_bgcolor=layout_config['paper_bgcolor'],\n",
    "    font=dict(family=font_config['family'], color=font_config['color']),\n",
    "    xaxis=dict(\n",
    "        title=dict(font=dict(family=font_config['family'], color=font_config['color'], size=font_config['axis_size'])),\n",
    "        tickfont=dict(family=font_config['family'], color=font_config['color'], size=12),\n",
    "        showgrid=False,\n",
    "        gridcolor=layout_config['grid_color'],\n",
    "        gridwidth=1,\n",
    "        showline=True,\n",
    "        linecolor=layout_config['line_color'],\n",
    "        linewidth=2,\n",
    "        tick0=2010,\n",
    "        dtick=2\n",
    "    ),\n",
    "    yaxis=dict(\n",
    "        title=dict(font=dict(family=font_config['family'], color=font_config['color'], size=font_config['axis_size'])),\n",
    "        tickfont=dict(family=font_config['family'], color=font_config['color'], size=12),\n",
    "        showgrid=True,\n",
    "        gridcolor=layout_config['grid_color'],\n",
    "        gridwidth=1,\n",
    "        showline=True,\n",
    "        linecolor=layout_config['line_color'],\n",
    "        linewidth=2\n",
    "    )\n",
    ")\n",
    "\n",
    "fig.show()"
   ]
  },
  {
   "cell_type": "code",
   "execution_count": 14,
   "id": "81bbdcfa",
   "metadata": {},
   "outputs": [],
   "source": [
    "# Export figure to HTML for website embedding\n",
    "from pathlib import Path\n",
    "\n",
    "output_dir = Path(\"../docs\").resolve()\n",
    "output_dir.mkdir(parents=True, exist_ok=True)\n",
    "output_file = output_dir / \"plotly_los_rios.html\"\n",
    "\n",
    "# Write the interactive chart with Plotly JS via CDN to keep the file small\n",
    "fig.write_html(str(output_file), include_plotlyjs=\"cdn\", full_html=False)"
   ]
  },
  {
   "cell_type": "code",
   "execution_count": 15,
   "id": "5e06cef6",
   "metadata": {},
   "outputs": [
    {
     "data": {
      "text/html": [
       "<div>                        <script type=\"text/javascript\">window.PlotlyConfig = {MathJaxConfig: 'local'};</script>\n",
       "        <script charset=\"utf-8\" src=\"https://cdn.plot.ly/plotly-2.26.0.min.js\"></script>                <div id=\"e462ba6c-3249-4428-a882-2795ff52d4d7\" class=\"plotly-graph-div\" style=\"height:650px; width:1100px;\"></div>            <script type=\"text/javascript\">                                    window.PLOTLYENV=window.PLOTLYENV || {};                                    if (document.getElementById(\"e462ba6c-3249-4428-a882-2795ff52d4d7\")) {                    Plotly.newPlot(                        \"e462ba6c-3249-4428-a882-2795ff52d4d7\",                        [{\"hovertemplate\":\"\\u003cb\\u003eAmbos sexos\\u003c\\u002fb\\u003e\\u003cbr\\u003eA\\u00f1o: %{x}\\u003cbr\\u003eFuerza de Trabajo: %{y:.1f} miles\\u003cbr\\u003e\\u003cextra\\u003e\\u003c\\u002fextra\\u003e\",\"line\":{\"color\":\"#1f77b4\",\"width\":3},\"marker\":{\"color\":\"#1f77b4\",\"size\":8},\"mode\":\"lines+markers\",\"name\":\"Ambos sexos\",\"x\":[2010,2011,2012,2013,2014,2015,2016,2017,2018,2019,2020,2021,2022,2023,2024],\"y\":[155.0,158.3,161.7,164.3,165.2,167.9,170.7,174.0,176.5,179.4,165.5,170.9,180.1,175.6,183.3],\"type\":\"scatter\"},{\"hovertemplate\":\"\\u003cb\\u003eHombres\\u003c\\u002fb\\u003e\\u003cbr\\u003eA\\u00f1o: %{x}\\u003cbr\\u003eFuerza de Trabajo: %{y:.1f} miles\\u003cbr\\u003e\\u003cextra\\u003e\\u003c\\u002fextra\\u003e\",\"line\":{\"color\":\"#d62728\",\"width\":3},\"marker\":{\"color\":\"#d62728\",\"size\":8},\"mode\":\"lines+markers\",\"name\":\"Hombres\",\"x\":[2010,2011,2012,2013,2014,2015,2016,2017,2018,2019,2020,2021,2022,2023,2024],\"y\":[89.2,91.1,92.8,94.2,93.7,95.1,96.5,98.1,99.4,100.8,94.2,96.8,101.2,98.2,104.8],\"type\":\"scatter\"},{\"hovertemplate\":\"\\u003cb\\u003eMujeres\\u003c\\u002fb\\u003e\\u003cbr\\u003eA\\u00f1o: %{x}\\u003cbr\\u003eFuerza de Trabajo: %{y:.1f} miles\\u003cbr\\u003e\\u003cextra\\u003e\\u003c\\u002fextra\\u003e\",\"line\":{\"color\":\"#ff7f0e\",\"width\":3},\"marker\":{\"color\":\"#ff7f0e\",\"size\":8},\"mode\":\"lines+markers\",\"name\":\"Mujeres\",\"x\":[2010,2011,2012,2013,2014,2015,2016,2017,2018,2019,2020,2021,2022,2023,2024],\"y\":[65.8,67.2,68.9,70.1,71.5,72.8,74.2,75.9,77.1,78.6,71.3,74.1,78.9,77.4,78.5],\"type\":\"scatter\"}],                        {\"template\":{\"data\":{\"histogram2dcontour\":[{\"type\":\"histogram2dcontour\",\"colorbar\":{\"outlinewidth\":0,\"ticks\":\"\"},\"colorscale\":[[0.0,\"#0d0887\"],[0.1111111111111111,\"#46039f\"],[0.2222222222222222,\"#7201a8\"],[0.3333333333333333,\"#9c179e\"],[0.4444444444444444,\"#bd3786\"],[0.5555555555555556,\"#d8576b\"],[0.6666666666666666,\"#ed7953\"],[0.7777777777777778,\"#fb9f3a\"],[0.8888888888888888,\"#fdca26\"],[1.0,\"#f0f921\"]]}],\"choropleth\":[{\"type\":\"choropleth\",\"colorbar\":{\"outlinewidth\":0,\"ticks\":\"\"}}],\"histogram2d\":[{\"type\":\"histogram2d\",\"colorbar\":{\"outlinewidth\":0,\"ticks\":\"\"},\"colorscale\":[[0.0,\"#0d0887\"],[0.1111111111111111,\"#46039f\"],[0.2222222222222222,\"#7201a8\"],[0.3333333333333333,\"#9c179e\"],[0.4444444444444444,\"#bd3786\"],[0.5555555555555556,\"#d8576b\"],[0.6666666666666666,\"#ed7953\"],[0.7777777777777778,\"#fb9f3a\"],[0.8888888888888888,\"#fdca26\"],[1.0,\"#f0f921\"]]}],\"heatmap\":[{\"type\":\"heatmap\",\"colorbar\":{\"outlinewidth\":0,\"ticks\":\"\"},\"colorscale\":[[0.0,\"#0d0887\"],[0.1111111111111111,\"#46039f\"],[0.2222222222222222,\"#7201a8\"],[0.3333333333333333,\"#9c179e\"],[0.4444444444444444,\"#bd3786\"],[0.5555555555555556,\"#d8576b\"],[0.6666666666666666,\"#ed7953\"],[0.7777777777777778,\"#fb9f3a\"],[0.8888888888888888,\"#fdca26\"],[1.0,\"#f0f921\"]]}],\"heatmapgl\":[{\"type\":\"heatmapgl\",\"colorbar\":{\"outlinewidth\":0,\"ticks\":\"\"},\"colorscale\":[[0.0,\"#0d0887\"],[0.1111111111111111,\"#46039f\"],[0.2222222222222222,\"#7201a8\"],[0.3333333333333333,\"#9c179e\"],[0.4444444444444444,\"#bd3786\"],[0.5555555555555556,\"#d8576b\"],[0.6666666666666666,\"#ed7953\"],[0.7777777777777778,\"#fb9f3a\"],[0.8888888888888888,\"#fdca26\"],[1.0,\"#f0f921\"]]}],\"contourcarpet\":[{\"type\":\"contourcarpet\",\"colorbar\":{\"outlinewidth\":0,\"ticks\":\"\"}}],\"contour\":[{\"type\":\"contour\",\"colorbar\":{\"outlinewidth\":0,\"ticks\":\"\"},\"colorscale\":[[0.0,\"#0d0887\"],[0.1111111111111111,\"#46039f\"],[0.2222222222222222,\"#7201a8\"],[0.3333333333333333,\"#9c179e\"],[0.4444444444444444,\"#bd3786\"],[0.5555555555555556,\"#d8576b\"],[0.6666666666666666,\"#ed7953\"],[0.7777777777777778,\"#fb9f3a\"],[0.8888888888888888,\"#fdca26\"],[1.0,\"#f0f921\"]]}],\"surface\":[{\"type\":\"surface\",\"colorbar\":{\"outlinewidth\":0,\"ticks\":\"\"},\"colorscale\":[[0.0,\"#0d0887\"],[0.1111111111111111,\"#46039f\"],[0.2222222222222222,\"#7201a8\"],[0.3333333333333333,\"#9c179e\"],[0.4444444444444444,\"#bd3786\"],[0.5555555555555556,\"#d8576b\"],[0.6666666666666666,\"#ed7953\"],[0.7777777777777778,\"#fb9f3a\"],[0.8888888888888888,\"#fdca26\"],[1.0,\"#f0f921\"]]}],\"mesh3d\":[{\"type\":\"mesh3d\",\"colorbar\":{\"outlinewidth\":0,\"ticks\":\"\"}}],\"scatter\":[{\"fillpattern\":{\"fillmode\":\"overlay\",\"size\":10,\"solidity\":0.2},\"type\":\"scatter\"}],\"parcoords\":[{\"type\":\"parcoords\",\"line\":{\"colorbar\":{\"outlinewidth\":0,\"ticks\":\"\"}}}],\"scatterpolargl\":[{\"type\":\"scatterpolargl\",\"marker\":{\"colorbar\":{\"outlinewidth\":0,\"ticks\":\"\"}}}],\"bar\":[{\"error_x\":{\"color\":\"#2a3f5f\"},\"error_y\":{\"color\":\"#2a3f5f\"},\"marker\":{\"line\":{\"color\":\"#E5ECF6\",\"width\":0.5},\"pattern\":{\"fillmode\":\"overlay\",\"size\":10,\"solidity\":0.2}},\"type\":\"bar\"}],\"scattergeo\":[{\"type\":\"scattergeo\",\"marker\":{\"colorbar\":{\"outlinewidth\":0,\"ticks\":\"\"}}}],\"scatterpolar\":[{\"type\":\"scatterpolar\",\"marker\":{\"colorbar\":{\"outlinewidth\":0,\"ticks\":\"\"}}}],\"histogram\":[{\"marker\":{\"pattern\":{\"fillmode\":\"overlay\",\"size\":10,\"solidity\":0.2}},\"type\":\"histogram\"}],\"scattergl\":[{\"type\":\"scattergl\",\"marker\":{\"colorbar\":{\"outlinewidth\":0,\"ticks\":\"\"}}}],\"scatter3d\":[{\"type\":\"scatter3d\",\"line\":{\"colorbar\":{\"outlinewidth\":0,\"ticks\":\"\"}},\"marker\":{\"colorbar\":{\"outlinewidth\":0,\"ticks\":\"\"}}}],\"scattermapbox\":[{\"type\":\"scattermapbox\",\"marker\":{\"colorbar\":{\"outlinewidth\":0,\"ticks\":\"\"}}}],\"scatterternary\":[{\"type\":\"scatterternary\",\"marker\":{\"colorbar\":{\"outlinewidth\":0,\"ticks\":\"\"}}}],\"scattercarpet\":[{\"type\":\"scattercarpet\",\"marker\":{\"colorbar\":{\"outlinewidth\":0,\"ticks\":\"\"}}}],\"carpet\":[{\"aaxis\":{\"endlinecolor\":\"#2a3f5f\",\"gridcolor\":\"white\",\"linecolor\":\"white\",\"minorgridcolor\":\"white\",\"startlinecolor\":\"#2a3f5f\"},\"baxis\":{\"endlinecolor\":\"#2a3f5f\",\"gridcolor\":\"white\",\"linecolor\":\"white\",\"minorgridcolor\":\"white\",\"startlinecolor\":\"#2a3f5f\"},\"type\":\"carpet\"}],\"table\":[{\"cells\":{\"fill\":{\"color\":\"#EBF0F8\"},\"line\":{\"color\":\"white\"}},\"header\":{\"fill\":{\"color\":\"#C8D4E3\"},\"line\":{\"color\":\"white\"}},\"type\":\"table\"}],\"barpolar\":[{\"marker\":{\"line\":{\"color\":\"#E5ECF6\",\"width\":0.5},\"pattern\":{\"fillmode\":\"overlay\",\"size\":10,\"solidity\":0.2}},\"type\":\"barpolar\"}],\"pie\":[{\"automargin\":true,\"type\":\"pie\"}]},\"layout\":{\"autotypenumbers\":\"strict\",\"colorway\":[\"#636efa\",\"#EF553B\",\"#00cc96\",\"#ab63fa\",\"#FFA15A\",\"#19d3f3\",\"#FF6692\",\"#B6E880\",\"#FF97FF\",\"#FECB52\"],\"font\":{\"color\":\"#2a3f5f\"},\"hovermode\":\"closest\",\"hoverlabel\":{\"align\":\"left\"},\"paper_bgcolor\":\"white\",\"plot_bgcolor\":\"#E5ECF6\",\"polar\":{\"bgcolor\":\"#E5ECF6\",\"angularaxis\":{\"gridcolor\":\"white\",\"linecolor\":\"white\",\"ticks\":\"\"},\"radialaxis\":{\"gridcolor\":\"white\",\"linecolor\":\"white\",\"ticks\":\"\"}},\"ternary\":{\"bgcolor\":\"#E5ECF6\",\"aaxis\":{\"gridcolor\":\"white\",\"linecolor\":\"white\",\"ticks\":\"\"},\"baxis\":{\"gridcolor\":\"white\",\"linecolor\":\"white\",\"ticks\":\"\"},\"caxis\":{\"gridcolor\":\"white\",\"linecolor\":\"white\",\"ticks\":\"\"}},\"coloraxis\":{\"colorbar\":{\"outlinewidth\":0,\"ticks\":\"\"}},\"colorscale\":{\"sequential\":[[0.0,\"#0d0887\"],[0.1111111111111111,\"#46039f\"],[0.2222222222222222,\"#7201a8\"],[0.3333333333333333,\"#9c179e\"],[0.4444444444444444,\"#bd3786\"],[0.5555555555555556,\"#d8576b\"],[0.6666666666666666,\"#ed7953\"],[0.7777777777777778,\"#fb9f3a\"],[0.8888888888888888,\"#fdca26\"],[1.0,\"#f0f921\"]],\"sequentialminus\":[[0.0,\"#0d0887\"],[0.1111111111111111,\"#46039f\"],[0.2222222222222222,\"#7201a8\"],[0.3333333333333333,\"#9c179e\"],[0.4444444444444444,\"#bd3786\"],[0.5555555555555556,\"#d8576b\"],[0.6666666666666666,\"#ed7953\"],[0.7777777777777778,\"#fb9f3a\"],[0.8888888888888888,\"#fdca26\"],[1.0,\"#f0f921\"]],\"diverging\":[[0,\"#8e0152\"],[0.1,\"#c51b7d\"],[0.2,\"#de77ae\"],[0.3,\"#f1b6da\"],[0.4,\"#fde0ef\"],[0.5,\"#f7f7f7\"],[0.6,\"#e6f5d0\"],[0.7,\"#b8e186\"],[0.8,\"#7fbc41\"],[0.9,\"#4d9221\"],[1,\"#276419\"]]},\"xaxis\":{\"gridcolor\":\"white\",\"linecolor\":\"white\",\"ticks\":\"\",\"title\":{\"standoff\":15},\"zerolinecolor\":\"white\",\"automargin\":true,\"zerolinewidth\":2},\"yaxis\":{\"gridcolor\":\"white\",\"linecolor\":\"white\",\"ticks\":\"\",\"title\":{\"standoff\":15},\"zerolinecolor\":\"white\",\"automargin\":true,\"zerolinewidth\":2},\"scene\":{\"xaxis\":{\"backgroundcolor\":\"#E5ECF6\",\"gridcolor\":\"white\",\"linecolor\":\"white\",\"showbackground\":true,\"ticks\":\"\",\"zerolinecolor\":\"white\",\"gridwidth\":2},\"yaxis\":{\"backgroundcolor\":\"#E5ECF6\",\"gridcolor\":\"white\",\"linecolor\":\"white\",\"showbackground\":true,\"ticks\":\"\",\"zerolinecolor\":\"white\",\"gridwidth\":2},\"zaxis\":{\"backgroundcolor\":\"#E5ECF6\",\"gridcolor\":\"white\",\"linecolor\":\"white\",\"showbackground\":true,\"ticks\":\"\",\"zerolinecolor\":\"white\",\"gridwidth\":2}},\"shapedefaults\":{\"line\":{\"color\":\"#2a3f5f\"}},\"annotationdefaults\":{\"arrowcolor\":\"#2a3f5f\",\"arrowhead\":0,\"arrowwidth\":1},\"geo\":{\"bgcolor\":\"white\",\"landcolor\":\"#E5ECF6\",\"subunitcolor\":\"white\",\"showland\":true,\"showlakes\":true,\"lakecolor\":\"white\"},\"title\":{\"x\":0.05},\"mapbox\":{\"style\":\"light\"}}},\"shapes\":[{\"line\":{\"color\":\"#8b5a3c\",\"dash\":\"dot\",\"width\":1.5},\"opacity\":0.7,\"type\":\"line\",\"x0\":2020,\"x1\":2020,\"xref\":\"x\",\"y0\":0,\"y1\":1,\"yref\":\"y domain\"}],\"annotations\":[{\"bgcolor\":\"rgba(255,255,255,0.8)\",\"bordercolor\":\"rgba(0,0,0,0)\",\"font\":{\"color\":\"#8b5a3c\",\"family\":\"Georgia, serif\",\"size\":10},\"showarrow\":false,\"text\":\"COVID-19\",\"x\":2020,\"xanchor\":\"center\",\"y\":180}],\"title\":{\"font\":{\"size\":22,\"family\":\"Georgia, serif\",\"color\":\"#1e293b\"},\"text\":\"Evolucion de la Fuerza de Trabajo - Region de Los Rios (2010-2024)\",\"x\":0.02,\"xanchor\":\"left\"},\"legend\":{\"font\":{\"family\":\"Georgia, serif\",\"color\":\"#1e293b\",\"size\":14},\"orientation\":\"h\",\"yanchor\":\"top\",\"y\":1.05,\"xanchor\":\"right\",\"x\":0.98,\"bgcolor\":\"rgba(255,255,255,0.85)\",\"bordercolor\":\"rgba(0,0,0,0)\",\"borderwidth\":0},\"font\":{\"family\":\"Georgia, serif\",\"color\":\"#1e293b\"},\"xaxis\":{\"title\":{\"text\":\"A\\u00f1o\",\"font\":{\"family\":\"Georgia, serif\",\"color\":\"#1e293b\",\"size\":14}},\"tickfont\":{\"family\":\"Georgia, serif\",\"color\":\"#1e293b\",\"size\":12},\"showgrid\":false,\"gridcolor\":\"#e5e7eb\",\"gridwidth\":1,\"showline\":true,\"linecolor\":\"#1e293b\",\"linewidth\":2,\"tick0\":2010,\"dtick\":2},\"yaxis\":{\"title\":{\"text\":\"Fuerza de Trabajo (miles de personas)\",\"font\":{\"family\":\"Georgia, serif\",\"color\":\"#1e293b\",\"size\":14}},\"tickfont\":{\"family\":\"Georgia, serif\",\"color\":\"#1e293b\",\"size\":12},\"showgrid\":true,\"gridcolor\":\"#e5e7eb\",\"gridwidth\":1,\"showline\":true,\"linecolor\":\"#1e293b\",\"linewidth\":2},\"hovermode\":\"x unified\",\"width\":1100,\"height\":650,\"showlegend\":true,\"plot_bgcolor\":\"white\",\"paper_bgcolor\":\"white\"},                        {\"responsive\": true}                    )                };                            </script>        </div>"
      ],
      "text/plain": [
       "<IPython.core.display.HTML object>"
      ]
     },
     "metadata": {},
     "output_type": "display_data"
    }
   ],
   "source": [
    "# Embed Plotly figure directly in output for nbconvert\n",
    "from IPython.display import HTML, display\n",
    "\n",
    "html_fragment = fig.to_html(include_plotlyjs=\"cdn\", full_html=False)\n",
    "display(HTML(html_fragment))"
   ]
  }
 ],
 "metadata": {
  "kernelspec": {
   "display_name": "3.11.9",
   "language": "python",
   "name": "python3"
  },
  "language_info": {
   "codemirror_mode": {
    "name": "ipython",
    "version": 3
   },
   "file_extension": ".py",
   "mimetype": "text/x-python",
   "name": "python",
   "nbconvert_exporter": "python",
   "pygments_lexer": "ipython3",
   "version": "3.11.9"
  }
 },
 "nbformat": 4,
 "nbformat_minor": 5
}
