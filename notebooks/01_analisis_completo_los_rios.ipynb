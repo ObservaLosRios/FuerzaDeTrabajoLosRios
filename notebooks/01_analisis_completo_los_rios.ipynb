{
 "cells": [
  {
   "cell_type": "markdown",
   "id": "a63a0279",
   "metadata": {},
   "source": [
    "# 🌲 Análisis Completo de la Fuerza de Trabajo - Región de Los Ríos (XIV)\n",
    "\n",
    "## 📊 Análisis Profesional de Datos del INE Chile\n",
    "\n",
    "**Autor:** Bruno San Martín  \n",
    "**Institución:** Universidad Austral de Chile (UACh)  \n",
    "**Fecha:** Enero 2025  \n",
    "**Fuente de Datos:** Instituto Nacional de Estadísticas (INE) - Chile\n",
    "\n",
    "---\n",
    "\n",
    "### 🎯 Objetivos del Análisis\n",
    "\n",
    "Este notebook presenta un análisis completo y profesional de la fuerza de trabajo en la **Región de Los Ríos (CHL14)**, implementando:\n",
    "\n",
    "- ✅ **Clean Code**: Código limpio y mantenible\n",
    "- ✅ **Análisis Exploratorio**: Comprensión profunda de los datos\n",
    "- ✅ **Análisis Estadístico**: Tendencias y patrones significativos\n",
    "- ✅ **Visualización Avanzada**: Gráficos interactivos y dashboards\n",
    "- ✅ **Insights Accionables**: Conclusiones útiles para stakeholders\n",
    "\n",
    "### 📍 Región de Los Ríos - Contexto\n",
    "\n",
    "- **Capital:** Valdivia\n",
    "- **Población:** ~400,000 habitantes\n",
    "- **Economía:** Silvicultura, agricultura, turismo, servicios universitarios\n",
    "- **Código INE:** CHL14\n",
    "\n",
    "---"
   ]
  },
  {
   "cell_type": "markdown",
   "id": "8bfb822c",
   "metadata": {},
   "source": [
    "## 📚 1. Importación de Librerías y Configuración Inicial\n",
    "\n",
    "Importamos todas las librerías necesarias y configuramos el entorno de análisis."
   ]
  },
  {
   "cell_type": "code",
   "execution_count": 1,
   "id": "693bbe60",
   "metadata": {},
   "outputs": [
    {
     "name": "stdout",
     "output_type": "stream",
     "text": [
      "✅ Librerías importadas exitosamente\n",
      "📅 Fecha de análisis: 2025-07-01 14:57:08\n"
     ]
    }
   ],
   "source": [
    "# Importaciones principales de análisis de datos\n",
    "import pandas as pd\n",
    "import numpy as np\n",
    "import matplotlib.pyplot as plt\n",
    "import seaborn as sns\n",
    "import plotly.express as px\n",
    "import plotly.graph_objects as go\n",
    "from plotly.subplots import make_subplots\n",
    "\n",
    "# Importaciones estadísticas\n",
    "from scipy import stats\n",
    "from sklearn.preprocessing import StandardScaler\n",
    "from sklearn.decomposition import PCA\n",
    "\n",
    "# Importaciones del sistema y utilities\n",
    "import sys\n",
    "import os\n",
    "from pathlib import Path\n",
    "import warnings\n",
    "from datetime import datetime\n",
    "\n",
    "# Configuración de warnings\n",
    "warnings.filterwarnings('ignore')\n",
    "\n",
    "# Configurar estilo de matplotlib\n",
    "plt.style.use('seaborn-v0_8-whitegrid')\n",
    "sns.set_palette(\"husl\")\n",
    "\n",
    "# Configuración de pandas\n",
    "pd.set_option('display.max_columns', None)\n",
    "pd.set_option('display.width', None)\n",
    "pd.set_option('display.max_colwidth', 50)\n",
    "\n",
    "print(\"✅ Librerías importadas exitosamente\")\n",
    "print(f\"📅 Fecha de análisis: {datetime.now().strftime('%Y-%m-%d %H:%M:%S')}\")"
   ]
  },
  {
   "cell_type": "code",
   "execution_count": 3,
   "id": "02000555",
   "metadata": {},
   "outputs": [
    {
     "name": "stdout",
     "output_type": "stream",
     "text": [
      "⚠️  Error importando módulos del proyecto: attempted relative import beyond top-level package\n",
      "💡 Continuando con análisis básico usando solo pandas/numpy\n",
      "🌲 Usando configuración básica para: Los Ríos\n"
     ]
    }
   ],
   "source": [
    "# Importar módulos específicos del proyecto Los Ríos\n",
    "# Agregar el directorio padre al path para importaciones\n",
    "sys.path.append(str(Path.cwd().parent))\n",
    "\n",
    "# Variables para controlar disponibilidad de módulos\n",
    "modules_available = False\n",
    "\n",
    "try:\n",
    "    # Módulos ETL\n",
    "    from src.etl.data_extractor import LosRiosDataExtractor\n",
    "    from src.etl.data_transformer import LosRiosDataTransformer\n",
    "    from src.etl.data_loader import LosRiosDataLoader\n",
    "    \n",
    "    # Módulos de análisis\n",
    "    from src.models.labour_analyzer import LabourAnalyzer\n",
    "    from src.models.demographics import DemographicsAnalyzer\n",
    "    from src.models.statistics_engine import StatisticsEngine\n",
    "    \n",
    "    # Módulos de visualización\n",
    "    from src.visualization.chart_factory import ChartFactory\n",
    "    from src.visualization.dashboard_builder import DashboardBuilder\n",
    "    \n",
    "    # Configuración y utilidades\n",
    "    from config import LosRiosConfig, DataConfig, VisualizationConfig\n",
    "    from src.utils.validators import DataValidator\n",
    "    from src.utils.helpers import HelperFunctions\n",
    "    from src.utils.logger import setup_project_logging\n",
    "    \n",
    "    modules_available = True\n",
    "    print(\"✅ Módulos del proyecto importados exitosamente\")\n",
    "    \n",
    "    # Configurar logging del proyecto\n",
    "    setup_project_logging()\n",
    "    \n",
    "    # Inicializar configuraciones\n",
    "    config = LosRiosConfig()\n",
    "    data_config = DataConfig()\n",
    "    viz_config = VisualizationConfig()\n",
    "    \n",
    "    print(f\"🌲 Configuración cargada para: {config.REGION_NAME}\")\n",
    "    print(f\"📊 Directorio de datos: {data_config.RAW_PATH}\")\n",
    "    \n",
    "except ImportError as e:\n",
    "    print(f\"⚠️  Error importando módulos del proyecto: {e}\")\n",
    "    print(\"💡 Continuando con análisis básico usando solo pandas/numpy\")\n",
    "    modules_available = False\n",
    "    \n",
    "    # Configuración básica para análisis directo\n",
    "    class BasicConfig:\n",
    "        REGION_CODE = 'CHL14'\n",
    "        REGION_NAME = 'Los Ríos'\n",
    "        TARGET_COLUMNS = [\n",
    "            'region', 'provincia', 'comuna', 'sexo', 'edad', 'cae_especifico',\n",
    "            'activ', 'condocup', 'ocup_ref', 'rama_rev4', 'periodo'\n",
    "        ]\n",
    "    \n",
    "    config = BasicConfig()\n",
    "    print(f\"🌲 Usando configuración básica para: {config.REGION_NAME}\")"
   ]
  },
  {
   "cell_type": "markdown",
   "id": "7d74d6f8",
   "metadata": {},
   "source": [
    "## 📥 2. Carga y Exploración Inicial de Datos\n",
    "\n",
    "Utilizamos nuestro módulo ETL para cargar y hacer una exploración inicial de los datos del INE."
   ]
  },
  {
   "cell_type": "code",
   "execution_count": 5,
   "id": "a93555bc",
   "metadata": {},
   "outputs": [
    {
     "name": "stdout",
     "output_type": "stream",
     "text": [
      "🔄 Cargando datos del INE directamente...\n",
      "📁 Archivo encontrado: ENE_FDT_01072025123700776.csv\n",
      "\n",
      "📊 Información general del dataset:\n",
      "   • Filas totales: 14,739\n",
      "   • Columnas totales: 11\n",
      "   • Tamaño en memoria: 8.6 MB\n",
      "\n",
      "🔍 Primeras 3 filas del dataset:\n"
     ]
    },
    {
     "data": {
      "text/html": [
       "<div>\n",
       "<style scoped>\n",
       "    .dataframe tbody tr th:only-of-type {\n",
       "        vertical-align: middle;\n",
       "    }\n",
       "\n",
       "    .dataframe tbody tr th {\n",
       "        vertical-align: top;\n",
       "    }\n",
       "\n",
       "    .dataframe thead th {\n",
       "        text-align: right;\n",
       "    }\n",
       "</style>\n",
       "<table border=\"1\" class=\"dataframe\">\n",
       "  <thead>\n",
       "    <tr style=\"text-align: right;\">\n",
       "      <th></th>\n",
       "      <th>DTI_CL_INDICADOR</th>\n",
       "      <th>Indicador</th>\n",
       "      <th>DTI_CL_TRIMESTRE_MOVIL</th>\n",
       "      <th>Trimestre Móvil</th>\n",
       "      <th>DTI_CL_REGION</th>\n",
       "      <th>Región</th>\n",
       "      <th>DTI_CL_SEXO</th>\n",
       "      <th>Sexo</th>\n",
       "      <th>Value</th>\n",
       "      <th>Flag Codes</th>\n",
       "      <th>Flags</th>\n",
       "    </tr>\n",
       "  </thead>\n",
       "  <tbody>\n",
       "    <tr>\n",
       "      <th>0</th>\n",
       "      <td>ENE_FDT</td>\n",
       "      <td>Fuerza de trabajo (proyecciones base 2002)</td>\n",
       "      <td>2010-V02</td>\n",
       "      <td>2010 ene-mar</td>\n",
       "      <td>_T</td>\n",
       "      <td>Total país</td>\n",
       "      <td>_T</td>\n",
       "      <td>Ambos sexos</td>\n",
       "      <td>7613.820237</td>\n",
       "      <td>NaN</td>\n",
       "      <td>NaN</td>\n",
       "    </tr>\n",
       "    <tr>\n",
       "      <th>1</th>\n",
       "      <td>ENE_FDT</td>\n",
       "      <td>Fuerza de trabajo (proyecciones base 2002)</td>\n",
       "      <td>2010-V02</td>\n",
       "      <td>2010 ene-mar</td>\n",
       "      <td>_T</td>\n",
       "      <td>Total país</td>\n",
       "      <td>M</td>\n",
       "      <td>Hombres</td>\n",
       "      <td>4633.888195</td>\n",
       "      <td>NaN</td>\n",
       "      <td>NaN</td>\n",
       "    </tr>\n",
       "    <tr>\n",
       "      <th>2</th>\n",
       "      <td>ENE_FDT</td>\n",
       "      <td>Fuerza de trabajo (proyecciones base 2002)</td>\n",
       "      <td>2010-V02</td>\n",
       "      <td>2010 ene-mar</td>\n",
       "      <td>_T</td>\n",
       "      <td>Total país</td>\n",
       "      <td>F</td>\n",
       "      <td>Mujeres</td>\n",
       "      <td>2979.932042</td>\n",
       "      <td>NaN</td>\n",
       "      <td>NaN</td>\n",
       "    </tr>\n",
       "  </tbody>\n",
       "</table>\n",
       "</div>"
      ],
      "text/plain": [
       "  DTI_CL_INDICADOR                                   Indicador  \\\n",
       "0          ENE_FDT  Fuerza de trabajo (proyecciones base 2002)   \n",
       "1          ENE_FDT  Fuerza de trabajo (proyecciones base 2002)   \n",
       "2          ENE_FDT  Fuerza de trabajo (proyecciones base 2002)   \n",
       "\n",
       "  DTI_CL_TRIMESTRE_MOVIL Trimestre Móvil DTI_CL_REGION      Región  \\\n",
       "0               2010-V02    2010 ene-mar            _T  Total país   \n",
       "1               2010-V02    2010 ene-mar            _T  Total país   \n",
       "2               2010-V02    2010 ene-mar            _T  Total país   \n",
       "\n",
       "  DTI_CL_SEXO         Sexo        Value  Flag Codes  Flags  \n",
       "0          _T  Ambos sexos  7613.820237         NaN    NaN  \n",
       "1           M      Hombres  4633.888195         NaN    NaN  \n",
       "2           F      Mujeres  2979.932042         NaN    NaN  "
      ]
     },
     "metadata": {},
     "output_type": "display_data"
    },
    {
     "name": "stdout",
     "output_type": "stream",
     "text": [
      "\n",
      "📋 Columnas disponibles:\n",
      "    1. DTI_CL_INDICADOR\n",
      "    2. Indicador\n",
      "    3. DTI_CL_TRIMESTRE_MOVIL\n",
      "    4. Trimestre Móvil\n",
      "    5. DTI_CL_REGION\n",
      "    6. Región\n",
      "    7. DTI_CL_SEXO\n",
      "    8. Sexo\n",
      "    9. Value\n",
      "   10. Flag Codes\n",
      "   11. Flags\n",
      "\n",
      "🔢 Tipos de datos:\n"
     ]
    },
    {
     "data": {
      "text/plain": [
       "DTI_CL_INDICADOR           object\n",
       "Indicador                  object\n",
       "DTI_CL_TRIMESTRE_MOVIL     object\n",
       "Trimestre Móvil            object\n",
       "DTI_CL_REGION              object\n",
       "Región                     object\n",
       "DTI_CL_SEXO                object\n",
       "Sexo                       object\n",
       "Value                     float64\n",
       "Flag Codes                float64\n",
       "Flags                     float64\n",
       "dtype: object"
      ]
     },
     "metadata": {},
     "output_type": "display_data"
    }
   ],
   "source": [
    "# Cargar datos del INE - Los Ríos\n",
    "if modules_available:\n",
    "    # Usar extractor del proyecto\n",
    "    extractor = LosRiosDataExtractor()\n",
    "    print(\"🔄 Cargando datos del INE...\")\n",
    "    raw_data = extractor.extract()\n",
    "else:\n",
    "    # Cargar datos directamente con pandas\n",
    "    print(\"🔄 Cargando datos del INE directamente...\")\n",
    "    data_path = Path.cwd().parent / \"data\" / \"raw\"\n",
    "    \n",
    "    # Buscar archivo CSV\n",
    "    csv_files = list(data_path.glob(\"*.csv\"))\n",
    "    if not csv_files:\n",
    "        print(\"❌ No se encontraron archivos CSV en data/raw/\")\n",
    "        raise FileNotFoundError(\"No hay archivos CSV disponibles\")\n",
    "    \n",
    "    # Tomar el primer archivo CSV encontrado\n",
    "    csv_file = csv_files[0]\n",
    "    print(f\"📁 Archivo encontrado: {csv_file.name}\")\n",
    "    \n",
    "    # Cargar datos con diferentes encodings si es necesario\n",
    "    try:\n",
    "        raw_data = pd.read_csv(csv_file, encoding='utf-8')\n",
    "    except UnicodeDecodeError:\n",
    "        try:\n",
    "            raw_data = pd.read_csv(csv_file, encoding='latin1')\n",
    "        except UnicodeDecodeError:\n",
    "            raw_data = pd.read_csv(csv_file, encoding='cp1252')\n",
    "\n",
    "print(f\"\\n📊 Información general del dataset:\")\n",
    "print(f\"   • Filas totales: {len(raw_data):,}\")\n",
    "print(f\"   • Columnas totales: {len(raw_data.columns)}\")\n",
    "print(f\"   • Tamaño en memoria: {raw_data.memory_usage(deep=True).sum() / 1024**2:.1f} MB\")\n",
    "\n",
    "# Mostrar primeras filas\n",
    "print(f\"\\n🔍 Primeras 3 filas del dataset:\")\n",
    "display(raw_data.head(3))\n",
    "\n",
    "print(f\"\\n📋 Columnas disponibles:\")\n",
    "for i, col in enumerate(raw_data.columns, 1):\n",
    "    print(f\"   {i:2d}. {col}\")\n",
    "    \n",
    "print(f\"\\n🔢 Tipos de datos:\")\n",
    "display(raw_data.dtypes)"
   ]
  },
  {
   "cell_type": "code",
   "execution_count": 7,
   "id": "d3b74e13",
   "metadata": {},
   "outputs": [
    {
     "name": "stdout",
     "output_type": "stream",
     "text": [
      "🌲 Filtrando datos específicos de Los Ríos...\n",
      "\n",
      "📍 Regiones disponibles en el dataset:\n",
      "    1. Total país\n",
      "    2. Región de Arica y Parinacota\n",
      "    3. Región de Tarapacá\n",
      "    4. Región de Antofagasta\n",
      "    5. Región de Atacama\n",
      "    6. Región de Coquimbo\n",
      "    7. Región de Valparaíso\n",
      "    8. Región Metropolitana de Santiago\n",
      "    9. Región del Libertador Gral. Bernardo O'Higgins\n",
      "   10. Región del Maule\n",
      "   11. Región de Ñuble\n",
      "   12. Región del Biobío\n",
      "   13. Región de La Araucanía\n",
      "   14. Región de Los Ríos\n",
      "   15. Región de Los Lagos\n",
      "   16. Región de Aysén del Gral. Carlos Ibáñez del Campo\n",
      "   17. Región de Magallanes y La Antártica Chilena\n",
      "\n",
      "✅ Datos de Los Ríos encontrados con filtro: 'Los Ríos'\n",
      "\n",
      "📍 Datos de Los Ríos extraídos:\n",
      "   • Registros de Los Ríos: 867\n",
      "   • Columnas disponibles: 11\n",
      "\n",
      "🔍 Muestra de datos de Los Ríos:\n"
     ]
    },
    {
     "data": {
      "text/html": [
       "<div>\n",
       "<style scoped>\n",
       "    .dataframe tbody tr th:only-of-type {\n",
       "        vertical-align: middle;\n",
       "    }\n",
       "\n",
       "    .dataframe tbody tr th {\n",
       "        vertical-align: top;\n",
       "    }\n",
       "\n",
       "    .dataframe thead th {\n",
       "        text-align: right;\n",
       "    }\n",
       "</style>\n",
       "<table border=\"1\" class=\"dataframe\">\n",
       "  <thead>\n",
       "    <tr style=\"text-align: right;\">\n",
       "      <th></th>\n",
       "      <th>DTI_CL_INDICADOR</th>\n",
       "      <th>Indicador</th>\n",
       "      <th>DTI_CL_TRIMESTRE_MOVIL</th>\n",
       "      <th>Trimestre Móvil</th>\n",
       "      <th>DTI_CL_REGION</th>\n",
       "      <th>Región</th>\n",
       "      <th>DTI_CL_SEXO</th>\n",
       "      <th>Sexo</th>\n",
       "      <th>Value</th>\n",
       "      <th>Flag Codes</th>\n",
       "      <th>Flags</th>\n",
       "    </tr>\n",
       "  </thead>\n",
       "  <tbody>\n",
       "    <tr>\n",
       "      <th>39</th>\n",
       "      <td>ENE_FDT</td>\n",
       "      <td>Fuerza de trabajo (proyecciones base 2002)</td>\n",
       "      <td>2010-V02</td>\n",
       "      <td>2010 ene-mar</td>\n",
       "      <td>CHL14</td>\n",
       "      <td>Región de Los Ríos</td>\n",
       "      <td>_T</td>\n",
       "      <td>Ambos sexos</td>\n",
       "      <td>160.123738</td>\n",
       "      <td>NaN</td>\n",
       "      <td>NaN</td>\n",
       "    </tr>\n",
       "    <tr>\n",
       "      <th>40</th>\n",
       "      <td>ENE_FDT</td>\n",
       "      <td>Fuerza de trabajo (proyecciones base 2002)</td>\n",
       "      <td>2010-V02</td>\n",
       "      <td>2010 ene-mar</td>\n",
       "      <td>CHL14</td>\n",
       "      <td>Región de Los Ríos</td>\n",
       "      <td>M</td>\n",
       "      <td>Hombres</td>\n",
       "      <td>98.329013</td>\n",
       "      <td>NaN</td>\n",
       "      <td>NaN</td>\n",
       "    </tr>\n",
       "    <tr>\n",
       "      <th>41</th>\n",
       "      <td>ENE_FDT</td>\n",
       "      <td>Fuerza de trabajo (proyecciones base 2002)</td>\n",
       "      <td>2010-V02</td>\n",
       "      <td>2010 ene-mar</td>\n",
       "      <td>CHL14</td>\n",
       "      <td>Región de Los Ríos</td>\n",
       "      <td>F</td>\n",
       "      <td>Mujeres</td>\n",
       "      <td>61.794725</td>\n",
       "      <td>NaN</td>\n",
       "      <td>NaN</td>\n",
       "    </tr>\n",
       "    <tr>\n",
       "      <th>90</th>\n",
       "      <td>ENE_FDT</td>\n",
       "      <td>Fuerza de trabajo (proyecciones base 2002)</td>\n",
       "      <td>2010-V03</td>\n",
       "      <td>2010 feb-abr</td>\n",
       "      <td>CHL14</td>\n",
       "      <td>Región de Los Ríos</td>\n",
       "      <td>_T</td>\n",
       "      <td>Ambos sexos</td>\n",
       "      <td>154.475694</td>\n",
       "      <td>NaN</td>\n",
       "      <td>NaN</td>\n",
       "    </tr>\n",
       "    <tr>\n",
       "      <th>91</th>\n",
       "      <td>ENE_FDT</td>\n",
       "      <td>Fuerza de trabajo (proyecciones base 2002)</td>\n",
       "      <td>2010-V03</td>\n",
       "      <td>2010 feb-abr</td>\n",
       "      <td>CHL14</td>\n",
       "      <td>Región de Los Ríos</td>\n",
       "      <td>M</td>\n",
       "      <td>Hombres</td>\n",
       "      <td>94.829801</td>\n",
       "      <td>NaN</td>\n",
       "      <td>NaN</td>\n",
       "    </tr>\n",
       "  </tbody>\n",
       "</table>\n",
       "</div>"
      ],
      "text/plain": [
       "   DTI_CL_INDICADOR                                   Indicador  \\\n",
       "39          ENE_FDT  Fuerza de trabajo (proyecciones base 2002)   \n",
       "40          ENE_FDT  Fuerza de trabajo (proyecciones base 2002)   \n",
       "41          ENE_FDT  Fuerza de trabajo (proyecciones base 2002)   \n",
       "90          ENE_FDT  Fuerza de trabajo (proyecciones base 2002)   \n",
       "91          ENE_FDT  Fuerza de trabajo (proyecciones base 2002)   \n",
       "\n",
       "   DTI_CL_TRIMESTRE_MOVIL Trimestre Móvil DTI_CL_REGION              Región  \\\n",
       "39               2010-V02    2010 ene-mar         CHL14  Región de Los Ríos   \n",
       "40               2010-V02    2010 ene-mar         CHL14  Región de Los Ríos   \n",
       "41               2010-V02    2010 ene-mar         CHL14  Región de Los Ríos   \n",
       "90               2010-V03    2010 feb-abr         CHL14  Región de Los Ríos   \n",
       "91               2010-V03    2010 feb-abr         CHL14  Región de Los Ríos   \n",
       "\n",
       "   DTI_CL_SEXO         Sexo       Value  Flag Codes  Flags  \n",
       "39          _T  Ambos sexos  160.123738         NaN    NaN  \n",
       "40           M      Hombres   98.329013         NaN    NaN  \n",
       "41           F      Mujeres   61.794725         NaN    NaN  \n",
       "90          _T  Ambos sexos  154.475694         NaN    NaN  \n",
       "91           M      Hombres   94.829801         NaN    NaN  "
      ]
     },
     "metadata": {},
     "output_type": "display_data"
    },
    {
     "name": "stdout",
     "output_type": "stream",
     "text": [
      "\n",
      "📅 Períodos disponibles: 171\n",
      "   • Primer período: 2010 abr-jun\n",
      "   • Último período: 2024 mar-may\n",
      "\n",
      "📊 Indicadores disponibles: 2\n",
      "   1. Fuerza de trabajo (proyecciones base 2002)\n",
      "   2. Fuerza de trabajo (proyecciones base 2017)\n",
      "\n",
      "👥 Distribución por sexo:\n",
      "   • Ambos sexos: 289 registros\n",
      "   • Hombres: 289 registros\n",
      "   • Mujeres: 289 registros\n"
     ]
    }
   ],
   "source": [
    "# Extraer datos específicos de Los Ríos\n",
    "print(\"🌲 Filtrando datos específicos de Los Ríos...\")\n",
    "\n",
    "# Primero veamos qué regiones están disponibles\n",
    "print(\"\\n📍 Regiones disponibles en el dataset:\")\n",
    "regiones_disponibles = raw_data['Región'].unique()\n",
    "for i, region in enumerate(regiones_disponibles, 1):\n",
    "    print(f\"   {i:2d}. {region}\")\n",
    "\n",
    "# Buscar Los Ríos (puede tener diferentes nombres)\n",
    "los_rios_filters = ['Los Ríos', 'XIV', 'Los Rios', 'De Los Ríos']\n",
    "los_rios_data = pd.DataFrame()\n",
    "\n",
    "for filter_name in los_rios_filters:\n",
    "    filtered = raw_data[raw_data['Región'].str.contains(filter_name, case=False, na=False)]\n",
    "    if not filtered.empty:\n",
    "        los_rios_data = filtered\n",
    "        print(f\"\\n✅ Datos de Los Ríos encontrados con filtro: '{filter_name}'\")\n",
    "        break\n",
    "\n",
    "if los_rios_data.empty:\n",
    "    print(\"\\n⚠️  No se encontraron datos específicos de Los Ríos\")\n",
    "    print(\"💡 Usando datos del total país para demostración\")\n",
    "    los_rios_data = raw_data[raw_data['Región'] == 'Total país'].copy()\n",
    "    los_rios_data['Región'] = 'Los Ríos (simulado)'\n",
    "\n",
    "print(f\"\\n📍 Datos de Los Ríos extraídos:\")\n",
    "print(f\"   • Registros de Los Ríos: {len(los_rios_data):,}\")\n",
    "print(f\"   • Columnas disponibles: {len(los_rios_data.columns)}\")\n",
    "\n",
    "# Mostrar muestra de datos de Los Ríos\n",
    "print(f\"\\n🔍 Muestra de datos de Los Ríos:\")\n",
    "display(los_rios_data.head())\n",
    "\n",
    "# Verificar período de datos\n",
    "if 'Trimestre Móvil' in los_rios_data.columns:\n",
    "    periodos = los_rios_data['Trimestre Móvil'].unique()\n",
    "    print(f\"\\n📅 Períodos disponibles: {len(periodos)}\")\n",
    "    print(f\"   • Primer período: {min(periodos)}\")\n",
    "    print(f\"   • Último período: {max(periodos)}\")\n",
    "\n",
    "# Verificar indicadores disponibles\n",
    "if 'Indicador' in los_rios_data.columns:\n",
    "    indicadores = los_rios_data['Indicador'].unique()\n",
    "    print(f\"\\n📊 Indicadores disponibles: {len(indicadores)}\")\n",
    "    for i, indicador in enumerate(indicadores, 1):\n",
    "        print(f\"   {i}. {indicador}\")\n",
    "\n",
    "# Verificar distribución por sexo\n",
    "if 'Sexo' in los_rios_data.columns:\n",
    "    sexo_dist = los_rios_data['Sexo'].value_counts()\n",
    "    print(f\"\\n👥 Distribución por sexo:\")\n",
    "    for sexo, count in sexo_dist.items():\n",
    "        print(f\"   • {sexo}: {count:,} registros\")"
   ]
  },
  {
   "cell_type": "markdown",
   "id": "e7e58df8",
   "metadata": {},
   "source": [
    "## 🧹 3. Limpieza y Transformación de Datos\n",
    "\n",
    "Aplicamos nuestro pipeline de transformación para limpiar y preparar los datos para el análisis."
   ]
  },
  {
   "cell_type": "code",
   "execution_count": 9,
   "id": "f48f93ea",
   "metadata": {},
   "outputs": [
    {
     "name": "stdout",
     "output_type": "stream",
     "text": [
      "🔄 Aplicando transformaciones a los datos...\n",
      "\n",
      "📋 Transformaciones aplicadas:\n",
      "   • Limpieza de nombres de columnas\n",
      "   • Extracción de año desde trimestre móvil\n",
      "   • Eliminación de valores nulos en 'value'\n",
      "   • Mapeo de códigos de sexo\n",
      "   • Flag para datos recientes (2022+)\n",
      "\n",
      "✨ Datos transformados:\n",
      "   • Filas después de limpieza: 867\n",
      "   • Columnas después de transformación: 14\n",
      "\n",
      "📅 Distribución temporal:\n",
      "   • Años disponibles: 2010 - 2024\n",
      "   • Registros por año (últimos 5):\n",
      "     2020: 36 registros\n",
      "     2021: 36 registros\n",
      "     2022: 36 registros\n",
      "     2023: 36 registros\n",
      "     2024: 12 registros\n",
      "\n",
      "💼 Estadísticas de Fuerza de Trabajo:\n",
      "   • Valor mínimo: 55.5\n",
      "   • Valor máximo: 210.0\n",
      "   • Valor promedio: 123.6\n",
      "   • Valor mediano: 110.5\n",
      "\n",
      "🔍 Muestra de datos transformados:\n"
     ]
    },
    {
     "data": {
      "text/html": [
       "<div>\n",
       "<style scoped>\n",
       "    .dataframe tbody tr th:only-of-type {\n",
       "        vertical-align: middle;\n",
       "    }\n",
       "\n",
       "    .dataframe tbody tr th {\n",
       "        vertical-align: top;\n",
       "    }\n",
       "\n",
       "    .dataframe thead th {\n",
       "        text-align: right;\n",
       "    }\n",
       "</style>\n",
       "<table border=\"1\" class=\"dataframe\">\n",
       "  <thead>\n",
       "    <tr style=\"text-align: right;\">\n",
       "      <th></th>\n",
       "      <th>región</th>\n",
       "      <th>sexo</th>\n",
       "      <th>value</th>\n",
       "      <th>año</th>\n",
       "      <th>indicador</th>\n",
       "    </tr>\n",
       "  </thead>\n",
       "  <tbody>\n",
       "    <tr>\n",
       "      <th>39</th>\n",
       "      <td>Región de Los Ríos</td>\n",
       "      <td>Ambos sexos</td>\n",
       "      <td>160.123738</td>\n",
       "      <td>2010</td>\n",
       "      <td>Fuerza de trabajo (proyecciones base 2002)</td>\n",
       "    </tr>\n",
       "    <tr>\n",
       "      <th>40</th>\n",
       "      <td>Región de Los Ríos</td>\n",
       "      <td>Hombres</td>\n",
       "      <td>98.329013</td>\n",
       "      <td>2010</td>\n",
       "      <td>Fuerza de trabajo (proyecciones base 2002)</td>\n",
       "    </tr>\n",
       "    <tr>\n",
       "      <th>41</th>\n",
       "      <td>Región de Los Ríos</td>\n",
       "      <td>Mujeres</td>\n",
       "      <td>61.794725</td>\n",
       "      <td>2010</td>\n",
       "      <td>Fuerza de trabajo (proyecciones base 2002)</td>\n",
       "    </tr>\n",
       "    <tr>\n",
       "      <th>90</th>\n",
       "      <td>Región de Los Ríos</td>\n",
       "      <td>Ambos sexos</td>\n",
       "      <td>154.475694</td>\n",
       "      <td>2010</td>\n",
       "      <td>Fuerza de trabajo (proyecciones base 2002)</td>\n",
       "    </tr>\n",
       "    <tr>\n",
       "      <th>91</th>\n",
       "      <td>Región de Los Ríos</td>\n",
       "      <td>Hombres</td>\n",
       "      <td>94.829801</td>\n",
       "      <td>2010</td>\n",
       "      <td>Fuerza de trabajo (proyecciones base 2002)</td>\n",
       "    </tr>\n",
       "  </tbody>\n",
       "</table>\n",
       "</div>"
      ],
      "text/plain": [
       "                región         sexo       value   año  \\\n",
       "39  Región de Los Ríos  Ambos sexos  160.123738  2010   \n",
       "40  Región de Los Ríos      Hombres   98.329013  2010   \n",
       "41  Región de Los Ríos      Mujeres   61.794725  2010   \n",
       "90  Región de Los Ríos  Ambos sexos  154.475694  2010   \n",
       "91  Región de Los Ríos      Hombres   94.829801  2010   \n",
       "\n",
       "                                     indicador  \n",
       "39  Fuerza de trabajo (proyecciones base 2002)  \n",
       "40  Fuerza de trabajo (proyecciones base 2002)  \n",
       "41  Fuerza de trabajo (proyecciones base 2002)  \n",
       "90  Fuerza de trabajo (proyecciones base 2002)  \n",
       "91  Fuerza de trabajo (proyecciones base 2002)  "
      ]
     },
     "metadata": {},
     "output_type": "display_data"
    }
   ],
   "source": [
    "# Limpieza y transformación de datos de Los Ríos\n",
    "print(\"🔄 Aplicando transformaciones a los datos...\")\n",
    "\n",
    "if modules_available:\n",
    "    # Usar transformer del proyecto\n",
    "    transformer = LosRiosDataTransformer()\n",
    "    clean_data = transformer.transform(los_rios_data)\n",
    "    \n",
    "    # Obtener resumen de transformaciones con parámetros requeridos\n",
    "    try:\n",
    "        transformation_summary = transformer.get_transformation_summary(los_rios_data, clean_data)\n",
    "        print(f\"\\n📋 Resumen de transformaciones:\")\n",
    "        for key, value in transformation_summary.items():\n",
    "            print(f\"   • {key}: {value}\")\n",
    "    except Exception as e:\n",
    "        print(f\"\\n⚠️ Error obteniendo resumen: {e}\")\n",
    "else:\n",
    "    # Transformación básica con pandas\n",
    "    clean_data = los_rios_data.copy()\n",
    "    \n",
    "    # Limpiar nombres de columnas\n",
    "    clean_data.columns = clean_data.columns.str.strip().str.lower().str.replace(' ', '_')\n",
    "    \n",
    "    # Crear columnas adicionales útiles\n",
    "    clean_data['año'] = clean_data['trimestre_móvil'].str.extract(r'(\\d{4})')\n",
    "    clean_data['año'] = pd.to_numeric(clean_data['año'])\n",
    "    \n",
    "    # Limpiar valores nulos\n",
    "    clean_data = clean_data.dropna(subset=['value'])\n",
    "    \n",
    "    # Crear categorías simplificadas\n",
    "    clean_data['sexo_codigo'] = clean_data['sexo'].map({\n",
    "        'Ambos sexos': 'T',\n",
    "        'Hombres': 'M', \n",
    "        'Mujeres': 'F'\n",
    "    })\n",
    "    \n",
    "    # Agregar flag de datos más recientes\n",
    "    max_year = clean_data['año'].max()\n",
    "    clean_data['es_dato_reciente'] = clean_data['año'] >= (max_year - 2)\n",
    "    \n",
    "    print(f\"\\n📋 Transformaciones aplicadas:\")\n",
    "    print(f\"   • Limpieza de nombres de columnas\")\n",
    "    print(f\"   • Extracción de año desde trimestre móvil\") \n",
    "    print(f\"   • Eliminación de valores nulos en 'value'\")\n",
    "    print(f\"   • Mapeo de códigos de sexo\")\n",
    "    print(f\"   • Flag para datos recientes (2022+)\")\n",
    "\n",
    "print(f\"\\n✨ Datos transformados:\")\n",
    "print(f\"   • Filas después de limpieza: {len(clean_data):,}\")\n",
    "print(f\"   • Columnas después de transformación: {len(clean_data.columns)}\")\n",
    "\n",
    "# Verificar distribución temporal  \n",
    "print(f\"\\n📅 Distribución temporal:\")\n",
    "year_counts = clean_data['año'].value_counts().sort_index()\n",
    "print(f\"   • Años disponibles: {year_counts.index.min()} - {year_counts.index.max()}\")\n",
    "print(f\"   • Registros por año (últimos 5):\")\n",
    "for year in sorted(year_counts.index)[-5:]:\n",
    "    print(f\"     {year}: {year_counts[year]} registros\")\n",
    "\n",
    "# Verificar valores de fuerza de trabajo\n",
    "print(f\"\\n💼 Estadísticas de Fuerza de Trabajo:\")\n",
    "print(f\"   • Valor mínimo: {clean_data['value'].min():.1f}\")\n",
    "print(f\"   • Valor máximo: {clean_data['value'].max():.1f}\")\n",
    "print(f\"   • Valor promedio: {clean_data['value'].mean():.1f}\")\n",
    "print(f\"   • Valor mediano: {clean_data['value'].median():.1f}\")\n",
    "\n",
    "# Mostrar muestra de datos limpios\n",
    "print(f\"\\n🔍 Muestra de datos transformados:\")\n",
    "display(clean_data[['región', 'sexo', 'value', 'año', 'indicador']].head())"
   ]
  },
  {
   "cell_type": "markdown",
   "id": "7ca3cd45",
   "metadata": {},
   "source": [
    "## 🔍 4. Análisis Exploratorio de Datos (EDA)\n",
    "\n",
    "Realizamos un análisis exploratorio exhaustivo para entender los patrones y características de la fuerza de trabajo en Los Ríos."
   ]
  },
  {
   "cell_type": "code",
   "execution_count": 11,
   "id": "78e55b92",
   "metadata": {},
   "outputs": [
    {
     "name": "stdout",
     "output_type": "stream",
     "text": [
      "📈 ESTADÍSTICAS DESCRIPTIVAS DE LOS RÍOS\n",
      "==================================================\n"
     ]
    },
    {
     "data": {
      "text/html": [
       "<div>\n",
       "<style scoped>\n",
       "    .dataframe tbody tr th:only-of-type {\n",
       "        vertical-align: middle;\n",
       "    }\n",
       "\n",
       "    .dataframe tbody tr th {\n",
       "        vertical-align: top;\n",
       "    }\n",
       "\n",
       "    .dataframe thead th {\n",
       "        text-align: right;\n",
       "    }\n",
       "</style>\n",
       "<table border=\"1\" class=\"dataframe\">\n",
       "  <thead>\n",
       "    <tr style=\"text-align: right;\">\n",
       "      <th></th>\n",
       "      <th>value</th>\n",
       "      <th>flag_codes</th>\n",
       "      <th>flags</th>\n",
       "      <th>año</th>\n",
       "    </tr>\n",
       "  </thead>\n",
       "  <tbody>\n",
       "    <tr>\n",
       "      <th>count</th>\n",
       "      <td>867.000000</td>\n",
       "      <td>0.0</td>\n",
       "      <td>0.0</td>\n",
       "      <td>867.000000</td>\n",
       "    </tr>\n",
       "    <tr>\n",
       "      <th>mean</th>\n",
       "      <td>123.578508</td>\n",
       "      <td>NaN</td>\n",
       "      <td>NaN</td>\n",
       "      <td>2015.809689</td>\n",
       "    </tr>\n",
       "    <tr>\n",
       "      <th>std</th>\n",
       "      <td>47.005350</td>\n",
       "      <td>NaN</td>\n",
       "      <td>NaN</td>\n",
       "      <td>3.812826</td>\n",
       "    </tr>\n",
       "    <tr>\n",
       "      <th>min</th>\n",
       "      <td>55.515908</td>\n",
       "      <td>NaN</td>\n",
       "      <td>NaN</td>\n",
       "      <td>2010.000000</td>\n",
       "    </tr>\n",
       "    <tr>\n",
       "      <th>25%</th>\n",
       "      <td>82.267047</td>\n",
       "      <td>NaN</td>\n",
       "      <td>NaN</td>\n",
       "      <td>2013.000000</td>\n",
       "    </tr>\n",
       "    <tr>\n",
       "      <th>50%</th>\n",
       "      <td>110.502071</td>\n",
       "      <td>NaN</td>\n",
       "      <td>NaN</td>\n",
       "      <td>2016.000000</td>\n",
       "    </tr>\n",
       "    <tr>\n",
       "      <th>75%</th>\n",
       "      <td>176.666465</td>\n",
       "      <td>NaN</td>\n",
       "      <td>NaN</td>\n",
       "      <td>2019.000000</td>\n",
       "    </tr>\n",
       "    <tr>\n",
       "      <th>max</th>\n",
       "      <td>210.040355</td>\n",
       "      <td>NaN</td>\n",
       "      <td>NaN</td>\n",
       "      <td>2024.000000</td>\n",
       "    </tr>\n",
       "  </tbody>\n",
       "</table>\n",
       "</div>"
      ],
      "text/plain": [
       "            value  flag_codes  flags          año\n",
       "count  867.000000         0.0    0.0   867.000000\n",
       "mean   123.578508         NaN    NaN  2015.809689\n",
       "std     47.005350         NaN    NaN     3.812826\n",
       "min     55.515908         NaN    NaN  2010.000000\n",
       "25%     82.267047         NaN    NaN  2013.000000\n",
       "50%    110.502071         NaN    NaN  2016.000000\n",
       "75%    176.666465         NaN    NaN  2019.000000\n",
       "max    210.040355         NaN    NaN  2024.000000"
      ]
     },
     "metadata": {},
     "output_type": "display_data"
    },
    {
     "name": "stdout",
     "output_type": "stream",
     "text": [
      "\n",
      "📊 Información adicional:\n",
      "   • Período de análisis: 2010 - 2024\n",
      "   • Número total de años: 15\n",
      "   • Fuerza de trabajo promedio: 124 personas\n",
      "   • Participación masculina promedio: 110 personas\n",
      "   • Participación femenina promedio: 75 personas\n",
      "\n",
      "📊 Valores extremos:\n",
      "   • Máxima fuerza de trabajo: 210 (2019)\n",
      "   • Mínima fuerza de trabajo: 56 (2010)\n",
      "\n",
      "🔍 Datos faltantes por columna:\n",
      "   • dti_cl_indicador: ✅ Completo\n",
      "   • indicador: ✅ Completo\n",
      "   • dti_cl_trimestre_movil: ✅ Completo\n",
      "   • trimestre_móvil: ✅ Completo\n",
      "   • dti_cl_region: ✅ Completo\n",
      "   • región: ✅ Completo\n",
      "   • dti_cl_sexo: ✅ Completo\n",
      "   • sexo: ✅ Completo\n",
      "   • value: ✅ Completo\n",
      "   • flag_codes: 867 (100.00%)\n",
      "   • flags: 867 (100.00%)\n",
      "   • año: ✅ Completo\n",
      "   • sexo_codigo: ✅ Completo\n",
      "   • es_dato_reciente: ✅ Completo\n",
      "\n",
      "👥 Distribución histórica por género:\n",
      "   • Total acumulado: 107,143 personas-trimestre\n",
      "   • Hombres: 31,792 (29.7%)\n",
      "   • Mujeres: 21,780 (20.3%)\n",
      "   • Ratio H/M: 1.46\n",
      "\n",
      "👥 ANÁLISIS POR SEXO:\n",
      "------------------------------\n"
     ]
    },
    {
     "data": {
      "text/html": [
       "<div>\n",
       "<style scoped>\n",
       "    .dataframe tbody tr th:only-of-type {\n",
       "        vertical-align: middle;\n",
       "    }\n",
       "\n",
       "    .dataframe tbody tr th {\n",
       "        vertical-align: top;\n",
       "    }\n",
       "\n",
       "    .dataframe thead th {\n",
       "        text-align: right;\n",
       "    }\n",
       "</style>\n",
       "<table border=\"1\" class=\"dataframe\">\n",
       "  <thead>\n",
       "    <tr style=\"text-align: right;\">\n",
       "      <th></th>\n",
       "      <th>count</th>\n",
       "      <th>mean</th>\n",
       "      <th>std</th>\n",
       "      <th>min</th>\n",
       "      <th>max</th>\n",
       "    </tr>\n",
       "    <tr>\n",
       "      <th>sexo</th>\n",
       "      <th></th>\n",
       "      <th></th>\n",
       "      <th></th>\n",
       "      <th></th>\n",
       "      <th></th>\n",
       "    </tr>\n",
       "  </thead>\n",
       "  <tbody>\n",
       "    <tr>\n",
       "      <th>Ambos sexos</th>\n",
       "      <td>289</td>\n",
       "      <td>185.37</td>\n",
       "      <td>13.80</td>\n",
       "      <td>149.05</td>\n",
       "      <td>210.04</td>\n",
       "    </tr>\n",
       "    <tr>\n",
       "      <th>Hombres</th>\n",
       "      <td>289</td>\n",
       "      <td>110.01</td>\n",
       "      <td>6.28</td>\n",
       "      <td>93.19</td>\n",
       "      <td>122.04</td>\n",
       "    </tr>\n",
       "    <tr>\n",
       "      <th>Mujeres</th>\n",
       "      <td>289</td>\n",
       "      <td>75.36</td>\n",
       "      <td>8.06</td>\n",
       "      <td>55.52</td>\n",
       "      <td>90.38</td>\n",
       "    </tr>\n",
       "  </tbody>\n",
       "</table>\n",
       "</div>"
      ],
      "text/plain": [
       "             count    mean    std     min     max\n",
       "sexo                                             \n",
       "Ambos sexos    289  185.37  13.80  149.05  210.04\n",
       "Hombres        289  110.01   6.28   93.19  122.04\n",
       "Mujeres        289   75.36   8.06   55.52   90.38"
      ]
     },
     "metadata": {},
     "output_type": "display_data"
    },
    {
     "name": "stdout",
     "output_type": "stream",
     "text": [
      "\n",
      "📊 ANÁLISIS POR INDICADOR:\n",
      "------------------------------\n"
     ]
    },
    {
     "data": {
      "text/html": [
       "<div>\n",
       "<style scoped>\n",
       "    .dataframe tbody tr th:only-of-type {\n",
       "        vertical-align: middle;\n",
       "    }\n",
       "\n",
       "    .dataframe tbody tr th {\n",
       "        vertical-align: top;\n",
       "    }\n",
       "\n",
       "    .dataframe thead th {\n",
       "        text-align: right;\n",
       "    }\n",
       "</style>\n",
       "<table border=\"1\" class=\"dataframe\">\n",
       "  <thead>\n",
       "    <tr style=\"text-align: right;\">\n",
       "      <th></th>\n",
       "      <th>count</th>\n",
       "      <th>mean</th>\n",
       "      <th>std</th>\n",
       "    </tr>\n",
       "    <tr>\n",
       "      <th>indicador</th>\n",
       "      <th></th>\n",
       "      <th></th>\n",
       "      <th></th>\n",
       "    </tr>\n",
       "  </thead>\n",
       "  <tbody>\n",
       "    <tr>\n",
       "      <th>Fuerza de trabajo (proyecciones base 2002)</th>\n",
       "      <td>354</td>\n",
       "      <td>122.21</td>\n",
       "      <td>46.92</td>\n",
       "    </tr>\n",
       "    <tr>\n",
       "      <th>Fuerza de trabajo (proyecciones base 2017)</th>\n",
       "      <td>513</td>\n",
       "      <td>124.53</td>\n",
       "      <td>47.08</td>\n",
       "    </tr>\n",
       "  </tbody>\n",
       "</table>\n",
       "</div>"
      ],
      "text/plain": [
       "                                            count    mean    std\n",
       "indicador                                                       \n",
       "Fuerza de trabajo (proyecciones base 2002)    354  122.21  46.92\n",
       "Fuerza de trabajo (proyecciones base 2017)    513  124.53  47.08"
      ]
     },
     "metadata": {},
     "output_type": "display_data"
    },
    {
     "name": "stdout",
     "output_type": "stream",
     "text": [
      "\n",
      "📅 ANÁLISIS TEMPORAL:\n",
      "------------------------------\n",
      "Promedio anual de fuerza de trabajo (últimos 5 años):\n",
      "   2020: 117.6\n",
      "   2021: 118.3\n",
      "   2022: 125.6\n",
      "   2023: 129.7\n",
      "   2024: 134.2\n",
      "\n",
      "Tasa de crecimiento anual promedio: 1.73%\n",
      "\n",
      "🏆 DATOS MÁS RECIENTES (2023-2024):\n",
      "----------------------------------------\n"
     ]
    },
    {
     "data": {
      "text/html": [
       "<div>\n",
       "<style scoped>\n",
       "    .dataframe tbody tr th:only-of-type {\n",
       "        vertical-align: middle;\n",
       "    }\n",
       "\n",
       "    .dataframe tbody tr th {\n",
       "        vertical-align: top;\n",
       "    }\n",
       "\n",
       "    .dataframe thead th {\n",
       "        text-align: right;\n",
       "    }\n",
       "</style>\n",
       "<table border=\"1\" class=\"dataframe\">\n",
       "  <thead>\n",
       "    <tr style=\"text-align: right;\">\n",
       "      <th>sexo</th>\n",
       "      <th>Ambos sexos</th>\n",
       "      <th>Hombres</th>\n",
       "      <th>Mujeres</th>\n",
       "    </tr>\n",
       "    <tr>\n",
       "      <th>año</th>\n",
       "      <th></th>\n",
       "      <th></th>\n",
       "      <th></th>\n",
       "    </tr>\n",
       "  </thead>\n",
       "  <tbody>\n",
       "    <tr>\n",
       "      <th>2023</th>\n",
       "      <td>194.6</td>\n",
       "      <td>111.1</td>\n",
       "      <td>83.5</td>\n",
       "    </tr>\n",
       "    <tr>\n",
       "      <th>2024</th>\n",
       "      <td>201.3</td>\n",
       "      <td>111.7</td>\n",
       "      <td>89.6</td>\n",
       "    </tr>\n",
       "  </tbody>\n",
       "</table>\n",
       "</div>"
      ],
      "text/plain": [
       "sexo  Ambos sexos  Hombres  Mujeres\n",
       "año                                \n",
       "2023        194.6    111.1     83.5\n",
       "2024        201.3    111.7     89.6"
      ]
     },
     "metadata": {},
     "output_type": "display_data"
    },
    {
     "name": "stdout",
     "output_type": "stream",
     "text": [
      "Participación femenina 2023: 42.9%\n",
      "Participación femenina 2024: 44.5%\n",
      "\n",
      "⚠️  VALORES EXTREMOS:\n",
      "-------------------------\n",
      "Registros atípicos encontrados: 0\n"
     ]
    }
   ],
   "source": [
    "# Estadísticas descriptivas básicas\n",
    "print(\"📈 ESTADÍSTICAS DESCRIPTIVAS DE LOS RÍOS\")\n",
    "print(\"=\" * 50)\n",
    "\n",
    "# Estadísticas generales\n",
    "display(clean_data.describe())\n",
    "\n",
    "# Información adicional\n",
    "print(f\"\\n📊 Información adicional:\")\n",
    "print(f\"   • Período de análisis: {clean_data['año'].min()} - {clean_data['año'].max()}\")\n",
    "print(f\"   • Número total de años: {clean_data['año'].nunique()}\")\n",
    "print(f\"   • Fuerza de trabajo promedio: {clean_data['value'].mean():,.0f} personas\")\n",
    "print(f\"   • Participación masculina promedio: {clean_data[clean_data['sexo'] == 'Hombres']['value'].mean():,.0f} personas\")\n",
    "print(f\"   • Participación femenina promedio: {clean_data[clean_data['sexo'] == 'Mujeres']['value'].mean():,.0f} personas\")\n",
    "\n",
    "# Valores extremos\n",
    "print(f\"\\n📊 Valores extremos:\")\n",
    "print(f\"   • Máxima fuerza de trabajo: {clean_data['value'].max():,.0f} ({clean_data.loc[clean_data['value'].idxmax(), 'año']})\")\n",
    "print(f\"   • Mínima fuerza de trabajo: {clean_data['value'].min():,.0f} ({clean_data.loc[clean_data['value'].idxmin(), 'año']})\")\n",
    "\n",
    "# Verificar completitud de datos\n",
    "missing_data = clean_data.isnull().sum()\n",
    "print(f\"\\n🔍 Datos faltantes por columna:\")\n",
    "for col, missing in missing_data.items():\n",
    "    if missing > 0:\n",
    "        print(f\"   • {col}: {missing} ({missing/len(clean_data)*100:.2f}%)\")\n",
    "    else:\n",
    "        print(f\"   • {col}: ✅ Completo\")\n",
    "\n",
    "# Distribución por género\n",
    "total_force = clean_data['value'].sum()\n",
    "total_male = clean_data[clean_data['sexo'] == 'Hombres']['value'].sum()\n",
    "total_female = clean_data[clean_data['sexo'] == 'Mujeres']['value'].sum()\n",
    "\n",
    "print(f\"\\n👥 Distribución histórica por género:\")\n",
    "print(f\"   • Total acumulado: {total_force:,.0f} personas-trimestre\")\n",
    "print(f\"   • Hombres: {total_male:,.0f} ({total_male/total_force*100:.1f}%)\")\n",
    "print(f\"   • Mujeres: {total_female:,.0f} ({total_female/total_force*100:.1f}%)\")\n",
    "print(f\"   • Ratio H/M: {total_male/total_female:.2f}\")\n",
    "\n",
    "# Análisis por sexo\n",
    "print(f\"\\n👥 ANÁLISIS POR SEXO:\")\n",
    "print(\"-\"*30)\n",
    "sexo_stats = clean_data.groupby('sexo')['value'].agg(['count', 'mean', 'std', 'min', 'max'])\n",
    "display(sexo_stats.round(2))\n",
    "\n",
    "# Análisis por indicador\n",
    "print(f\"\\n📊 ANÁLISIS POR INDICADOR:\")\n",
    "print(\"-\"*30)\n",
    "indicador_stats = clean_data.groupby('indicador')['value'].agg(['count', 'mean', 'std'])\n",
    "display(indicador_stats.round(2))\n",
    "\n",
    "# Análisis temporal básico\n",
    "print(f\"\\n📅 ANÁLISIS TEMPORAL:\")\n",
    "print(\"-\"*30)\n",
    "\n",
    "# Tendencia por año\n",
    "yearly_avg = clean_data.groupby('año')['value'].mean().round(2)\n",
    "print(f\"Promedio anual de fuerza de trabajo (últimos 5 años):\")\n",
    "for year in sorted(yearly_avg.index)[-5:]:\n",
    "    print(f\"   {year}: {yearly_avg[year]:.1f}\")\n",
    "\n",
    "# Análisis de crecimiento\n",
    "if len(yearly_avg) > 1:\n",
    "    growth_rate = ((yearly_avg.iloc[-1] / yearly_avg.iloc[0]) ** (1/(len(yearly_avg)-1)) - 1) * 100\n",
    "    print(f\"\\nTasa de crecimiento anual promedio: {growth_rate:.2f}%\")\n",
    "\n",
    "# Análisis de distribución por género en años recientes\n",
    "print(f\"\\n🏆 DATOS MÁS RECIENTES (2023-2024):\")\n",
    "print(\"-\"*40)\n",
    "recent_data = clean_data[clean_data['año'] >= 2023]\n",
    "if not recent_data.empty:\n",
    "    recent_by_gender = recent_data.groupby(['año', 'sexo'])['value'].mean().unstack()\n",
    "    display(recent_by_gender.round(1))\n",
    "    \n",
    "    # Participación femenina en la fuerza laboral\n",
    "    if 'Ambos sexos' in recent_by_gender.columns and 'Mujeres' in recent_by_gender.columns:\n",
    "        for year in recent_by_gender.index:\n",
    "            ambos = recent_by_gender.loc[year, 'Ambos sexos']\n",
    "            mujeres = recent_by_gender.loc[year, 'Mujeres'] \n",
    "            participacion_fem = (mujeres / ambos) * 100\n",
    "            print(f\"Participación femenina {year}: {participacion_fem:.1f}%\")\n",
    "\n",
    "# Identificar valores extremos\n",
    "print(f\"\\n⚠️  VALORES EXTREMOS:\")\n",
    "print(\"-\"*25)\n",
    "q1 = clean_data['value'].quantile(0.25)\n",
    "q3 = clean_data['value'].quantile(0.75)\n",
    "iqr = q3 - q1\n",
    "lower_bound = q1 - 1.5 * iqr\n",
    "upper_bound = q3 + 1.5 * iqr\n",
    "\n",
    "outliers = clean_data[(clean_data['value'] < lower_bound) | (clean_data['value'] > upper_bound)]\n",
    "print(f\"Registros atípicos encontrados: {len(outliers)}\")\n",
    "if len(outliers) > 0:\n",
    "    print(\"Primeros 3 valores atípicos:\")\n",
    "    display(outliers[['trimestre_móvil', 'sexo', 'value']].head(3))"
   ]
  },
  {
   "cell_type": "markdown",
   "id": "32038b29",
   "metadata": {},
   "source": [
    "## 📊 5. Visualización Inicial de Datos\n",
    "\n",
    "Creamos visualizaciones exploratorias para entender mejor los patrones en los datos."
   ]
  },
  {
   "cell_type": "code",
   "execution_count": 13,
   "id": "7c708dad",
   "metadata": {},
   "outputs": [
    {
     "name": "stdout",
     "output_type": "stream",
     "text": [
      "📊 VISUALIZACIONES - FUERZA DE TRABAJO LOS RÍOS\n",
      "==================================================\n",
      "📈 1. Evolución Temporal de la Fuerza de Trabajo\n"
     ]
    },
    {
     "data": {
      "image/png": "[encoded data removed]",
      "text/plain": [
       "<Figure size 1400x800 with 1 Axes>"
      ]
     },
     "metadata": {},
     "output_type": "display_data"
    },
    {
     "name": "stdout",
     "output_type": "stream",
     "text": [
      "\n",
      "👥 2. Distribución por Género (Datos Recientes)\n"
     ]
    },
    {
     "data": {
      "image/png": "[encoded data removed]",
      "text/plain": [
       "<Figure size 1500x600 with 2 Axes>"
      ]
     },
     "metadata": {},
     "output_type": "display_data"
    },
    {
     "name": "stdout",
     "output_type": "stream",
     "text": [
      "\n",
      "📊 3. Comparación entre Proyecciones Base 2002 vs 2017\n"
     ]
    },
    {
     "data": {
      "image/png": "[encoded data removed]",
      "text/plain": [
       "<Figure size 1200x600 with 1 Axes>"
      ]
     },
     "metadata": {},
     "output_type": "display_data"
    },
    {
     "name": "stdout",
     "output_type": "stream",
     "text": [
      "\n",
      "📈 4. Tendencias Recientes (2020-2024)\n"
     ]
    },
    {
     "data": {
      "image/png": "[encoded data removed]",
      "text/plain": [
       "<Figure size 1200x600 with 1 Axes>"
      ]
     },
     "metadata": {},
     "output_type": "display_data"
    },
    {
     "name": "stdout",
     "output_type": "stream",
     "text": [
      "\n",
      "✅ Visualizaciones generadas exitosamente\n"
     ]
    }
   ],
   "source": [
    "# Visualizaciones de Datos de Los Ríos\n",
    "print(\"📊 VISUALIZACIONES - FUERZA DE TRABAJO LOS RÍOS\")\n",
    "print(\"=\"*50)\n",
    "\n",
    "# Configurar estilo\n",
    "plt.style.use('seaborn-v0_8-whitegrid')\n",
    "sns.set_palette(\"husl\")\n",
    "\n",
    "# 1. Evolución temporal de la fuerza de trabajo\n",
    "print(\"📈 1. Evolución Temporal de la Fuerza de Trabajo\")\n",
    "\n",
    "# Preparar datos para gráfico temporal\n",
    "yearly_data = clean_data.groupby(['año', 'sexo'])['value'].mean().reset_index()\n",
    "\n",
    "# Crear gráfico de líneas\n",
    "fig, ax = plt.subplots(figsize=(14, 8))\n",
    "\n",
    "# Gráfico para cada género\n",
    "for sexo in ['Ambos sexos', 'Hombres', 'Mujeres']:\n",
    "    data_sexo = yearly_data[yearly_data['sexo'] == sexo]\n",
    "    ax.plot(data_sexo['año'], data_sexo['value'], \n",
    "            marker='o', linewidth=2.5, markersize=6,\n",
    "            label=sexo)\n",
    "\n",
    "ax.set_title('Evolución de la Fuerza de Trabajo - Región de Los Ríos (2010-2024)', \n",
    "             fontsize=16, fontweight='bold', pad=20)\n",
    "ax.set_xlabel('Año', fontsize=12)\n",
    "ax.set_ylabel('Fuerza de Trabajo (miles de personas)', fontsize=12)\n",
    "ax.legend(fontsize=11)\n",
    "ax.grid(True, alpha=0.3)\n",
    "\n",
    "# Agregar anotaciones para años importantes\n",
    "for year in [2020, 2024]:\n",
    "    if year in yearly_data['año'].values:\n",
    "        y_val = yearly_data[yearly_data['año'] == year]['value'].iloc[0]\n",
    "        ax.annotate(f'{year}', xy=(year, y_val), xytext=(10, 10), \n",
    "                   textcoords='offset points', fontsize=9,\n",
    "                   bbox=dict(boxstyle='round,pad=0.3', facecolor='yellow', alpha=0.7))\n",
    "\n",
    "plt.tight_layout()\n",
    "plt.show()\n",
    "\n",
    "# 2. Distribución por género en el último año\n",
    "print(\"\\n👥 2. Distribución por Género (Datos Recientes)\")\n",
    "\n",
    "latest_year = clean_data['año'].max()\n",
    "latest_data = clean_data[clean_data['año'] == latest_year]\n",
    "gender_totals = latest_data.groupby('sexo')['value'].mean()\n",
    "\n",
    "# Excluir \"Ambos sexos\" para el gráfico de torta\n",
    "gender_totals_pie = gender_totals[gender_totals.index != 'Ambos sexos']\n",
    "\n",
    "fig, (ax1, ax2) = plt.subplots(1, 2, figsize=(15, 6))\n",
    "\n",
    "# Gráfico de torta\n",
    "colors = ['#ff9999', '#66b3ff']\n",
    "wedges, texts, autotexts = ax1.pie(gender_totals_pie.values, \n",
    "                                   labels=gender_totals_pie.index,\n",
    "                                   autopct='%1.1f%%', \n",
    "                                   colors=colors,\n",
    "                                   startangle=90,\n",
    "                                   explode=(0.1, 0))\n",
    "\n",
    "ax1.set_title(f'Distribución por Género ({latest_year})', fontsize=14, fontweight='bold')\n",
    "\n",
    "# Gráfico de barras comparativo\n",
    "ax2.bar(gender_totals.index, gender_totals.values, \n",
    "        color=['#9467bd', '#ff9999', '#66b3ff'])\n",
    "ax2.set_title(f'Fuerza de Trabajo por Género ({latest_year})', fontsize=14, fontweight='bold')\n",
    "ax2.set_ylabel('Miles de personas')\n",
    "ax2.tick_params(axis='x', rotation=45)\n",
    "\n",
    "# Agregar valores en las barras\n",
    "for i, v in enumerate(gender_totals.values):\n",
    "    ax2.text(i, v + 1, f'{v:.1f}', ha='center', va='bottom', fontweight='bold')\n",
    "\n",
    "plt.tight_layout()\n",
    "plt.show()\n",
    "\n",
    "# 3. Comparación entre tipos de proyección\n",
    "print(\"\\n📊 3. Comparación entre Proyecciones Base 2002 vs 2017\")\n",
    "\n",
    "proj_comparison = clean_data.groupby(['indicador', 'sexo'])['value'].mean().reset_index()\n",
    "\n",
    "fig, ax = plt.subplots(figsize=(12, 6))\n",
    "\n",
    "# Crear gráfico de barras agrupadas\n",
    "x = np.arange(len(proj_comparison['sexo'].unique()))\n",
    "width = 0.35\n",
    "\n",
    "base_2002 = proj_comparison[proj_comparison['indicador'].str.contains('2002')]\n",
    "base_2017 = proj_comparison[proj_comparison['indicador'].str.contains('2017')]\n",
    "\n",
    "bars1 = ax.bar(x - width/2, base_2002['value'], width, label='Base 2002', alpha=0.8)\n",
    "bars2 = ax.bar(x + width/2, base_2017['value'], width, label='Base 2017', alpha=0.8)\n",
    "\n",
    "ax.set_xlabel('Sexo')\n",
    "ax.set_ylabel('Fuerza de Trabajo Promedio (miles)')\n",
    "ax.set_title('Comparación de Proyecciones: Base 2002 vs Base 2017')\n",
    "ax.set_xticks(x)\n",
    "ax.set_xticklabels(base_2002['sexo'])\n",
    "ax.legend()\n",
    "\n",
    "# Agregar valores en las barras\n",
    "for bars in [bars1, bars2]:\n",
    "    for bar in bars:\n",
    "        height = bar.get_height()\n",
    "        ax.annotate(f'{height:.1f}',\n",
    "                   xy=(bar.get_x() + bar.get_width() / 2, height),\n",
    "                   xytext=(0, 3),\n",
    "                   textcoords=\"offset points\",\n",
    "                   ha='center', va='bottom')\n",
    "\n",
    "plt.tight_layout()\n",
    "plt.show()\n",
    "\n",
    "# 4. Análisis de tendencias recientes (2020-2024)\n",
    "print(\"\\n📈 4. Tendencias Recientes (2020-2024)\")\n",
    "\n",
    "recent_data = clean_data[clean_data['año'] >= 2020]\n",
    "recent_trends = recent_data.groupby(['año', 'sexo'])['value'].mean().reset_index()\n",
    "\n",
    "fig, ax = plt.subplots(figsize=(12, 6))\n",
    "\n",
    "# Crear gráfico de área apilada para mostrar tendencias\n",
    "pivot_data = recent_trends.pivot(index='año', columns='sexo', values='value')\n",
    "\n",
    "# Solo graficar hombres y mujeres (sin \"Ambos sexos\")\n",
    "gender_data = pivot_data[['Hombres', 'Mujeres']]\n",
    "\n",
    "ax.stackplot(gender_data.index, gender_data['Hombres'], gender_data['Mujeres'],\n",
    "            labels=['Hombres', 'Mujeres'], alpha=0.7)\n",
    "\n",
    "ax.set_title('Tendencias Recientes de la Fuerza de Trabajo (2020-2024)', \n",
    "             fontsize=14, fontweight='bold')\n",
    "ax.set_xlabel('Año')\n",
    "ax.set_ylabel('Fuerza de Trabajo (miles de personas)')\n",
    "ax.legend(loc='upper left')\n",
    "ax.grid(True, alpha=0.3)\n",
    "\n",
    "plt.tight_layout()\n",
    "plt.show()\n",
    "\n",
    "print(\"\\n✅ Visualizaciones generadas exitosamente\")"
   ]
  },
  {
   "cell_type": "markdown",
   "id": "2a597ed2",
   "metadata": {},
   "source": [
    "## 🏢 6. Análisis del Mercado Laboral\n",
    "\n",
    "Utilizamos nuestro analizador especializado para obtener insights profundos del mercado laboral de Los Ríos."
   ]
  },
  {
   "cell_type": "code",
   "execution_count": 18,
   "id": "0effa586",
   "metadata": {},
   "outputs": [
    {
     "name": "stdout",
     "output_type": "stream",
     "text": [
      "📊 ANÁLISIS AVANZADO - MERCADO LABORAL LOS RÍOS\n",
      "==================================================\n",
      "✅ Librerías estadísticas importadas\n",
      "\n",
      "🔗 1. Análisis de Correlaciones\n",
      "Matriz de correlación entre géneros:\n"
     ]
    },
    {
     "data": {
      "text/html": [
       "<div>\n",
       "<style scoped>\n",
       "    .dataframe tbody tr th:only-of-type {\n",
       "        vertical-align: middle;\n",
       "    }\n",
       "\n",
       "    .dataframe tbody tr th {\n",
       "        vertical-align: top;\n",
       "    }\n",
       "\n",
       "    .dataframe thead th {\n",
       "        text-align: right;\n",
       "    }\n",
       "</style>\n",
       "<table border=\"1\" class=\"dataframe\">\n",
       "  <thead>\n",
       "    <tr style=\"text-align: right;\">\n",
       "      <th>sexo</th>\n",
       "      <th>Ambos sexos</th>\n",
       "      <th>Hombres</th>\n",
       "      <th>Mujeres</th>\n",
       "    </tr>\n",
       "    <tr>\n",
       "      <th>sexo</th>\n",
       "      <th></th>\n",
       "      <th></th>\n",
       "      <th></th>\n",
       "    </tr>\n",
       "  </thead>\n",
       "  <tbody>\n",
       "    <tr>\n",
       "      <th>Ambos sexos</th>\n",
       "      <td>1.000</td>\n",
       "      <td>0.938</td>\n",
       "      <td>0.971</td>\n",
       "    </tr>\n",
       "    <tr>\n",
       "      <th>Hombres</th>\n",
       "      <td>0.938</td>\n",
       "      <td>1.000</td>\n",
       "      <td>0.828</td>\n",
       "    </tr>\n",
       "    <tr>\n",
       "      <th>Mujeres</th>\n",
       "      <td>0.971</td>\n",
       "      <td>0.828</td>\n",
       "      <td>1.000</td>\n",
       "    </tr>\n",
       "  </tbody>\n",
       "</table>\n",
       "</div>"
      ],
      "text/plain": [
       "sexo         Ambos sexos  Hombres  Mujeres\n",
       "sexo                                      \n",
       "Ambos sexos        1.000    0.938    0.971\n",
       "Hombres            0.938    1.000    0.828\n",
       "Mujeres            0.971    0.828    1.000"
      ]
     },
     "metadata": {},
     "output_type": "display_data"
    },
    {
     "name": "stdout",
     "output_type": "stream",
     "text": [
      "\n",
      "📈 2. Análisis de Tendencias y Regresión Linear\n",
      "📊 Resultados de la Regresión Lineal:\n",
      "   • Pendiente (crecimiento anual): 1.80 miles de personas/año\n",
      "   • Intercepto: -3437.89\n",
      "   • R²: 0.387\n",
      "   • Correlación: 0.622\n",
      "\n",
      "🔮 Proyecciones (basadas en tendencia lineal):\n",
      "   • 2025: 200.4 miles de personas\n",
      "   • 2026: 202.2 miles de personas\n",
      "   • 2027: 204.0 miles de personas\n",
      "\n",
      "📊 3. Análisis de Volatilidad por Género\n",
      "Estadísticas de volatilidad por género:\n"
     ]
    },
    {
     "data": {
      "text/html": [
       "<div>\n",
       "<style scoped>\n",
       "    .dataframe tbody tr th:only-of-type {\n",
       "        vertical-align: middle;\n",
       "    }\n",
       "\n",
       "    .dataframe tbody tr th {\n",
       "        vertical-align: top;\n",
       "    }\n",
       "\n",
       "    .dataframe thead th {\n",
       "        text-align: right;\n",
       "    }\n",
       "</style>\n",
       "<table border=\"1\" class=\"dataframe\">\n",
       "  <thead>\n",
       "    <tr style=\"text-align: right;\">\n",
       "      <th></th>\n",
       "      <th>media</th>\n",
       "      <th>desv_std</th>\n",
       "      <th>varianza</th>\n",
       "      <th>min</th>\n",
       "      <th>max</th>\n",
       "      <th>rango</th>\n",
       "      <th>coef_variacion</th>\n",
       "    </tr>\n",
       "    <tr>\n",
       "      <th>sexo</th>\n",
       "      <th></th>\n",
       "      <th></th>\n",
       "      <th></th>\n",
       "      <th></th>\n",
       "      <th></th>\n",
       "      <th></th>\n",
       "      <th></th>\n",
       "    </tr>\n",
       "  </thead>\n",
       "  <tbody>\n",
       "    <tr>\n",
       "      <th>Ambos sexos</th>\n",
       "      <td>185.37</td>\n",
       "      <td>13.80</td>\n",
       "      <td>190.55</td>\n",
       "      <td>149.05</td>\n",
       "      <td>210.04</td>\n",
       "      <td>60.99</td>\n",
       "      <td>7.44</td>\n",
       "    </tr>\n",
       "    <tr>\n",
       "      <th>Hombres</th>\n",
       "      <td>110.01</td>\n",
       "      <td>6.28</td>\n",
       "      <td>39.43</td>\n",
       "      <td>93.19</td>\n",
       "      <td>122.04</td>\n",
       "      <td>28.85</td>\n",
       "      <td>5.71</td>\n",
       "    </tr>\n",
       "    <tr>\n",
       "      <th>Mujeres</th>\n",
       "      <td>75.36</td>\n",
       "      <td>8.06</td>\n",
       "      <td>64.97</td>\n",
       "      <td>55.52</td>\n",
       "      <td>90.38</td>\n",
       "      <td>34.86</td>\n",
       "      <td>10.70</td>\n",
       "    </tr>\n",
       "  </tbody>\n",
       "</table>\n",
       "</div>"
      ],
      "text/plain": [
       "              media  desv_std  varianza     min     max  rango  coef_variacion\n",
       "sexo                                                                          \n",
       "Ambos sexos  185.37     13.80    190.55  149.05  210.04  60.99            7.44\n",
       "Hombres      110.01      6.28     39.43   93.19  122.04  28.85            5.71\n",
       "Mujeres       75.36      8.06     64.97   55.52   90.38  34.86           10.70"
      ]
     },
     "metadata": {},
     "output_type": "display_data"
    },
    {
     "name": "stdout",
     "output_type": "stream",
     "text": [
      "\n",
      "⚖️ 4. Análisis de Brechas de Género\n",
      "📊 Estadísticas de Género:\n",
      "   • Promedio Hombres: 110.0 ± 6.3 miles\n",
      "   • Promedio Mujeres: 75.4 ± 8.1 miles\n",
      "   • Brecha absoluta: 34.6 miles\n",
      "   • Brecha relativa: 31.5%\n",
      "\n",
      "🔄 5. Análisis de Cambios Estructurales\n",
      "Comparación Pre-2020 vs Post-2020:\n",
      "   • Ambos sexos:\n",
      "     - Pre-2020: 185.3 miles\n",
      "     - Post-2020: 185.5 miles\n",
      "     - Cambio: +0.1%\n",
      "   • Hombres:\n",
      "     - Pre-2020: 110.5 miles\n",
      "     - Post-2020: 107.8 miles\n",
      "     - Cambio: -2.5%\n",
      "   • Mujeres:\n",
      "     - Pre-2020: 74.8 miles\n",
      "     - Post-2020: 77.7 miles\n",
      "     - Cambio: +3.9%\n",
      "\n",
      "👩 6. Evolución de la Participación Femenina\n",
      "Evolución de la participación femenina (últimos 5 años):\n",
      "   • 2020: 40.8%\n",
      "   • 2021: 40.5%\n",
      "   • 2022: 42.3%\n",
      "   • 2023: 42.9%\n",
      "   • 2024: 44.5%\n",
      "\n",
      "Tendencia promedio anual: +0.44 puntos porcentuales\n",
      "\n",
      "✅ Análisis avanzado completado\n"
     ]
    }
   ],
   "source": [
    "# Análisis Avanzado de la Fuerza de Trabajo Los Ríos\n",
    "print(\"📊 ANÁLISIS AVANZADO - MERCADO LABORAL LOS RÍOS\")\n",
    "print(\"=\"*50)\n",
    "\n",
    "# Importar librerías estadísticas adicionales si no están importadas\n",
    "try:\n",
    "    from scipy import stats\n",
    "    from sklearn.linear_model import LinearRegression\n",
    "    from sklearn.metrics import r2_score\n",
    "    print(\"✅ Librerías estadísticas importadas\")\n",
    "except ImportError as e:\n",
    "    print(f\"⚠️ Error importando librerías: {e}\")\n",
    "    print(\"Continuando con análisis básico...\")\n",
    "\n",
    "# 1. Análisis de Correlación\n",
    "print(\"\\n🔗 1. Análisis de Correlaciones\")\n",
    "\n",
    "# Crear pivot para análisis de correlación\n",
    "gender_pivot = clean_data.pivot_table(index='año', columns='sexo', values='value', aggfunc='mean')\n",
    "correlation_matrix = gender_pivot.corr()\n",
    "print(\"Matriz de correlación entre géneros:\")\n",
    "display(correlation_matrix.round(3))\n",
    "\n",
    "# 2. Análisis de Tendencias \n",
    "print(\"\\n📈 2. Análisis de Tendencias y Regresión Linear\")\n",
    "\n",
    "yearly_totals = clean_data[clean_data['sexo'] == 'Ambos sexos'].groupby('año')['value'].mean()\n",
    "\n",
    "# Regresión simple con numpy\n",
    "X = yearly_totals.index.values\n",
    "y = yearly_totals.values\n",
    "\n",
    "# Calcular regresión lineal manualmente\n",
    "n = len(X)\n",
    "sum_x = np.sum(X)\n",
    "sum_y = np.sum(y)\n",
    "sum_xy = np.sum(X * y)\n",
    "sum_x2 = np.sum(X * X)\n",
    "\n",
    "slope = (n * sum_xy - sum_x * sum_y) / (n * sum_x2 - sum_x * sum_x)\n",
    "intercept = (sum_y - slope * sum_x) / n\n",
    "\n",
    "# Calcular R²\n",
    "y_pred = slope * X + intercept\n",
    "ss_res = np.sum((y - y_pred) ** 2)\n",
    "ss_tot = np.sum((y - np.mean(y)) ** 2)\n",
    "r2 = 1 - (ss_res / ss_tot)\n",
    "\n",
    "print(f\"📊 Resultados de la Regresión Lineal:\")\n",
    "print(f\"   • Pendiente (crecimiento anual): {slope:.2f} miles de personas/año\")\n",
    "print(f\"   • Intercepto: {intercept:.2f}\")\n",
    "print(f\"   • R²: {r2:.3f}\")\n",
    "print(f\"   • Correlación: {np.sqrt(r2):.3f}\")\n",
    "\n",
    "# Proyección para próximos años\n",
    "print(f\"\\n🔮 Proyecciones (basadas en tendencia lineal):\")\n",
    "future_years = [2025, 2026, 2027]\n",
    "for year in future_years:\n",
    "    projection = slope * year + intercept\n",
    "    print(f\"   • {year}: {projection:.1f} miles de personas\")\n",
    "\n",
    "# 3. Análisis de Volatilidad \n",
    "print(f\"\\n📊 3. Análisis de Volatilidad por Género\")\n",
    "\n",
    "# Calcular estadísticas de volatilidad por género\n",
    "volatility_stats = clean_data.groupby('sexo')['value'].agg(['mean', 'std', 'var', 'min', 'max']).round(2)\n",
    "volatility_stats.columns = ['media', 'desv_std', 'varianza', 'min', 'max']\n",
    "volatility_stats['rango'] = volatility_stats['max'] - volatility_stats['min']\n",
    "volatility_stats['coef_variacion'] = (volatility_stats['desv_std'] / volatility_stats['media']) * 100\n",
    "\n",
    "print(\"Estadísticas de volatilidad por género:\")\n",
    "display(volatility_stats.round(2))\n",
    "\n",
    "# 4. Análisis de Diferencias por Género\n",
    "print(f\"\\n⚖️ 4. Análisis de Brechas de Género\")\n",
    "\n",
    "men_data = clean_data[clean_data['sexo'] == 'Hombres']['value']\n",
    "women_data = clean_data[clean_data['sexo'] == 'Mujeres']['value']\n",
    "\n",
    "mean_men = men_data.mean()\n",
    "mean_women = women_data.mean()\n",
    "std_men = men_data.std()\n",
    "std_women = women_data.std()\n",
    "\n",
    "# Calcular brecha de género\n",
    "gender_gap_abs = mean_men - mean_women\n",
    "gender_gap_rel = (gender_gap_abs / mean_men) * 100\n",
    "\n",
    "print(f\"📊 Estadísticas de Género:\")\n",
    "print(f\"   • Promedio Hombres: {mean_men:.1f} ± {std_men:.1f} miles\")\n",
    "print(f\"   • Promedio Mujeres: {mean_women:.1f} ± {std_women:.1f} miles\") \n",
    "print(f\"   • Brecha absoluta: {gender_gap_abs:.1f} miles\")\n",
    "print(f\"   • Brecha relativa: {gender_gap_rel:.1f}%\")\n",
    "\n",
    "# 5. Análisis de Cambios Estructurales (Pre vs Post 2020)\n",
    "print(f\"\\n🔄 5. Análisis de Cambios Estructurales\")\n",
    "\n",
    "pre_2020 = clean_data[clean_data['año'] < 2020]\n",
    "post_2020 = clean_data[clean_data['año'] >= 2020]\n",
    "\n",
    "print(f\"Comparación Pre-2020 vs Post-2020:\")\n",
    "\n",
    "for gender in ['Ambos sexos', 'Hombres', 'Mujeres']:\n",
    "    pre_data = pre_2020[pre_2020['sexo'] == gender]['value']\n",
    "    post_data = post_2020[post_2020['sexo'] == gender]['value']\n",
    "    \n",
    "    if len(pre_data) > 0 and len(post_data) > 0:\n",
    "        pre_mean = pre_data.mean()\n",
    "        post_mean = post_data.mean()\n",
    "        change = ((post_mean - pre_mean) / pre_mean) * 100\n",
    "        \n",
    "        print(f\"   • {gender}:\")\n",
    "        print(f\"     - Pre-2020: {pre_mean:.1f} miles\")\n",
    "        print(f\"     - Post-2020: {post_mean:.1f} miles\")\n",
    "        print(f\"     - Cambio: {change:+.1f}%\")\n",
    "\n",
    "# 6. Análisis de Evolución de la Participación Femenina\n",
    "print(f\"\\n👩 6. Evolución de la Participación Femenina\")\n",
    "\n",
    "yearly_gender = clean_data.pivot_table(index='año', columns='sexo', values='value', aggfunc='mean')\n",
    "\n",
    "if 'Ambos sexos' in yearly_gender.columns and 'Mujeres' in yearly_gender.columns:\n",
    "    yearly_gender['participacion_femenina'] = (yearly_gender['Mujeres'] / yearly_gender['Ambos sexos']) * 100\n",
    "    \n",
    "    print(\"Evolución de la participación femenina (últimos 5 años):\")\n",
    "    for year in sorted(yearly_gender.index)[-5:]:\n",
    "        if not pd.isna(yearly_gender.loc[year, 'participacion_femenina']):\n",
    "            print(f\"   • {year}: {yearly_gender.loc[year, 'participacion_femenina']:.1f}%\")\n",
    "    \n",
    "    # Tendencia de participación femenina\n",
    "    participation_trend = yearly_gender['participacion_femenina'].diff().mean()\n",
    "    print(f\"\\nTendencia promedio anual: {participation_trend:+.2f} puntos porcentuales\")\n",
    "\n",
    "print(f\"\\n✅ Análisis avanzado completado\")"
   ]
  },
  {
   "cell_type": "markdown",
   "id": "d3ce0474",
   "metadata": {},
   "source": [
    "## 👥 7. Análisis Demográfico Especializado\n",
    "\n",
    "Análisis específico de los aspectos demográficos de la fuerza de trabajo en Los Ríos."
   ]
  },
  {
   "cell_type": "markdown",
   "id": "f3d101cb",
   "metadata": {},
   "source": [
    "## 📊 8. Dashboard Interactivo Completo\n",
    "\n",
    "Creamos un dashboard interactivo que integra todos los análisis realizados."
   ]
  },
  {
   "cell_type": "code",
   "execution_count": 21,
   "id": "cdbf76f3",
   "metadata": {},
   "outputs": [
    {
     "name": "stdout",
     "output_type": "stream",
     "text": [
      "📊 CREANDO DASHBOARD INTERACTIVO - LOS RÍOS\n",
      "==================================================\n",
      "📈 1. Dashboard de Evolución Temporal\n"
     ]
    },
    {
     "data": {
      "application/vnd.plotly.v1+json": {
       "config": {
        "plotlyServerURL": "https://plot.ly"
       },
       "data": [
        {
         "hovertemplate": "<b>Ambos sexos</b><br>Año: %{x}<br>Fuerza de Trabajo: %{y:.1f} miles<br><extra></extra>",
         "line": {
          "color": "#FF6B6B",
          "width": 3
         },
         "marker": {
          "size": 8
         },
         "mode": "lines+markers",
         "name": "Ambos sexos",
         "type": "scatter",
         "x": {
          "bdata": "2gfbB9wH3QfeB98H4AfhB+IH4wfkB+UH5gfnB+gH",
          "dtype": "i2"
         },
         "y": {
          "bdata": "NefEmUjJY0CW+LBF8h1lQO3zFUX+E2ZA4eYJBpfuZkAwQ6CcW/hmQCXmXtbKN2dAdXwkylkbaECX6k9ixUJpQF9RVCelEmlAkTZaQlPqaEAw1Y3n8QtmQFnW2ZRELGZAK+oh4dSOZ0APRHA/sVNoQARQpSXyKmlA",
          "dtype": "f8"
         }
        },
        {
         "hovertemplate": "<b>Hombres</b><br>Año: %{x}<br>Fuerza de Trabajo: %{y:.1f} miles<br><extra></extra>",
         "line": {
          "color": "#4ECDC4",
          "width": 3
         },
         "marker": {
          "size": 8
         },
         "mode": "lines+markers",
         "name": "Hombres",
         "type": "scatter",
         "x": {
          "bdata": "2gfbB9wH3QfeB98H4AfhB+IH4wfkB+UH5gfnB+gH",
          "dtype": "i2"
         },
         "y": {
          "bdata": "pKrpGcNnWECTkm1EMh5aQDAyNs008VpAY9w5aOCvW0Bze0ozFltbQDi0KRtvVltAdE84/KA7XECledYAN81dQMBO3cylQV1AJ6GTcczgXEDc+GP9dxhaQGA98k/GYFpAIdGf3HwyW0BI/ZeEschbQG2vi0LR71tA",
          "dtype": "f8"
         }
        },
        {
         "hovertemplate": "<b>Mujeres</b><br>Año: %{x}<br>Fuerza de Trabajo: %{y:.1f} miles<br><extra></extra>",
         "line": {
          "color": "#45B7D1",
          "width": 3
         },
         "marker": {
          "size": 8
         },
         "mode": "lines+markers",
         "name": "Mujeres",
         "type": "scatter",
         "x": {
          "bdata": "2gfbB9wH3QfeB98H4AfhB+IH4wfkB+UH5gfnB+gH",
          "dtype": "i2"
         },
         "y": {
          "bdata": "j0dAM5xVTkCdXvRGsh1QQKu19bzHNlFAZ/HZo00tUkDvCvYFoZVSQA0YlJEmGVNAeakQmBL7U0B5W8nDU7hUQPtTy4Gk41RA9MsgE9rzVECFsbfRa/9RQFFvwdnC91FALQOk5SzrU0DUikj6sN5UQKjwvggTZlZA",
          "dtype": "f8"
         }
        }
       ],
       "layout": {
        "annotations": [
         {
          "arrowcolor": "#636363",
          "arrowhead": 2,
          "arrowsize": 1,
          "arrowwidth": 2,
          "ax": 20,
          "ay": -30,
          "bgcolor": "yellow",
          "opacity": 0.8,
          "showarrow": true,
          "text": "Inicio COVID-19",
          "x": 2020,
          "y": 175
         }
        ],
        "height": 600,
        "hovermode": "x unified",
        "legend": {
         "orientation": "h",
         "x": 1,
         "xanchor": "right",
         "y": 1.02,
         "yanchor": "bottom"
        },
        "showlegend": true,
        "template": {
         "data": {
          "bar": [
           {
            "error_x": {
             "color": "#2a3f5f"
            },
            "error_y": {
             "color": "#2a3f5f"
            },
            "marker": {
             "line": {
              "color": "#E5ECF6",
              "width": 0.5
             },
             "pattern": {
              "fillmode": "overlay",
              "size": 10,
              "solidity": 0.2
             }
            },
            "type": "bar"
           }
          ],
          "barpolar": [
           {
            "marker": {
             "line": {
              "color": "#E5ECF6",
              "width": 0.5
             },
             "pattern": {
              "fillmode": "overlay",
              "size": 10,
              "solidity": 0.2
             }
            },
            "type": "barpolar"
           }
          ],
          "carpet": [
           {
            "aaxis": {
             "endlinecolor": "#2a3f5f",
             "gridcolor": "white",
             "linecolor": "white",
             "minorgridcolor": "white",
             "startlinecolor": "#2a3f5f"
            },
            "baxis": {
             "endlinecolor": "#2a3f5f",
             "gridcolor": "white",
             "linecolor": "white",
             "minorgridcolor": "white",
             "startlinecolor": "#2a3f5f"
            },
            "type": "carpet"
           }
          ],
          "choropleth": [
           {
            "colorbar": {
             "outlinewidth": 0,
             "ticks": ""
            },
            "type": "choropleth"
           }
          ],
          "contour": [
           {
            "colorbar": {
             "outlinewidth": 0,
             "ticks": ""
            },
            "colorscale": [
             [
              0,
              "#0d0887"
             ],
             [
              0.1111111111111111,
              "#46039f"
             ],
             [
              0.2222222222222222,
              "#7201a8"
             ],
             [
              0.3333333333333333,
              "#9c179e"
             ],
             [
              0.4444444444444444,
              "#bd3786"
             ],
             [
              0.5555555555555556,
              "#d8576b"
             ],
             [
              0.6666666666666666,
              "#ed7953"
             ],
             [
              0.7777777777777778,
              "#fb9f3a"
             ],
             [
              0.8888888888888888,
              "#fdca26"
             ],
             [
              1,
              "#f0f921"
             ]
            ],
            "type": "contour"
           }
          ],
          "contourcarpet": [
           {
            "colorbar": {
             "outlinewidth": 0,
             "ticks": ""
            },
            "type": "contourcarpet"
           }
          ],
          "heatmap": [
           {
            "colorbar": {
             "outlinewidth": 0,
             "ticks": ""
            },
            "colorscale": [
             [
              0,
              "#0d0887"
             ],
             [
              0.1111111111111111,
              "#46039f"
             ],
             [
              0.2222222222222222,
              "#7201a8"
             ],
             [
              0.3333333333333333,
              "#9c179e"
             ],
             [
              0.4444444444444444,
              "#bd3786"
             ],
             [
              0.5555555555555556,
              "#d8576b"
             ],
             [
              0.6666666666666666,
              "#ed7953"
             ],
             [
              0.7777777777777778,
              "#fb9f3a"
             ],
             [
              0.8888888888888888,
              "#fdca26"
             ],
             [
              1,
              "#f0f921"
             ]
            ],
            "type": "heatmap"
           }
          ],
          "histogram": [
           {
            "marker": {
             "pattern": {
              "fillmode": "overlay",
              "size": 10,
              "solidity": 0.2
             }
            },
            "type": "histogram"
           }
          ],
          "histogram2d": [
           {
            "colorbar": {
             "outlinewidth": 0,
             "ticks": ""
            },
            "colorscale": [
             [
              0,
              "#0d0887"
             ],
             [
              0.1111111111111111,
              "#46039f"
             ],
             [
              0.2222222222222222,
              "#7201a8"
             ],
             [
              0.3333333333333333,
              "#9c179e"
             ],
             [
              0.4444444444444444,
              "#bd3786"
             ],
             [
              0.5555555555555556,
              "#d8576b"
             ],
             [
              0.6666666666666666,
              "#ed7953"
             ],
             [
              0.7777777777777778,
              "#fb9f3a"
             ],
             [
              0.8888888888888888,
              "#fdca26"
             ],
             [
              1,
              "#f0f921"
             ]
            ],
            "type": "histogram2d"
           }
          ],
          "histogram2dcontour": [
           {
            "colorbar": {
             "outlinewidth": 0,
             "ticks": ""
            },
            "colorscale": [
             [
              0,
              "#0d0887"
             ],
             [
              0.1111111111111111,
              "#46039f"
             ],
             [
              0.2222222222222222,
              "#7201a8"
             ],
             [
              0.3333333333333333,
              "#9c179e"
             ],
             [
              0.4444444444444444,
              "#bd3786"
             ],
             [
              0.5555555555555556,
              "#d8576b"
             ],
             [
              0.6666666666666666,
              "#ed7953"
             ],
             [
              0.7777777777777778,
              "#fb9f3a"
             ],
             [
              0.8888888888888888,
              "#fdca26"
             ],
             [
              1,
              "#f0f921"
             ]
            ],
            "type": "histogram2dcontour"
           }
          ],
          "mesh3d": [
           {
            "colorbar": {
             "outlinewidth": 0,
             "ticks": ""
            },
            "type": "mesh3d"
           }
          ],
          "parcoords": [
           {
            "line": {
             "colorbar": {
              "outlinewidth": 0,
              "ticks": ""
             }
            },
            "type": "parcoords"
           }
          ],
          "pie": [
           {
            "automargin": true,
            "type": "pie"
           }
          ],
          "scatter": [
           {
            "fillpattern": {
             "fillmode": "overlay",
             "size": 10,
             "solidity": 0.2
            },
            "type": "scatter"
           }
          ],
          "scatter3d": [
           {
            "line": {
             "colorbar": {
              "outlinewidth": 0,
              "ticks": ""
             }
            },
            "marker": {
             "colorbar": {
              "outlinewidth": 0,
              "ticks": ""
             }
            },
            "type": "scatter3d"
           }
          ],
          "scattercarpet": [
           {
            "marker": {
             "colorbar": {
              "outlinewidth": 0,
              "ticks": ""
             }
            },
            "type": "scattercarpet"
           }
          ],
          "scattergeo": [
           {
            "marker": {
             "colorbar": {
              "outlinewidth": 0,
              "ticks": ""
             }
            },
            "type": "scattergeo"
           }
          ],
          "scattergl": [
           {
            "marker": {
             "colorbar": {
              "outlinewidth": 0,
              "ticks": ""
             }
            },
            "type": "scattergl"
           }
          ],
          "scattermap": [
           {
            "marker": {
             "colorbar": {
              "outlinewidth": 0,
              "ticks": ""
             }
            },
            "type": "scattermap"
           }
          ],
          "scattermapbox": [
           {
            "marker": {
             "colorbar": {
              "outlinewidth": 0,
              "ticks": ""
             }
            },
            "type": "scattermapbox"
           }
          ],
          "scatterpolar": [
           {
            "marker": {
             "colorbar": {
              "outlinewidth": 0,
              "ticks": ""
             }
            },
            "type": "scatterpolar"
           }
          ],
          "scatterpolargl": [
           {
            "marker": {
             "colorbar": {
              "outlinewidth": 0,
              "ticks": ""
             }
            },
            "type": "scatterpolargl"
           }
          ],
          "scatterternary": [
           {
            "marker": {
             "colorbar": {
              "outlinewidth": 0,
              "ticks": ""
             }
            },
            "type": "scatterternary"
           }
          ],
          "surface": [
           {
            "colorbar": {
             "outlinewidth": 0,
             "ticks": ""
            },
            "colorscale": [
             [
              0,
              "#0d0887"
             ],
             [
              0.1111111111111111,
              "#46039f"
             ],
             [
              0.2222222222222222,
              "#7201a8"
             ],
             [
              0.3333333333333333,
              "#9c179e"
             ],
             [
              0.4444444444444444,
              "#bd3786"
             ],
             [
              0.5555555555555556,
              "#d8576b"
             ],
             [
              0.6666666666666666,
              "#ed7953"
             ],
             [
              0.7777777777777778,
              "#fb9f3a"
             ],
             [
              0.8888888888888888,
              "#fdca26"
             ],
             [
              1,
              "#f0f921"
             ]
            ],
            "type": "surface"
           }
          ],
          "table": [
           {
            "cells": {
             "fill": {
              "color": "#EBF0F8"
             },
             "line": {
              "color": "white"
             }
            },
            "header": {
             "fill": {
              "color": "#C8D4E3"
             },
             "line": {
              "color": "white"
             }
            },
            "type": "table"
           }
          ]
         },
         "layout": {
          "annotationdefaults": {
           "arrowcolor": "#2a3f5f",
           "arrowhead": 0,
           "arrowwidth": 1
          },
          "autotypenumbers": "strict",
          "coloraxis": {
           "colorbar": {
            "outlinewidth": 0,
            "ticks": ""
           }
          },
          "colorscale": {
           "diverging": [
            [
             0,
             "#8e0152"
            ],
            [
             0.1,
             "#c51b7d"
            ],
            [
             0.2,
             "#de77ae"
            ],
            [
             0.3,
             "#f1b6da"
            ],
            [
             0.4,
             "#fde0ef"
            ],
            [
             0.5,
             "#f7f7f7"
            ],
            [
             0.6,
             "#e6f5d0"
            ],
            [
             0.7,
             "#b8e186"
            ],
            [
             0.8,
             "#7fbc41"
            ],
            [
             0.9,
             "#4d9221"
            ],
            [
             1,
             "#276419"
            ]
           ],
           "sequential": [
            [
             0,
             "#0d0887"
            ],
            [
             0.1111111111111111,
             "#46039f"
            ],
            [
             0.2222222222222222,
             "#7201a8"
            ],
            [
             0.3333333333333333,
             "#9c179e"
            ],
            [
             0.4444444444444444,
             "#bd3786"
            ],
            [
             0.5555555555555556,
             "#d8576b"
            ],
            [
             0.6666666666666666,
             "#ed7953"
            ],
            [
             0.7777777777777778,
             "#fb9f3a"
            ],
            [
             0.8888888888888888,
             "#fdca26"
            ],
            [
             1,
             "#f0f921"
            ]
           ],
           "sequentialminus": [
            [
             0,
             "#0d0887"
            ],
            [
             0.1111111111111111,
             "#46039f"
            ],
            [
             0.2222222222222222,
             "#7201a8"
            ],
            [
             0.3333333333333333,
             "#9c179e"
            ],
            [
             0.4444444444444444,
             "#bd3786"
            ],
            [
             0.5555555555555556,
             "#d8576b"
            ],
            [
             0.6666666666666666,
             "#ed7953"
            ],
            [
             0.7777777777777778,
             "#fb9f3a"
            ],
            [
             0.8888888888888888,
             "#fdca26"
            ],
            [
             1,
             "#f0f921"
            ]
           ]
          },
          "colorway": [
           "#636efa",
           "#EF553B",
           "#00cc96",
           "#ab63fa",
           "#FFA15A",
           "#19d3f3",
           "#FF6692",
           "#B6E880",
           "#FF97FF",
           "#FECB52"
          ],
          "font": {
           "color": "#2a3f5f"
          },
          "geo": {
           "bgcolor": "white",
           "lakecolor": "white",
           "landcolor": "#E5ECF6",
           "showlakes": true,
           "showland": true,
           "subunitcolor": "white"
          },
          "hoverlabel": {
           "align": "left"
          },
          "hovermode": "closest",
          "mapbox": {
           "style": "light"
          },
          "paper_bgcolor": "white",
          "plot_bgcolor": "#E5ECF6",
          "polar": {
           "angularaxis": {
            "gridcolor": "white",
            "linecolor": "white",
            "ticks": ""
           },
           "bgcolor": "#E5ECF6",
           "radialaxis": {
            "gridcolor": "white",
            "linecolor": "white",
            "ticks": ""
           }
          },
          "scene": {
           "xaxis": {
            "backgroundcolor": "#E5ECF6",
            "gridcolor": "white",
            "gridwidth": 2,
            "linecolor": "white",
            "showbackground": true,
            "ticks": "",
            "zerolinecolor": "white"
           },
           "yaxis": {
            "backgroundcolor": "#E5ECF6",
            "gridcolor": "white",
            "gridwidth": 2,
            "linecolor": "white",
            "showbackground": true,
            "ticks": "",
            "zerolinecolor": "white"
           },
           "zaxis": {
            "backgroundcolor": "#E5ECF6",
            "gridcolor": "white",
            "gridwidth": 2,
            "linecolor": "white",
            "showbackground": true,
            "ticks": "",
            "zerolinecolor": "white"
           }
          },
          "shapedefaults": {
           "line": {
            "color": "#2a3f5f"
           }
          },
          "ternary": {
           "aaxis": {
            "gridcolor": "white",
            "linecolor": "white",
            "ticks": ""
           },
           "baxis": {
            "gridcolor": "white",
            "linecolor": "white",
            "ticks": ""
           },
           "bgcolor": "#E5ECF6",
           "caxis": {
            "gridcolor": "white",
            "linecolor": "white",
            "ticks": ""
           }
          },
          "title": {
           "x": 0.05
          },
          "xaxis": {
           "automargin": true,
           "gridcolor": "white",
           "linecolor": "white",
           "ticks": "",
           "title": {
            "standoff": 15
           },
           "zerolinecolor": "white",
           "zerolinewidth": 2
          },
          "yaxis": {
           "automargin": true,
           "gridcolor": "white",
           "linecolor": "white",
           "ticks": "",
           "title": {
            "standoff": 15
           },
           "zerolinecolor": "white",
           "zerolinewidth": 2
          }
         }
        },
        "title": {
         "font": {
          "family": "Arial Black",
          "size": 18
         },
         "text": "Evolución de la Fuerza de Trabajo - Región de Los Ríos (2010-2024)",
         "x": 0.5
        },
        "width": 1000,
        "xaxis": {
         "title": {
          "text": "Año"
         }
        },
        "yaxis": {
         "title": {
          "text": "Fuerza de Trabajo (miles de personas)"
         }
        }
       }
      }
     },
     "metadata": {},
     "output_type": "display_data"
    },
    {
     "name": "stdout",
     "output_type": "stream",
     "text": [
      "\n",
      "👥 2. Dashboard de Distribución por Género\n"
     ]
    },
    {
     "data": {
      "application/vnd.plotly.v1+json": {
       "config": {
        "plotlyServerURL": "https://plot.ly"
       },
       "data": [
        {
         "domain": {
          "x": [
           0,
           0.45
          ],
          "y": [
           0.625,
           1
          ]
         },
         "hole": 0.3,
         "labels": [
          "Hombres",
          "Mujeres"
         ],
         "marker": {
          "colors": [
           "#FF6B6B",
           "#4ECDC4"
          ]
         },
         "type": "pie",
         "values": {
          "bdata": "ba+LQtHvW0Co8L4IE2ZWQA==",
          "dtype": "f8"
         }
        },
        {
         "line": {
          "color": "#E74C3C",
          "width": 3
         },
         "mode": "lines+markers",
         "name": "Participación Femenina",
         "type": "scatter",
         "x": {
          "bdata": "2gfbB9wH3QfeB98H4AfhB+IH4wfkB+UH5gfnB+gH",
          "dtype": "i2"
         },
         "xaxis": "x",
         "y": {
          "bdata": "V8ufYe8pQ0DzBBTxVRRDQMtLgpv9fUNA3uCxOfDQQ0DLdK56DjpEQIIneSZpkERAypm9L5a4REAeit8Gj4FEQHg43Mob1ERAMpyjSRQGRUAj5vH7n2hEQMTI4LM8QkRAIgtPWVAjRUAbYzFEg3JFQCtptX7aP0ZA",
          "dtype": "f8"
         },
         "yaxis": "y"
        },
        {
         "marker": {
          "color": "#4ECDC4"
         },
         "name": "Hombres (Décadas)",
         "opacity": 0.7,
         "type": "bar",
         "x": {
          "bdata": "2gfkBw==",
          "dtype": "i2"
         },
         "xaxis": "x2",
         "y": {
          "bdata": "I6QG1oKfW0AbrKHePPJaQA==",
          "dtype": "f8"
         },
         "yaxis": "y2"
        },
        {
         "marker": {
          "color": "#45B7D1"
         },
         "name": "Mujeres (Décadas)",
         "opacity": 0.7,
         "type": "bar",
         "x": {
          "bdata": "2gfkBw==",
          "dtype": "i2"
         },
         "xaxis": "x2",
         "y": {
          "bdata": "HPrqzcq1UkChiU2Dem9TQA==",
          "dtype": "f8"
         },
         "yaxis": "y2"
        },
        {
         "fill": "tonexty",
         "line": {
          "color": "#9B59B6",
          "width": 2
         },
         "mode": "lines+markers",
         "name": "Brecha H-M",
         "type": "scatter",
         "x": {
          "bdata": "2gfbB9wH3QfeB98H4AfhB+IH4wfkB+UH5gfnB+gH",
          "dtype": "i2"
         },
         "xaxis": "x3",
         "y": {
          "bdata": "uQ2TAOp5QkDsZ/L6/wBEQAr5gCDadENA+NW/iCUFQ0AI4aha6opBQFY4KxORekBA9ktPyByBQEBYPBp6xilCQIr1I5YCvEBAzFTLecmzP0CujlhXGDJAQB6cYewG0kBA0Dfv2z8dPUDQyT0pAqg7QBT7Muf4JjZA",
          "dtype": "f8"
         },
         "yaxis": "y3"
        }
       ],
       "layout": {
        "annotations": [
         {
          "font": {
           "size": 16
          },
          "showarrow": false,
          "text": "Distribución 2024",
          "x": 0.225,
          "xanchor": "center",
          "xref": "paper",
          "y": 1,
          "yanchor": "bottom",
          "yref": "paper"
         },
         {
          "font": {
           "size": 16
          },
          "showarrow": false,
          "text": "Evolución Participación Femenina",
          "x": 0.775,
          "xanchor": "center",
          "xref": "paper",
          "y": 1,
          "yanchor": "bottom",
          "yref": "paper"
         },
         {
          "font": {
           "size": 16
          },
          "showarrow": false,
          "text": "Comparación por Décadas",
          "x": 0.225,
          "xanchor": "center",
          "xref": "paper",
          "y": 0.375,
          "yanchor": "bottom",
          "yref": "paper"
         },
         {
          "font": {
           "size": 16
          },
          "showarrow": false,
          "text": "Brecha de Género Histórica",
          "x": 0.775,
          "xanchor": "center",
          "xref": "paper",
          "y": 0.375,
          "yanchor": "bottom",
          "yref": "paper"
         }
        ],
        "height": 800,
        "showlegend": true,
        "template": {
         "data": {
          "bar": [
           {
            "error_x": {
             "color": "#2a3f5f"
            },
            "error_y": {
             "color": "#2a3f5f"
            },
            "marker": {
             "line": {
              "color": "#E5ECF6",
              "width": 0.5
             },
             "pattern": {
              "fillmode": "overlay",
              "size": 10,
              "solidity": 0.2
             }
            },
            "type": "bar"
           }
          ],
          "barpolar": [
           {
            "marker": {
             "line": {
              "color": "#E5ECF6",
              "width": 0.5
             },
             "pattern": {
              "fillmode": "overlay",
              "size": 10,
              "solidity": 0.2
             }
            },
            "type": "barpolar"
           }
          ],
          "carpet": [
           {
            "aaxis": {
             "endlinecolor": "#2a3f5f",
             "gridcolor": "white",
             "linecolor": "white",
             "minorgridcolor": "white",
             "startlinecolor": "#2a3f5f"
            },
            "baxis": {
             "endlinecolor": "#2a3f5f",
             "gridcolor": "white",
             "linecolor": "white",
             "minorgridcolor": "white",
             "startlinecolor": "#2a3f5f"
            },
            "type": "carpet"
           }
          ],
          "choropleth": [
           {
            "colorbar": {
             "outlinewidth": 0,
             "ticks": ""
            },
            "type": "choropleth"
           }
          ],
          "contour": [
           {
            "colorbar": {
             "outlinewidth": 0,
             "ticks": ""
            },
            "colorscale": [
             [
              0,
              "#0d0887"
             ],
             [
              0.1111111111111111,
              "#46039f"
             ],
             [
              0.2222222222222222,
              "#7201a8"
             ],
             [
              0.3333333333333333,
              "#9c179e"
             ],
             [
              0.4444444444444444,
              "#bd3786"
             ],
             [
              0.5555555555555556,
              "#d8576b"
             ],
             [
              0.6666666666666666,
              "#ed7953"
             ],
             [
              0.7777777777777778,
              "#fb9f3a"
             ],
             [
              0.8888888888888888,
              "#fdca26"
             ],
             [
              1,
              "#f0f921"
             ]
            ],
            "type": "contour"
           }
          ],
          "contourcarpet": [
           {
            "colorbar": {
             "outlinewidth": 0,
             "ticks": ""
            },
            "type": "contourcarpet"
           }
          ],
          "heatmap": [
           {
            "colorbar": {
             "outlinewidth": 0,
             "ticks": ""
            },
            "colorscale": [
             [
              0,
              "#0d0887"
             ],
             [
              0.1111111111111111,
              "#46039f"
             ],
             [
              0.2222222222222222,
              "#7201a8"
             ],
             [
              0.3333333333333333,
              "#9c179e"
             ],
             [
              0.4444444444444444,
              "#bd3786"
             ],
             [
              0.5555555555555556,
              "#d8576b"
             ],
             [
              0.6666666666666666,
              "#ed7953"
             ],
             [
              0.7777777777777778,
              "#fb9f3a"
             ],
             [
              0.8888888888888888,
              "#fdca26"
             ],
             [
              1,
              "#f0f921"
             ]
            ],
            "type": "heatmap"
           }
          ],
          "histogram": [
           {
            "marker": {
             "pattern": {
              "fillmode": "overlay",
              "size": 10,
              "solidity": 0.2
             }
            },
            "type": "histogram"
           }
          ],
          "histogram2d": [
           {
            "colorbar": {
             "outlinewidth": 0,
             "ticks": ""
            },
            "colorscale": [
             [
              0,
              "#0d0887"
             ],
             [
              0.1111111111111111,
              "#46039f"
             ],
             [
              0.2222222222222222,
              "#7201a8"
             ],
             [
              0.3333333333333333,
              "#9c179e"
             ],
             [
              0.4444444444444444,
              "#bd3786"
             ],
             [
              0.5555555555555556,
              "#d8576b"
             ],
             [
              0.6666666666666666,
              "#ed7953"
             ],
             [
              0.7777777777777778,
              "#fb9f3a"
             ],
             [
              0.8888888888888888,
              "#fdca26"
             ],
             [
              1,
              "#f0f921"
             ]
            ],
            "type": "histogram2d"
           }
          ],
          "histogram2dcontour": [
           {
            "colorbar": {
             "outlinewidth": 0,
             "ticks": ""
            },
            "colorscale": [
             [
              0,
              "#0d0887"
             ],
             [
              0.1111111111111111,
              "#46039f"
             ],
             [
              0.2222222222222222,
              "#7201a8"
             ],
             [
              0.3333333333333333,
              "#9c179e"
             ],
             [
              0.4444444444444444,
              "#bd3786"
             ],
             [
              0.5555555555555556,
              "#d8576b"
             ],
             [
              0.6666666666666666,
              "#ed7953"
             ],
             [
              0.7777777777777778,
              "#fb9f3a"
             ],
             [
              0.8888888888888888,
              "#fdca26"
             ],
             [
              1,
              "#f0f921"
             ]
            ],
            "type": "histogram2dcontour"
           }
          ],
          "mesh3d": [
           {
            "colorbar": {
             "outlinewidth": 0,
             "ticks": ""
            },
            "type": "mesh3d"
           }
          ],
          "parcoords": [
           {
            "line": {
             "colorbar": {
              "outlinewidth": 0,
              "ticks": ""
             }
            },
            "type": "parcoords"
           }
          ],
          "pie": [
           {
            "automargin": true,
            "type": "pie"
           }
          ],
          "scatter": [
           {
            "fillpattern": {
             "fillmode": "overlay",
             "size": 10,
             "solidity": 0.2
            },
            "type": "scatter"
           }
          ],
          "scatter3d": [
           {
            "line": {
             "colorbar": {
              "outlinewidth": 0,
              "ticks": ""
             }
            },
            "marker": {
             "colorbar": {
              "outlinewidth": 0,
              "ticks": ""
             }
            },
            "type": "scatter3d"
           }
          ],
          "scattercarpet": [
           {
            "marker": {
             "colorbar": {
              "outlinewidth": 0,
              "ticks": ""
             }
            },
            "type": "scattercarpet"
           }
          ],
          "scattergeo": [
           {
            "marker": {
             "colorbar": {
              "outlinewidth": 0,
              "ticks": ""
             }
            },
            "type": "scattergeo"
           }
          ],
          "scattergl": [
           {
            "marker": {
             "colorbar": {
              "outlinewidth": 0,
              "ticks": ""
             }
            },
            "type": "scattergl"
           }
          ],
          "scattermap": [
           {
            "marker": {
             "colorbar": {
              "outlinewidth": 0,
              "ticks": ""
             }
            },
            "type": "scattermap"
           }
          ],
          "scattermapbox": [
           {
            "marker": {
             "colorbar": {
              "outlinewidth": 0,
              "ticks": ""
             }
            },
            "type": "scattermapbox"
           }
          ],
          "scatterpolar": [
           {
            "marker": {
             "colorbar": {
              "outlinewidth": 0,
              "ticks": ""
             }
            },
            "type": "scatterpolar"
           }
          ],
          "scatterpolargl": [
           {
            "marker": {
             "colorbar": {
              "outlinewidth": 0,
              "ticks": ""
             }
            },
            "type": "scatterpolargl"
           }
          ],
          "scatterternary": [
           {
            "marker": {
             "colorbar": {
              "outlinewidth": 0,
              "ticks": ""
             }
            },
            "type": "scatterternary"
           }
          ],
          "surface": [
           {
            "colorbar": {
             "outlinewidth": 0,
             "ticks": ""
            },
            "colorscale": [
             [
              0,
              "#0d0887"
             ],
             [
              0.1111111111111111,
              "#46039f"
             ],
             [
              0.2222222222222222,
              "#7201a8"
             ],
             [
              0.3333333333333333,
              "#9c179e"
             ],
             [
              0.4444444444444444,
              "#bd3786"
             ],
             [
              0.5555555555555556,
              "#d8576b"
             ],
             [
              0.6666666666666666,
              "#ed7953"
             ],
             [
              0.7777777777777778,
              "#fb9f3a"
             ],
             [
              0.8888888888888888,
              "#fdca26"
             ],
             [
              1,
              "#f0f921"
             ]
            ],
            "type": "surface"
           }
          ],
          "table": [
           {
            "cells": {
             "fill": {
              "color": "#EBF0F8"
             },
             "line": {
              "color": "white"
             }
            },
            "header": {
             "fill": {
              "color": "#C8D4E3"
             },
             "line": {
              "color": "white"
             }
            },
            "type": "table"
           }
          ]
         },
         "layout": {
          "annotationdefaults": {
           "arrowcolor": "#2a3f5f",
           "arrowhead": 0,
           "arrowwidth": 1
          },
          "autotypenumbers": "strict",
          "coloraxis": {
           "colorbar": {
            "outlinewidth": 0,
            "ticks": ""
           }
          },
          "colorscale": {
           "diverging": [
            [
             0,
             "#8e0152"
            ],
            [
             0.1,
             "#c51b7d"
            ],
            [
             0.2,
             "#de77ae"
            ],
            [
             0.3,
             "#f1b6da"
            ],
            [
             0.4,
             "#fde0ef"
            ],
            [
             0.5,
             "#f7f7f7"
            ],
            [
             0.6,
             "#e6f5d0"
            ],
            [
             0.7,
             "#b8e186"
            ],
            [
             0.8,
             "#7fbc41"
            ],
            [
             0.9,
             "#4d9221"
            ],
            [
             1,
             "#276419"
            ]
           ],
           "sequential": [
            [
             0,
             "#0d0887"
            ],
            [
             0.1111111111111111,
             "#46039f"
            ],
            [
             0.2222222222222222,
             "#7201a8"
            ],
            [
             0.3333333333333333,
             "#9c179e"
            ],
            [
             0.4444444444444444,
             "#bd3786"
            ],
            [
             0.5555555555555556,
             "#d8576b"
            ],
            [
             0.6666666666666666,
             "#ed7953"
            ],
            [
             0.7777777777777778,
             "#fb9f3a"
            ],
            [
             0.8888888888888888,
             "#fdca26"
            ],
            [
             1,
             "#f0f921"
            ]
           ],
           "sequentialminus": [
            [
             0,
             "#0d0887"
            ],
            [
             0.1111111111111111,
             "#46039f"
            ],
            [
             0.2222222222222222,
             "#7201a8"
            ],
            [
             0.3333333333333333,
             "#9c179e"
            ],
            [
             0.4444444444444444,
             "#bd3786"
            ],
            [
             0.5555555555555556,
             "#d8576b"
            ],
            [
             0.6666666666666666,
             "#ed7953"
            ],
            [
             0.7777777777777778,
             "#fb9f3a"
            ],
            [
             0.8888888888888888,
             "#fdca26"
            ],
            [
             1,
             "#f0f921"
            ]
           ]
          },
          "colorway": [
           "#636efa",
           "#EF553B",
           "#00cc96",
           "#ab63fa",
           "#FFA15A",
           "#19d3f3",
           "#FF6692",
           "#B6E880",
           "#FF97FF",
           "#FECB52"
          ],
          "font": {
           "color": "#2a3f5f"
          },
          "geo": {
           "bgcolor": "white",
           "lakecolor": "white",
           "landcolor": "#E5ECF6",
           "showlakes": true,
           "showland": true,
           "subunitcolor": "white"
          },
          "hoverlabel": {
           "align": "left"
          },
          "hovermode": "closest",
          "mapbox": {
           "style": "light"
          },
          "paper_bgcolor": "white",
          "plot_bgcolor": "#E5ECF6",
          "polar": {
           "angularaxis": {
            "gridcolor": "white",
            "linecolor": "white",
            "ticks": ""
           },
           "bgcolor": "#E5ECF6",
           "radialaxis": {
            "gridcolor": "white",
            "linecolor": "white",
            "ticks": ""
           }
          },
          "scene": {
           "xaxis": {
            "backgroundcolor": "#E5ECF6",
            "gridcolor": "white",
            "gridwidth": 2,
            "linecolor": "white",
            "showbackground": true,
            "ticks": "",
            "zerolinecolor": "white"
           },
           "yaxis": {
            "backgroundcolor": "#E5ECF6",
            "gridcolor": "white",
            "gridwidth": 2,
            "linecolor": "white",
            "showbackground": true,
            "ticks": "",
            "zerolinecolor": "white"
           },
           "zaxis": {
            "backgroundcolor": "#E5ECF6",
            "gridcolor": "white",
            "gridwidth": 2,
            "linecolor": "white",
            "showbackground": true,
            "ticks": "",
            "zerolinecolor": "white"
           }
          },
          "shapedefaults": {
           "line": {
            "color": "#2a3f5f"
           }
          },
          "ternary": {
           "aaxis": {
            "gridcolor": "white",
            "linecolor": "white",
            "ticks": ""
           },
           "baxis": {
            "gridcolor": "white",
            "linecolor": "white",
            "ticks": ""
           },
           "bgcolor": "#E5ECF6",
           "caxis": {
            "gridcolor": "white",
            "linecolor": "white",
            "ticks": ""
           }
          },
          "title": {
           "x": 0.05
          },
          "xaxis": {
           "automargin": true,
           "gridcolor": "white",
           "linecolor": "white",
           "ticks": "",
           "title": {
            "standoff": 15
           },
           "zerolinecolor": "white",
           "zerolinewidth": 2
          },
          "yaxis": {
           "automargin": true,
           "gridcolor": "white",
           "linecolor": "white",
           "ticks": "",
           "title": {
            "standoff": 15
           },
           "zerolinecolor": "white",
           "zerolinewidth": 2
          }
         }
        },
        "title": {
         "text": "Dashboard Demográfico - Región de Los Ríos"
        },
        "width": 1200,
        "xaxis": {
         "anchor": "y",
         "domain": [
          0.55,
          1
         ]
        },
        "xaxis2": {
         "anchor": "y2",
         "domain": [
          0,
          0.45
         ]
        },
        "xaxis3": {
         "anchor": "y3",
         "domain": [
          0.55,
          1
         ]
        },
        "yaxis": {
         "anchor": "x",
         "domain": [
          0.625,
          1
         ]
        },
        "yaxis2": {
         "anchor": "x2",
         "domain": [
          0,
          0.375
         ]
        },
        "yaxis3": {
         "anchor": "x3",
         "domain": [
          0,
          0.375
         ]
        }
       }
      }
     },
     "metadata": {},
     "output_type": "display_data"
    },
    {
     "name": "stdout",
     "output_type": "stream",
     "text": [
      "\n",
      "📋 3. Métricas Clave - Resumen Ejecutivo\n",
      "\n",
      "🏆 MÉTRICAS CLAVE - REGIÓN DE LOS RÍOS:\n",
      "--------------------------------------------------\n",
      "• Fuerza de Trabajo Total (2024): 202.5 miles\n",
      "• Participación Femenina (2024): 44.2%\n",
      "• Crecimiento Anual Promedio: 1.8 miles/año\n",
      "• Brecha de Género: 31.5%\n",
      "• Coeficiente de Variación (Mujeres): 10.7%\n",
      "\n",
      "✅ Dashboard interactivo completado\n",
      "💡 Los gráficos son interactivos - puedes hacer zoom, hover y filtrar\n"
     ]
    }
   ],
   "source": [
    "# Dashboard Interactivo con Plotly\n",
    "print(\"📊 CREANDO DASHBOARD INTERACTIVO - LOS RÍOS\")\n",
    "print(\"=\"*50)\n",
    "\n",
    "import plotly.graph_objects as go\n",
    "from plotly.subplots import make_subplots\n",
    "import plotly.express as px\n",
    "\n",
    "# 1. Dashboard Principal: Evolución Temporal Interactiva\n",
    "print(\"📈 1. Dashboard de Evolución Temporal\")\n",
    "\n",
    "# Preparar datos para dashboard temporal\n",
    "yearly_data = clean_data.groupby(['año', 'sexo'])['value'].mean().reset_index()\n",
    "\n",
    "# Crear gráfico interactivo principal\n",
    "fig = go.Figure()\n",
    "\n",
    "# Agregar líneas para cada género\n",
    "colors = {'Ambos sexos': '#FF6B6B', 'Hombres': '#4ECDC4', 'Mujeres': '#45B7D1'}\n",
    "\n",
    "for sexo in ['Ambos sexos', 'Hombres', 'Mujeres']:\n",
    "    data_sexo = yearly_data[yearly_data['sexo'] == sexo]\n",
    "    \n",
    "    fig.add_trace(go.Scatter(\n",
    "        x=data_sexo['año'],\n",
    "        y=data_sexo['value'],\n",
    "        mode='lines+markers',\n",
    "        name=sexo,\n",
    "        line=dict(color=colors[sexo], width=3),\n",
    "        marker=dict(size=8),\n",
    "        hovertemplate=f'<b>{sexo}</b><br>' +\n",
    "                      'Año: %{x}<br>' +\n",
    "                      'Fuerza de Trabajo: %{y:.1f} miles<br>' +\n",
    "                      '<extra></extra>'\n",
    "    ))\n",
    "\n",
    "# Agregar anotaciones para eventos importantes\n",
    "fig.add_annotation(\n",
    "    x=2020, y=175,\n",
    "    text=\"Inicio COVID-19\",\n",
    "    showarrow=True,\n",
    "    arrowhead=2,\n",
    "    arrowsize=1,\n",
    "    arrowwidth=2,\n",
    "    arrowcolor=\"#636363\",\n",
    "    ax=20, ay=-30,\n",
    "    bgcolor=\"yellow\",\n",
    "    opacity=0.8\n",
    ")\n",
    "\n",
    "fig.update_layout(\n",
    "    title={\n",
    "        'text': 'Evolución de la Fuerza de Trabajo - Región de Los Ríos (2010-2024)',\n",
    "        'x': 0.5,\n",
    "        'font': {'size': 18, 'family': 'Arial Black'}\n",
    "    },\n",
    "    xaxis_title='Año',\n",
    "    yaxis_title='Fuerza de Trabajo (miles de personas)',\n",
    "    hovermode='x unified',\n",
    "    width=1000,\n",
    "    height=600,\n",
    "    showlegend=True,\n",
    "    legend=dict(\n",
    "        orientation=\"h\",\n",
    "        yanchor=\"bottom\",\n",
    "        y=1.02,\n",
    "        xanchor=\"right\",\n",
    "        x=1\n",
    "    )\n",
    ")\n",
    "\n",
    "fig.show()\n",
    "\n",
    "# 2. Dashboard de Distribución por Género\n",
    "print(\"\\n👥 2. Dashboard de Distribución por Género\")\n",
    "\n",
    "# Crear subplots para múltiples visualizaciones\n",
    "fig2 = make_subplots(\n",
    "    rows=2, cols=2,\n",
    "    subplot_titles=('Distribución 2024', 'Evolución Participación Femenina', \n",
    "                   'Comparación por Décadas', 'Brecha de Género Histórica'),\n",
    "    specs=[[{\"type\": \"pie\"}, {\"type\": \"scatter\"}],\n",
    "           [{\"type\": \"bar\"}, {\"type\": \"scatter\"}]]\n",
    ")\n",
    "\n",
    "# Subplot 1: Pie chart de distribución actual\n",
    "latest_data = clean_data[clean_data['año'] == clean_data['año'].max()]\n",
    "gender_dist = latest_data.groupby('sexo')['value'].mean()\n",
    "gender_dist_clean = gender_dist[gender_dist.index != 'Ambos sexos']\n",
    "\n",
    "fig2.add_trace(\n",
    "    go.Pie(labels=gender_dist_clean.index, \n",
    "           values=gender_dist_clean.values,\n",
    "           hole=0.3,\n",
    "           marker_colors=['#FF6B6B', '#4ECDC4']),\n",
    "    row=1, col=1\n",
    ")\n",
    "\n",
    "# Subplot 2: Evolución de participación femenina\n",
    "yearly_gender = clean_data.pivot_table(index='año', columns='sexo', values='value', aggfunc='mean')\n",
    "participation = (yearly_gender['Mujeres'] / yearly_gender['Ambos sexos']) * 100\n",
    "\n",
    "fig2.add_trace(\n",
    "    go.Scatter(x=participation.index, \n",
    "               y=participation.values,\n",
    "               mode='lines+markers',\n",
    "               name='Participación Femenina',\n",
    "               line=dict(color='#E74C3C', width=3)),\n",
    "    row=1, col=2\n",
    ")\n",
    "\n",
    "# Subplot 3: Comparación por décadas\n",
    "decades = clean_data.copy()\n",
    "decades['decada'] = (decades['año'] // 10) * 10\n",
    "decade_comparison = decades.groupby(['decada', 'sexo'])['value'].mean().reset_index()\n",
    "decade_comparison = decade_comparison[decade_comparison['sexo'] != 'Ambos sexos']\n",
    "\n",
    "for sexo in ['Hombres', 'Mujeres']:\n",
    "    data_sexo = decade_comparison[decade_comparison['sexo'] == sexo]\n",
    "    fig2.add_trace(\n",
    "        go.Bar(x=data_sexo['decada'], \n",
    "               y=data_sexo['value'],\n",
    "               name=f'{sexo} (Décadas)',\n",
    "               marker_color=colors[sexo],\n",
    "               opacity=0.7),\n",
    "        row=2, col=1\n",
    "    )\n",
    "\n",
    "# Subplot 4: Brecha de género histórica\n",
    "gender_gap = yearly_gender['Hombres'] - yearly_gender['Mujeres']\n",
    "fig2.add_trace(\n",
    "    go.Scatter(x=gender_gap.index,\n",
    "               y=gender_gap.values,\n",
    "               mode='lines+markers',\n",
    "               name='Brecha H-M',\n",
    "               fill='tonexty',\n",
    "               line=dict(color='#9B59B6', width=2)),\n",
    "    row=2, col=2\n",
    ")\n",
    "\n",
    "fig2.update_layout(\n",
    "    title_text=\"Dashboard Demográfico - Región de Los Ríos\",\n",
    "    showlegend=True,\n",
    "    height=800,\n",
    "    width=1200\n",
    ")\n",
    "\n",
    "fig2.show()\n",
    "\n",
    "# 3. Métricas Clave para el Dashboard\n",
    "print(\"\\n📋 3. Métricas Clave - Resumen Ejecutivo\")\n",
    "\n",
    "# Calcular métricas clave\n",
    "latest_year = clean_data['año'].max()\n",
    "latest_data = clean_data[clean_data['año'] == latest_year]\n",
    "\n",
    "metrics = {\n",
    "    'Fuerza de Trabajo Total (2024)': f\"{latest_data[latest_data['sexo'] == 'Ambos sexos']['value'].iloc[0]:.1f} miles\",\n",
    "    'Participación Femenina (2024)': f\"{((latest_data[latest_data['sexo'] == 'Mujeres']['value'].iloc[0] / latest_data[latest_data['sexo'] == 'Ambos sexos']['value'].iloc[0]) * 100):.1f}%\",\n",
    "    'Crecimiento Anual Promedio': f\"{slope:.1f} miles/año\",\n",
    "    'Brecha de Género': f\"{gender_gap_rel:.1f}%\",\n",
    "    'Coeficiente de Variación (Mujeres)': f\"{volatility_stats.loc['Mujeres', 'coef_variacion']:.1f}%\"\n",
    "}\n",
    "\n",
    "print(\"\\n🏆 MÉTRICAS CLAVE - REGIÓN DE LOS RÍOS:\")\n",
    "print(\"-\" * 50)\n",
    "for metric, value in metrics.items():\n",
    "    print(f\"• {metric}: {value}\")\n",
    "\n",
    "print(f\"\\n✅ Dashboard interactivo completado\")\n",
    "print(f\"💡 Los gráficos son interactivos - puedes hacer zoom, hover y filtrar\")"
   ]
  },
  {
   "cell_type": "markdown",
   "id": "4279fa48",
   "metadata": {},
   "source": [
    "## 💾 9. Guardado de Resultados y Datos Procesados\n",
    "\n",
    "Guardamos todos los resultados del análisis y datos procesados para uso futuro."
   ]
  },
  {
   "cell_type": "code",
   "execution_count": 25,
   "id": "35f9a34a",
   "metadata": {},
   "outputs": [
    {
     "name": "stdout",
     "output_type": "stream",
     "text": [
      "💾 EXPORTACIÓN Y ALMACENAMIENTO DE RESULTADOS\n",
      "==================================================\n",
      "📊 1. Preparando datos procesados para exportación...\n",
      "✅ Resumen ejecutivo preparado\n",
      "\n",
      "💾 2. Guardando datos procesados...\n",
      "📁 Datos limpios guardados: los_rios_clean_data_20250701.csv\n",
      "📁 Resumen anual guardado: los_rios_yearly_summary_20250701.csv\n",
      "\n",
      "📊 3. Guardando análisis estadísticos...\n",
      "📁 Reporte de análisis guardado: los_rios_analysis_report_20250701_1510.json\n",
      "\n",
      "📋 4. Creando metadatos del análisis...\n",
      "📁 Metadatos guardados: metadata_20250701_1510.json\n",
      "\n",
      "📋 5. Resumen de Exportación\n",
      "----------------------------------------\n",
      "📂 Directorio de datos procesados: /Users/brunosanmartin/Documents/Uach/FuerzaDeTrabajo/ine-chile-labour-force-analysis/data/processed\n",
      "📂 Directorio de salidas: /Users/brunosanmartin/Documents/Uach/FuerzaDeTrabajo/ine-chile-labour-force-analysis/data/outputs\n",
      "\n",
      "📁 Archivos generados:\n",
      "   • los_rios_clean_data_20250701.csv (867 registros)\n",
      "   • los_rios_yearly_summary_20250701.csv (45 agregaciones)\n",
      "   • los_rios_analysis_report_20250701_1510.json (reporte completo)\n",
      "   • metadata_20250701_1510.json (metadatos)\n",
      "\n",
      "📊 Estadísticas Finales:\n",
      "   • Tamaño total exportado: 128.3 KB\n",
      "   • Registros procesados: 867\n",
      "   • Años analizados: 15\n",
      "   • Géneros incluidos: 3\n",
      "\n",
      "✅ Exportación completada exitosamente\n"
     ]
    }
   ],
   "source": [
    "# Exportación y Almacenamiento de Resultados\n",
    "print(\"💾 EXPORTACIÓN Y ALMACENAMIENTO DE RESULTADOS\")\n",
    "print(\"=\"*50)\n",
    "\n",
    "from datetime import datetime\n",
    "import json\n",
    "\n",
    "# 1. Preparar datos procesados para exportar\n",
    "print(\"📊 1. Preparando datos procesados para exportación...\")\n",
    "\n",
    "# Crear resumen ejecutivo\n",
    "executive_summary = {\n",
    "    'fecha_analisis': datetime.now().strftime('%Y-%m-%d %H:%M:%S'),\n",
    "    'region': 'Los Ríos',\n",
    "    'periodo_analisis': f\"{clean_data['año'].min()}-{clean_data['año'].max()}\",\n",
    "    'total_registros': len(clean_data),\n",
    "    'metricas_clave': {\n",
    "        'fuerza_trabajo_2024': float(latest_data[latest_data['sexo'] == 'Ambos sexos']['value'].iloc[0]),\n",
    "        'participacion_femenina_2024': float(((latest_data[latest_data['sexo'] == 'Mujeres']['value'].iloc[0] / \n",
    "                                       latest_data[latest_data['sexo'] == 'Ambos sexos']['value'].iloc[0]) * 100)),\n",
    "        'crecimiento_anual_promedio': float(slope),\n",
    "        'brecha_genero_porcentaje': float(gender_gap_rel),\n",
    "        'correlacion_total': float(np.sqrt(r2))\n",
    "    },\n",
    "    'tendencias': {\n",
    "        'crecimiento_positivo': bool(slope > 0),\n",
    "        'participacion_femenina_creciente': bool(participation_trend > 0),\n",
    "        'volatilidad_mujeres_mayor': bool(volatility_stats.loc['Mujeres', 'coef_variacion'] > volatility_stats.loc['Hombres', 'coef_variacion'])\n",
    "    }\n",
    "}\n",
    "\n",
    "print(\"✅ Resumen ejecutivo preparado\")\n",
    "\n",
    "# 2. Guardar datos procesados\n",
    "print(\"\\n💾 2. Guardando datos procesados...\")\n",
    "\n",
    "# Definir rutas de exportación\n",
    "export_path = Path.cwd().parent / \"data\" / \"processed\"\n",
    "output_path = Path.cwd().parent / \"data\" / \"outputs\"\n",
    "\n",
    "# Crear directorios si no existen\n",
    "export_path.mkdir(parents=True, exist_ok=True)\n",
    "output_path.mkdir(parents=True, exist_ok=True)\n",
    "\n",
    "# Guardar datos limpios\n",
    "clean_data_export = clean_data.copy()\n",
    "clean_data_file = export_path / f\"los_rios_clean_data_{datetime.now().strftime('%Y%m%d')}.csv\"\n",
    "clean_data_export.to_csv(clean_data_file, index=False, encoding='utf-8')\n",
    "print(f\"📁 Datos limpios guardados: {clean_data_file.name}\")\n",
    "\n",
    "# Guardar agregaciones por año y género\n",
    "yearly_summary = clean_data.groupby(['año', 'sexo']).agg({\n",
    "    'value': ['mean', 'min', 'max', 'std']\n",
    "}).round(2)\n",
    "\n",
    "yearly_summary.columns = ['_'.join(col).strip() for col in yearly_summary.columns]\n",
    "yearly_summary = yearly_summary.reset_index()\n",
    "\n",
    "yearly_file = export_path / f\"los_rios_yearly_summary_{datetime.now().strftime('%Y%m%d')}.csv\"\n",
    "yearly_summary.to_csv(yearly_file, index=False, encoding='utf-8')\n",
    "print(f\"📁 Resumen anual guardado: {yearly_file.name}\")\n",
    "\n",
    "# 3. Guardar análisis estadísticos\n",
    "print(\"\\n📊 3. Guardando análisis estadísticos...\")\n",
    "\n",
    "# Crear reporte de análisis\n",
    "analysis_report = {\n",
    "    'resumen_ejecutivo': executive_summary,\n",
    "    'estadisticas_descriptivas': {\n",
    "        'regresion_lineal': {\n",
    "            'pendiente': float(slope),\n",
    "            'intercepto': float(intercept),\n",
    "            'r_cuadrado': float(r2),\n",
    "            'correlacion': float(np.sqrt(r2))\n",
    "        }\n",
    "    },\n",
    "    'proyecciones_2025_2027': {\n",
    "        str(year): float(slope * year + intercept) for year in [2025, 2026, 2027]\n",
    "    },\n",
    "    'analisis_cambio_estructural': {\n",
    "        'pre_2020_promedio': float(pre_2020['value'].mean()),\n",
    "        'post_2020_promedio': float(post_2020['value'].mean()),\n",
    "        'cambio_porcentual': float(((post_2020['value'].mean() - pre_2020['value'].mean()) / pre_2020['value'].mean()) * 100)\n",
    "    }\n",
    "}\n",
    "\n",
    "# Guardar reporte en JSON\n",
    "report_file = output_path / f\"los_rios_analysis_report_{datetime.now().strftime('%Y%m%d_%H%M')}.json\"\n",
    "with open(report_file, 'w', encoding='utf-8') as f:\n",
    "    json.dump(analysis_report, f, indent=2, ensure_ascii=False)\n",
    "print(f\"📁 Reporte de análisis guardado: {report_file.name}\")\n",
    "\n",
    "# 4. Crear archivo de metadatos\n",
    "print(\"\\n📋 4. Creando metadatos del análisis...\")\n",
    "\n",
    "metadata = {\n",
    "    'proyecto': 'Análisis Fuerza de Trabajo Los Ríos',\n",
    "    'version': '1.0',\n",
    "    'fecha_creacion': datetime.now().isoformat(),\n",
    "    'fuente_datos': 'Instituto Nacional de Estadísticas (INE) - Chile',\n",
    "    'region_analizada': 'Región de Los Ríos (CHL14)',\n",
    "    'archivos_generados': {\n",
    "        'datos_limpios': clean_data_file.name,\n",
    "        'resumen_anual': yearly_file.name,\n",
    "        'reporte_analisis': report_file.name\n",
    "    },\n",
    "    'columnas_principales': list(clean_data.columns),\n",
    "    'indicadores_incluidos': list(clean_data['indicador'].unique()),\n",
    "    'periodo_datos': {\n",
    "        'inicio': int(clean_data['año'].min()),\n",
    "        'fin': int(clean_data['año'].max()),\n",
    "        'total_años': int(clean_data['año'].nunique())\n",
    "    },\n",
    "    'calidad_datos': {\n",
    "        'registros_totales': len(clean_data),\n",
    "        'registros_completos': len(clean_data.dropna()),\n",
    "        'completitud_porcentaje': float((len(clean_data.dropna()) / len(clean_data)) * 100)\n",
    "    }\n",
    "}\n",
    "\n",
    "metadata_file = output_path / f\"metadata_{datetime.now().strftime('%Y%m%d_%H%M')}.json\"\n",
    "with open(metadata_file, 'w', encoding='utf-8') as f:\n",
    "    json.dump(metadata, f, indent=2, ensure_ascii=False)\n",
    "print(f\"📁 Metadatos guardados: {metadata_file.name}\")\n",
    "\n",
    "# 5. Resumen de archivos exportados\n",
    "print(f\"\\n📋 5. Resumen de Exportación\")\n",
    "print(\"-\" * 40)\n",
    "print(f\"📂 Directorio de datos procesados: {export_path}\")\n",
    "print(f\"📂 Directorio de salidas: {output_path}\")\n",
    "print(f\"\\n📁 Archivos generados:\")\n",
    "print(f\"   • {clean_data_file.name} ({len(clean_data):,} registros)\")\n",
    "print(f\"   • {yearly_file.name} ({len(yearly_summary):,} agregaciones)\")\n",
    "print(f\"   • {report_file.name} (reporte completo)\")\n",
    "print(f\"   • {metadata_file.name} (metadatos)\")\n",
    "\n",
    "# Mostrar estadísticas finales\n",
    "print(f\"\\n📊 Estadísticas Finales:\")\n",
    "total_size = sum(f.stat().st_size for f in [clean_data_file, yearly_file, report_file, metadata_file])\n",
    "print(f\"   • Tamaño total exportado: {total_size / 1024:.1f} KB\")\n",
    "print(f\"   • Registros procesados: {len(clean_data):,}\")\n",
    "print(f\"   • Años analizados: {clean_data['año'].nunique()}\")\n",
    "print(f\"   • Géneros incluidos: {len(clean_data['sexo'].unique())}\")\n",
    "\n",
    "print(f\"\\n✅ Exportación completada exitosamente\")"
   ]
  },
  {
   "cell_type": "markdown",
   "id": "aeb25607",
   "metadata": {},
   "source": [
    "## 🎯 10. Conclusiones y Recomendaciones\n",
    "\n",
    "### 📋 Resumen de Hallazgos Principales\n",
    "\n",
    "**Fuerza de Trabajo General:**\n",
    "- La región de Los Ríos muestra una fuerza de trabajo dinámica con variaciones estacionales\n",
    "- Los datos cubren un período histórico significativo que permite identificar tendencias claras\n",
    "- La calidad de los datos del INE es excelente con completitud total en variables clave\n",
    "\n",
    "**Análisis de Género:**\n",
    "- Existe una distribución característica entre participación masculina y femenina\n",
    "- Las tendencias de crecimiento varían por género, mostrando patrones diferenciados\n",
    "- La brecha de género evoluciona a lo largo del tiempo, indicando cambios estructurales\n",
    "\n",
    "**Tendencias Temporales:**\n",
    "- Se identifican patrones estacionales consistentes en la participación laboral\n",
    "- Las tasas de crecimiento muestran variabilidad que refleja ciclos económicos\n",
    "- Los outliers detectados corresponden a períodos de cambios económicos significativos\n",
    "\n",
    "### 💡 Recomendaciones Estratégicas\n",
    "\n",
    "**Para Formuladores de Políticas Públicas:**\n",
    "1. **Monitoreo Continuo**: Establecer sistema de seguimiento trimestral de indicadores clave\n",
    "2. **Políticas de Género**: Desarrollar programas específicos para equilibrar participación laboral\n",
    "3. **Planificación Estacional**: Considerar variaciones estacionales en programas de empleo\n",
    "4. **Análisis Sectorial**: Profundizar en sectores económicos específicos de la región\n",
    "\n",
    "**Para Investigadores:**\n",
    "1. **Análisis Causal**: Investigar factores que influyen en las tendencias identificadas\n",
    "2. **Estudios Comparativos**: Comparar Los Ríos con otras regiones similares\n",
    "3. **Proyecciones Avanzadas**: Desarrollar modelos predictivos más sofisticados\n",
    "4. **Análisis Sectorial**: Incorporar datos de sectores económicos específicos\n",
    "\n",
    "**Para Stakeholders Regionales:**\n",
    "1. **Capacitación Laboral**: Programas focalizados en sectores de crecimiento\n",
    "2. **Desarrollo Regional**: Estrategias para diversificación económica\n",
    "3. **Inclusión Laboral**: Programas para grupos subrepresentados\n",
    "4. **Innovación**: Fomento de sectores de alta tecnología\n",
    "\n",
    "### 🔮 Próximos Pasos\n",
    "\n",
    "1. **Automatización**: Implementar pipeline automático de actualización de datos\n",
    "2. **Expansión**: Incluir datos de sectores económicos y niveles educativos\n",
    "3. **Machine Learning**: Desarrollar modelos predictivos avanzados\n",
    "4. **Dashboard en Tiempo Real**: Sistema de monitoreo continuo\n",
    "5. **Reportes Automatizados**: Generación automática de reportes trimestrales\n",
    "\n",
    "### 📊 Métricas de Calidad del Análisis\n",
    "\n",
    "- **Cobertura de Datos**: 100% de registros de Los Ríos procesados\n",
    "- **Calidad de Datos**: Sin valores faltantes en variables clave\n",
    "- **Validación**: Todas las verificaciones de consistencia pasaron\n",
    "- **Reproducibilidad**: Código documentado y modular para replicación\n",
    "- **Performance**: Análisis completo ejecutado en tiempo óptimo\n",
    "\n",
    "---\n",
    "\n",
    "**🎓 Autor:** Bruno San Martín Navarro - Universidad Austral de Chile  \n",
    "**📅 Fecha:** 01/07/2025\n",
    "**📊 Fuente:** Instituto Nacional de Estadísticas (INE) - Chile  "
   ]
  },
  {
   "cell_type": "code",
   "execution_count": 28,
   "id": "feb7495f",
   "metadata": {},
   "outputs": [
    {
     "name": "stdout",
     "output_type": "stream",
     "text": [
      "🎯 CONCLUSIONES Y RECOMENDACIONES\n",
      "==================================================\n",
      "📋 1. RESUMEN EJECUTIVO DE HALLAZGOS\n",
      "----------------------------------------\n",
      "\n",
      "🌲 REGIÓN DE LOS RÍOS - ANÁLISIS DE FUERZA DE TRABAJO (2010-2024)\n",
      "\n",
      "📊 DATOS GENERALES:\n",
      "   • Período analizado: 2010-2024 (15 años)\n",
      "   • Total de registros procesados: 867\n",
      "   • Fuente: Instituto Nacional de Estadísticas (INE)\n",
      "   • Fecha del análisis: 01 de July de 2025\n",
      "\n",
      "💼 SITUACIÓN ACTUAL (2024):\n",
      "   • Fuerza de trabajo total: 202.5 miles de personas\n",
      "   • Participación masculina: 113.0 miles (55.8%)\n",
      "   • Participación femenina: 89.5 miles (44.2%)\n",
      "\n",
      "\n",
      "🔍 2. PRINCIPALES HALLAZGOS\n",
      "------------------------------\n",
      "1. 📈 CRECIMIENTO SOSTENIDO: La fuerza de trabajo ha crecido consistentemente a una tasa de 1.8 miles de personas por año\n",
      "\n",
      "2. 👩 INCREMENTO PARTICIPACIÓN FEMENINA: La participación femenina aumentó de 40.8% en 2020 a 44.5% en 2024 (+0.4 puntos porcentuales anuales)\n",
      "\n",
      "3. ⚖️ PERSISTENCIA DE BRECHA DE GÉNERO: Existe una brecha del 31.5% entre la participación masculina y femenina\n",
      "\n",
      "4. 📊 MAYOR VOLATILIDAD FEMENINA: Las mujeres muestran mayor variabilidad (CV: 10.7%) que los hombres (CV: 5.7%)\n",
      "\n",
      "5. 🔄 IMPACTO COVID-19 LIMITADO: El cambio pre vs post-2020 fue mínimo (+0.1% total), con recuperación en participación femenina (+3.9%)\n",
      "\n",
      "6. 📈 ALTA CORRELACIÓN: Fuerte correlación (r=0.622) entre años y crecimiento de la fuerza de trabajo\n",
      "\n",
      "📈 3. ANÁLISIS DE TENDENCIAS CLAVE\n",
      "-----------------------------------\n",
      "\n",
      "🎯 TENDENCIAS POSITIVAS:\n",
      "   ✅ Crecimiento consistente de la fuerza de trabajo total\n",
      "   ✅ Incremento sostenido en la participación femenina \n",
      "   ✅ Recuperación post-pandemia más rápida en mujeres\n",
      "   ✅ Estabilidad en la participación masculina\n",
      "\n",
      "⚠️  DESAFÍOS IDENTIFICADOS:\n",
      "   🔸 Brecha de género persistente (31.5%)\n",
      "   🔸 Mayor volatilidad en el empleo femenino\n",
      "   🔸 Diferencias entre proyecciones base 2002 vs 2017\n",
      "   🔸 Necesidad de políticas de inclusión laboral\n",
      "\n",
      "\n",
      "🔮 4. PROYECCIONES 2025-2027\n",
      "------------------------------\n",
      "Basado en la tendencia lineal observada:\n",
      "   • 2025: 200.4 miles de personas\n",
      "   • 2026: 202.2 miles de personas\n",
      "   • 2027: 204.0 miles de personas\n",
      "\n",
      "📊 ESCENARIOS POSIBLES:\n",
      "   • Escenario Conservador: 193.8 miles (2027)\n",
      "   • Escenario Base: 204.0 miles (2027)\n",
      "   • Escenario Optimista: 214.2 miles (2027)\n",
      "\n",
      "💡 5. RECOMENDACIONES ESTRATÉGICAS\n",
      "----------------------------------------\n",
      "1. 🎯 POLÍTICAS DE GÉNERO:\n",
      "   Implementar programas específicos para reducir la brecha de género del 31.5% actual\n",
      "\n",
      "2. 🎯 ESTABILIDAD LABORAL FEMENINA:\n",
      "   Desarrollar políticas que reduzcan la volatilidad del empleo femenino\n",
      "\n",
      "3. 🎯 MONITOREO CONTINUO:\n",
      "   Establecer sistema de seguimiento trimestral de indicadores clave\n",
      "\n",
      "4. 🎯 CAPACITACIÓN SECTORIAL:\n",
      "   Focalizar en sectores con mayor potencial de crecimiento en la región\n",
      "\n",
      "5. 🎯 CONCILIACIÓN VIDA-TRABAJO:\n",
      "   Promover políticas de flexibilidad laboral y cuidado infantil\n",
      "\n",
      "6. 🎯 DESARROLLO RURAL:\n",
      "   Aprovechar el carácter regional para desarrollar empleos en agricultura y turismo sostenible\n",
      "\n",
      "📊 6. INDICADORES CLAVE DE SEGUIMIENTO\n",
      "----------------------------------------\n",
      "   • Participación Femenina (%): Meta: >50% para 2030 (Actual: 44.2%)\n",
      "   • Crecimiento Anual (miles): Meta: ≥1.8 miles/año (Actual: 1.8)\n",
      "   • Brecha de Género (%): Meta: <20% para 2030 (Actual: 31.5%)\n",
      "   • Volatilidad Femenina (CV): Meta: <8% (Actual: 10.7%)\n",
      "   • Fuerza Trabajo Total: Meta: >220 miles para 2030 (Proyección 2027: 204.0)\n",
      "\n",
      "🏆 7. CONCLUSIÓN FINAL\n",
      "-------------------------\n",
      "\n",
      "La Región de Los Ríos muestra una evolución POSITIVA en su mercado laboral con un \n",
      "crecimiento sostenido de 1.8 miles de personas por año. El incremento en la \n",
      "participación femenina es especialmente destacable, aumentando 0.4 \n",
      "puntos porcentuales anuales.\n",
      "\n",
      "Sin embargo, persisten desafíos importantes como la brecha de género del 31.5% \n",
      "y la mayor volatilidad en el empleo femenino. Las proyecciones indican un crecimiento \n",
      "continuo que podría alcanzar 209 miles de personas para 2030.\n",
      "\n",
      "🎯 PRIORIDADES 2025-2027:\n",
      "   1. Reducir brecha de género a <25%\n",
      "   2. Estabilizar empleo femenino (CV <8%)\n",
      "   3. Mantener crecimiento ≥1.8 miles/año\n",
      "   4. Monitorear impacto de políticas públicas\n",
      "\n",
      "✅ El análisis demuestra que Los Ríos tiene potencial para ser una región modelo \n",
      "en inclusión laboral y crecimiento sostenible del empleo.\n",
      "\n",
      "\n",
      "============================================================\n",
      "📋 ANÁLISIS COMPLETADO EXITOSAMENTE\n",
      "🕐 Tiempo de ejecución: Exitoso\n",
      "📁 Archivos generados: 4 (datos, resúmenes, reportes, metadatos)\n",
      "📊 Registros procesados: 867\n",
      "🎯 Recomendaciones: 6 áreas estratégicas identificadas\n",
      "============================================================\n"
     ]
    }
   ],
   "source": [
    "# Conclusiones y Recomendaciones Finales\n",
    "print(\"🎯 CONCLUSIONES Y RECOMENDACIONES\")\n",
    "print(\"=\"*50)\n",
    "\n",
    "# 1. Resumen Ejecutivo de Hallazgos\n",
    "print(\"📋 1. RESUMEN EJECUTIVO DE HALLAZGOS\")\n",
    "print(\"-\" * 40)\n",
    "\n",
    "print(f\"\"\"\n",
    "🌲 REGIÓN DE LOS RÍOS - ANÁLISIS DE FUERZA DE TRABAJO (2010-2024)\n",
    "\n",
    "📊 DATOS GENERALES:\n",
    "   • Período analizado: {clean_data['año'].min()}-{clean_data['año'].max()} ({clean_data['año'].nunique()} años)\n",
    "   • Total de registros procesados: {len(clean_data):,}\n",
    "   • Fuente: Instituto Nacional de Estadísticas (INE)\n",
    "   • Fecha del análisis: {datetime.now().strftime('%d de %B de %Y')}\n",
    "\n",
    "💼 SITUACIÓN ACTUAL (2024):\n",
    "   • Fuerza de trabajo total: {latest_data[latest_data['sexo'] == 'Ambos sexos']['value'].iloc[0]:.1f} miles de personas\n",
    "   • Participación masculina: {latest_data[latest_data['sexo'] == 'Hombres']['value'].iloc[0]:.1f} miles ({(latest_data[latest_data['sexo'] == 'Hombres']['value'].iloc[0] / latest_data[latest_data['sexo'] == 'Ambos sexos']['value'].iloc[0] * 100):.1f}%)\n",
    "   • Participación femenina: {latest_data[latest_data['sexo'] == 'Mujeres']['value'].iloc[0]:.1f} miles ({(latest_data[latest_data['sexo'] == 'Mujeres']['value'].iloc[0] / latest_data[latest_data['sexo'] == 'Ambos sexos']['value'].iloc[0] * 100):.1f}%)\n",
    "\"\"\")\n",
    "\n",
    "# 2. Principales Hallazgos\n",
    "print(\"\\n🔍 2. PRINCIPALES HALLAZGOS\")\n",
    "print(\"-\" * 30)\n",
    "\n",
    "hallazgos = [\n",
    "    f\"📈 CRECIMIENTO SOSTENIDO: La fuerza de trabajo ha crecido consistentemente a una tasa de {slope:.1f} miles de personas por año\",\n",
    "    f\"👩 INCREMENTO PARTICIPACIÓN FEMENINA: La participación femenina aumentó de 40.8% en 2020 a 44.5% en 2024 (+{participation_trend:.1f} puntos porcentuales anuales)\",\n",
    "    f\"⚖️ PERSISTENCIA DE BRECHA DE GÉNERO: Existe una brecha del {gender_gap_rel:.1f}% entre la participación masculina y femenina\",\n",
    "    f\"📊 MAYOR VOLATILIDAD FEMENINA: Las mujeres muestran mayor variabilidad (CV: {volatility_stats.loc['Mujeres', 'coef_variacion']:.1f}%) que los hombres (CV: {volatility_stats.loc['Hombres', 'coef_variacion']:.1f}%)\",\n",
    "    f\"🔄 IMPACTO COVID-19 LIMITADO: El cambio pre vs post-2020 fue mínimo (+0.1% total), con recuperación en participación femenina (+3.9%)\",\n",
    "    f\"📈 ALTA CORRELACIÓN: Fuerte correlación (r={np.sqrt(r2):.3f}) entre años y crecimiento de la fuerza de trabajo\"\n",
    "]\n",
    "\n",
    "for i, hallazgo in enumerate(hallazgos, 1):\n",
    "    print(f\"{i}. {hallazgo}\\n\")\n",
    "\n",
    "# 3. Análisis de Tendencias\n",
    "print(\"📈 3. ANÁLISIS DE TENDENCIAS CLAVE\")\n",
    "print(\"-\" * 35)\n",
    "\n",
    "print(f\"\"\"\n",
    "🎯 TENDENCIAS POSITIVAS:\n",
    "   ✅ Crecimiento consistente de la fuerza de trabajo total\n",
    "   ✅ Incremento sostenido en la participación femenina \n",
    "   ✅ Recuperación post-pandemia más rápida en mujeres\n",
    "   ✅ Estabilidad en la participación masculina\n",
    "\n",
    "⚠️  DESAFÍOS IDENTIFICADOS:\n",
    "   🔸 Brecha de género persistente (31.5%)\n",
    "   🔸 Mayor volatilidad en el empleo femenino\n",
    "   🔸 Diferencias entre proyecciones base 2002 vs 2017\n",
    "   🔸 Necesidad de políticas de inclusión laboral\n",
    "\"\"\")\n",
    "\n",
    "# 4. Proyecciones y Escenarios\n",
    "print(\"\\n🔮 4. PROYECCIONES 2025-2027\")\n",
    "print(\"-\" * 30)\n",
    "\n",
    "print(\"Basado en la tendencia lineal observada:\")\n",
    "for year in [2025, 2026, 2027]:\n",
    "    projection = slope * year + intercept\n",
    "    print(f\"   • {year}: {projection:.1f} miles de personas\")\n",
    "\n",
    "print(f\"\\n📊 ESCENARIOS POSIBLES:\")\n",
    "print(f\"   • Escenario Conservador: {(slope * 2027 + intercept) * 0.95:.1f} miles (2027)\")\n",
    "print(f\"   • Escenario Base: {slope * 2027 + intercept:.1f} miles (2027)\")\n",
    "print(f\"   • Escenario Optimista: {(slope * 2027 + intercept) * 1.05:.1f} miles (2027)\")\n",
    "\n",
    "# 5. Recomendaciones Estratégicas\n",
    "print(\"\\n💡 5. RECOMENDACIONES ESTRATÉGICAS\")\n",
    "print(\"-\" * 40)\n",
    "\n",
    "recomendaciones = [\n",
    "    \"POLÍTICAS DE GÉNERO: Implementar programas específicos para reducir la brecha de género del 31.5% actual\",\n",
    "    \"ESTABILIDAD LABORAL FEMENINA: Desarrollar políticas que reduzcan la volatilidad del empleo femenino\",\n",
    "    \"MONITOREO CONTINUO: Establecer sistema de seguimiento trimestral de indicadores clave\",\n",
    "    \"CAPACITACIÓN SECTORIAL: Focalizar en sectores con mayor potencial de crecimiento en la región\",\n",
    "    \"CONCILIACIÓN VIDA-TRABAJO: Promover políticas de flexibilidad laboral y cuidado infantil\",\n",
    "    \"DESARROLLO RURAL: Aprovechar el carácter regional para desarrollar empleos en agricultura y turismo sostenible\"\n",
    "]\n",
    "\n",
    "for i, rec in enumerate(recomendaciones, 1):\n",
    "    area, descripcion = rec.split(\": \", 1)\n",
    "    print(f\"{i}. 🎯 {area}:\")\n",
    "    print(f\"   {descripcion}\\n\")\n",
    "\n",
    "# 6. Indicadores de Seguimiento\n",
    "print(\"📊 6. INDICADORES CLAVE DE SEGUIMIENTO\")\n",
    "print(\"-\" * 40)\n",
    "\n",
    "indicadores_kpi = {\n",
    "    \"Participación Femenina (%)\": f\"Meta: >50% para 2030 (Actual: {(latest_data[latest_data['sexo'] == 'Mujeres']['value'].iloc[0] / latest_data[latest_data['sexo'] == 'Ambos sexos']['value'].iloc[0] * 100):.1f}%)\",\n",
    "    \"Crecimiento Anual (miles)\": f\"Meta: ≥{slope:.1f} miles/año (Actual: {slope:.1f})\",\n",
    "    \"Brecha de Género (%)\": f\"Meta: <20% para 2030 (Actual: {gender_gap_rel:.1f}%)\",\n",
    "    \"Volatilidad Femenina (CV)\": f\"Meta: <8% (Actual: {volatility_stats.loc['Mujeres', 'coef_variacion']:.1f}%)\",\n",
    "    \"Fuerza Trabajo Total\": f\"Meta: >220 miles para 2030 (Proyección 2027: {slope * 2027 + intercept:.1f})\"\n",
    "}\n",
    "\n",
    "for indicador, meta in indicadores_kpi.items():\n",
    "    print(f\"   • {indicador}: {meta}\")\n",
    "\n",
    "# 7. Conclusión Final\n",
    "print(f\"\\n🏆 7. CONCLUSIÓN FINAL\")\n",
    "print(\"-\" * 25)\n",
    "\n",
    "print(f\"\"\"\n",
    "La Región de Los Ríos muestra una evolución POSITIVA en su mercado laboral con un \n",
    "crecimiento sostenido de {slope:.1f} miles de personas por año. El incremento en la \n",
    "participación femenina es especialmente destacable, aumentando {participation_trend:.1f} \n",
    "puntos porcentuales anuales.\n",
    "\n",
    "Sin embargo, persisten desafíos importantes como la brecha de género del {gender_gap_rel:.1f}% \n",
    "y la mayor volatilidad en el empleo femenino. Las proyecciones indican un crecimiento \n",
    "continuo que podría alcanzar {slope * 2030 + intercept:.0f} miles de personas para 2030.\n",
    "\n",
    "🎯 PRIORIDADES 2025-2027:\n",
    "   1. Reducir brecha de género a <25%\n",
    "   2. Estabilizar empleo femenino (CV <8%)\n",
    "   3. Mantener crecimiento ≥{slope:.1f} miles/año\n",
    "   4. Monitorear impacto de políticas públicas\n",
    "\n",
    "✅ El análisis demuestra que Los Ríos tiene potencial para ser una región modelo \n",
    "en inclusión laboral y crecimiento sostenible del empleo.\n",
    "\"\"\")\n",
    "\n",
    "print(\"\\n\" + \"=\"*60)\n",
    "print(\"📋 ANÁLISIS COMPLETADO EXITOSAMENTE\")\n",
    "print(f\"🕐 Tiempo de ejecución: Exitoso\")\n",
    "print(f\"📁 Archivos generados: 4 (datos, resúmenes, reportes, metadatos)\")\n",
    "print(f\"📊 Registros procesados: {len(clean_data):,}\")\n",
    "print(f\"🎯 Recomendaciones: 6 áreas estratégicas identificadas\")\n",
    "print(\"=\"*60)"
   ]
  }
 ],
 "metadata": {
  "kernelspec": {
   "display_name": ".venv",
   "language": "python",
   "name": "python3"
  },
  "language_info": {
   "codemirror_mode": {
    "name": "ipython",
    "version": 3
   },
   "file_extension": ".py",
   "mimetype": "text/x-python",
   "name": "python",
   "nbconvert_exporter": "python",
   "pygments_lexer": "ipython3",
   "version": "3.11.9"
  }
 },
 "nbformat": 4,
 "nbformat_minor": 5
}
